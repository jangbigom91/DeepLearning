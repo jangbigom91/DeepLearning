{
 "cells": [
  {
   "cell_type": "markdown",
   "id": "b548b97e",
   "metadata": {},
   "source": [
    "## 참 거짓 판단 장치 : 로지스틱 회귀\n",
    "#### 로지스틱 회귀 : 선형 회귀와 마찬가지로 적절한 선을 그려가는 과정\n",
    "#### 다만 직선이 아니라, 참(1)과 거짓(0) 사이를 구분하는 S자 형태의 선을 그어 주는 작업"
   ]
  },
  {
   "cell_type": "markdown",
   "id": "0309f521",
   "metadata": {},
   "source": [
    "#### 시그모이드 함수(sigmoid function) : S자 형태로 그래프가 그려지는 함수\n",
    "#### ---> 로지스틱 회귀를 위해서 시그모이드 함수가 필요\n",
    "#### 시그모이드 함수 정의 -> 1 / (1 + np.e ** (-x))\n",
    "#### ▪ 시그모이드 함수의 특징은 y값이 0과 1 사이라는 것임\n",
    "#### ▪ 실제 값이 1일 때 예측 값이 0에 가까워지면 오차가 커짐\n",
    "#### ▪ 반대로, 실제 값이 0일 때 예측 값이 1에 가까워지는 경우에도 오차는 커짐"
   ]
  },
  {
   "cell_type": "code",
   "execution_count": 1,
   "id": "de00501b",
   "metadata": {},
   "outputs": [
    {
     "data": {
      "text/plain": [
       "(-0.1, 1.1)"
      ]
     },
     "execution_count": 1,
     "metadata": {},
     "output_type": "execute_result"
    },
    {
     "data": {
      "image/png": "[encoded data removed]",
      "text/plain": [
       "<Figure size 432x288 with 1 Axes>"
      ]
     },
     "metadata": {
      "needs_background": "light"
     },
     "output_type": "display_data"
    }
   ],
   "source": [
    "import numpy as np\n",
    "import pandas as pd\n",
    "import matplotlib.pyplot as plt\n",
    "\n",
    "# 공부시간 X와 성적 Y의 리스트를 만듭니다.\n",
    "data = [[2, 0], [4, 0], [6, 0], [8, 1], [10, 1], [12, 1], [14, 1]]\n",
    "\n",
    "x_data = [i[0] for i in data]\n",
    "y_data = [i[1] for i in data]\n",
    "\n",
    "# 그래프로 나타내 봅니다.\n",
    "plt.scatter(x_data, y_data)\n",
    "plt.xlim(0, 15)\n",
    "plt.ylim(-.1, 1.1)"
   ]
  },
  {
   "cell_type": "code",
   "execution_count": 4,
   "id": "a3bf4014",
   "metadata": {},
   "outputs": [
    {
     "name": "stdout",
     "output_type": "stream",
     "text": [
      "epoch=0, 기울기=-0.0500, 절편=-0.0250\n",
      "epoch=0, 기울기=-0.1388, 절편=-0.0472\n",
      "epoch=0, 기울기=-0.2268, 절편=-0.0619\n",
      "epoch=0, 기울기=0.1201, 절편=-0.0185\n",
      "epoch=0, 기울기=0.2374, 절편=-0.0068\n",
      "epoch=0, 기울기=0.2705, 절편=-0.0040\n",
      "epoch=0, 기울기=0.2860, 절편=-0.0029\n",
      "epoch=1000, 기울기=1.4978, 절편=-9.9401\n",
      "epoch=1000, 기울기=1.4940, 절편=-9.9411\n",
      "epoch=1000, 기울기=1.4120, 절편=-9.9547\n",
      "epoch=1000, 기울기=1.4949, 절편=-9.9444\n",
      "epoch=1000, 기울기=1.4982, 절편=-9.9440\n",
      "epoch=1000, 기울기=1.4984, 절편=-9.9440\n",
      "epoch=1000, 기울기=1.4985, 절편=-9.9440\n",
      "epoch=2000, 기울기=1.9065, 절편=-12.9489\n",
      "epoch=2000, 기울기=1.9055, 절편=-12.9491\n",
      "epoch=2000, 기울기=1.8515, 절편=-12.9581\n",
      "epoch=2000, 기울기=1.9057, 절편=-12.9514\n",
      "epoch=2000, 기울기=1.9068, 절편=-12.9513\n",
      "epoch=2000, 기울기=1.9068, 절편=-12.9513\n",
      "epoch=2000, 기울기=1.9068, 절편=-12.9513\n"
     ]
    }
   ],
   "source": [
    "# 기울기 a와 절편 b의 값을 초기화 합니다.\n",
    "a = 0\n",
    "b = 0\n",
    "\n",
    "# 학습률을 정합니다.\n",
    "lr = 0.05\n",
    "\n",
    "# 시그모이드 함수를 정의합니다.\n",
    "def sigmoid(x):\n",
    "    return 1 / (1 + np.e ** (-x))\n",
    "\n",
    "# 경사하강법 실행\n",
    "for i in range(2001):\n",
    "    for x_data, y_data in data:\n",
    "        a_diff = x_data * (sigmoid(a * x_data + b) - y_data)\n",
    "        b_diff = sigmoid(a * x_data + b) - y_data\n",
    "        \n",
    "        a = a - lr * a_diff\n",
    "        b = b - lr * b_diff\n",
    "        \n",
    "        if i % 1000 == 0:     # 1000번 반복될 때마다 각 x_data값에 대한 현재의 a값, b값을 출력합니다.\n",
    "            print(\"epoch=%.f, 기울기=%.04f, 절편=%.04f\" % (i, a, b))\n",
    "            \n",
    "\n",
    "            \n",
    "# 경사하강법 실행 결과(학습률=0.05, epoch=2001)\n",
    "# 기울기 a = 1.9068, y절편 b = 12.9513으로 수렴"
   ]
  },
  {
   "cell_type": "code",
   "execution_count": null,
   "id": "75518d40",
   "metadata": {},
   "outputs": [],
   "source": []
  }
 ],
 "metadata": {
  "kernelspec": {
   "display_name": "Python 3",
   "language": "python",
   "name": "python3"
  },
  "language_info": {
   "codemirror_mode": {
    "name": "ipython",
    "version": 3
   },
   "file_extension": ".py",
   "mimetype": "text/x-python",
   "name": "python",
   "nbconvert_exporter": "python",
   "pygments_lexer": "ipython3",
   "version": "3.8.9"
  }
 },
 "nbformat": 4,
 "nbformat_minor": 5
}
