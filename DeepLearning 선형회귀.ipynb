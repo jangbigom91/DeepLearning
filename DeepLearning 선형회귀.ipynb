{
 "cells": [
  {
   "cell_type": "markdown",
   "id": "f1240439",
   "metadata": {},
   "source": [
    "## 딥러닝을 위한 기초수학"
   ]
  },
  {
   "cell_type": "markdown",
   "id": "30c37142",
   "metadata": {},
   "source": [
    "#### ▪ 함수 : 두 집합 사이의 관계를 설명하는 수학 개념\n",
    "#### ▪ 변수 x와 y가 있을 때, x가 변하면 이에 따라 y는 어떤 규칙으로 변하는지를 나타냄\n",
    "#### ▪ 보통 함수를 나타낼 때는 function의 f와 변수 x를 사용해 라고 표시함\n",
    "#### ▪ 일차 함수 : x가 y에 관한 일차식으로 표현된 경우를 말함  y = ax + b(a!=0)\n",
    "#### ▪ x가 일차인 형태이며 x가 일차로 남으려면 a는 0이 아니어야 함\n",
    "#### ▪ 일차 함수식 y=ax+b에서 a는 기울기, b는 절편이라고 함"
   ]
  },
  {
   "cell_type": "markdown",
   "id": "7ca03606",
   "metadata": {},
   "source": [
    "#### ▪ 딥러닝의 수학 원리를 배울 때 초반부터 이 식이 등장함\n",
    "#### ▪ x가 주어지고 원하는 y값이 있을 때 적절한 a 와 b 를 찾는 것,\n",
    "#### 이것이 바로 딥러닝을 설명하는 가장 간단한 표현임"
   ]
  },
  {
   "cell_type": "markdown",
   "id": "98f94941",
   "metadata": {},
   "source": [
    "## 예측선 긋기 : 선형회귀"
   ]
  },
  {
   "cell_type": "markdown",
   "id": "d8aa9a5b",
   "metadata": {},
   "source": [
    "#### 전제 : ‘x값이 변함에 따라 y값도 변한다’\n",
    "#### 독립 변수 : 독립적으로 변할 수 있는 x값\n",
    "#### 종속 변수 : 독립 변수에 따라 종속적으로 변하는 값\n",
    "#### 선형 회귀 : 독립 변수 x를 사용해 종속 변수 y의 움직임을 예측하고 설명하는 작업\n",
    "#### 단순 선형 회귀(simple linear regression) : 하나의 x값 만으로도 y값 설명 가능\n",
    "#### 다중 선형 회귀(multiple linear regression) : y값 설명에 x값이 여러 개 필요할 때"
   ]
  },
  {
   "cell_type": "code",
   "execution_count": 1,
   "id": "66fc9f27",
   "metadata": {},
   "outputs": [
    {
     "name": "stdout",
     "output_type": "stream",
     "text": [
      "x의 평균값:  5.0\n",
      "y의 평균값:  90.5\n"
     ]
    }
   ],
   "source": [
    "import numpy as np\n",
    "\n",
    "# x값과 y값\n",
    "x = [2, 4, 6, 8]\n",
    "y = [81, 93, 91, 97]\n",
    "\n",
    "# x와 y의 평균값\n",
    "mx = np.mean(x)\n",
    "my = np.mean(y)\n",
    "print(\"x의 평균값: \", mx)\n",
    "print(\"y의 평균값: \", my)"
   ]
  },
  {
   "cell_type": "code",
   "execution_count": 2,
   "id": "74dc9efe",
   "metadata": {},
   "outputs": [
    {
     "name": "stdout",
     "output_type": "stream",
     "text": [
      "분모: 20.0\n",
      "분자: 46.0\n"
     ]
    }
   ],
   "source": [
    "# 기울기 공식의 분모\n",
    "# divisor(분모) : x의 각 원소와 x의 평균값들의 차를 제곱해서 더한다.\n",
    "divisor = sum([(mx - i) ** 2 for i in x])\n",
    "\n",
    "# 기울기 공식의 분자\n",
    "def top(x, mx, y, my):\n",
    "    d = 0\n",
    "    for i in range(len(x)):\n",
    "        d += (x[i] - mx) * (y[i] - my)\n",
    "    \n",
    "    return d\n",
    "\n",
    "dividend = top(x, mx, y, my)\n",
    "\n",
    "print(\"분모:\", divisor)\n",
    "print(\"분자:\", dividend)"
   ]
  },
  {
   "cell_type": "code",
   "execution_count": 3,
   "id": "b89121db",
   "metadata": {},
   "outputs": [],
   "source": [
    "# 기울기와 y절편 구하기\n",
    "a = dividend / divisor\n",
    "b = my - (mx * a)"
   ]
  },
  {
   "cell_type": "code",
   "execution_count": 4,
   "id": "1a3df51f",
   "metadata": {},
   "outputs": [
    {
     "name": "stdout",
     "output_type": "stream",
     "text": [
      "기울기 a = 2.3\n",
      "y 절편 b = 79.0\n"
     ]
    }
   ],
   "source": [
    "# 출력으로 확인\n",
    "print(\"기울기 a =\", a)\n",
    "print(\"y 절편 b =\", b)"
   ]
  },
  {
   "cell_type": "code",
   "execution_count": 5,
   "id": "51a44a42",
   "metadata": {},
   "outputs": [
    {
     "data": {
      "text/plain": [
       "<matplotlib.legend.Legend at 0x251ccc47a60>"
      ]
     },
     "execution_count": 5,
     "metadata": {},
     "output_type": "execute_result"
    },
    {
     "data": {
      "image/png": "[encoded data removed]",
      "text/plain": [
       "<Figure size 432x288 with 1 Axes>"
      ]
     },
     "metadata": {
      "needs_background": "light"
     },
     "output_type": "display_data"
    }
   ],
   "source": [
    "from matplotlib import pyplot as plt \n",
    "\n",
    "predict = []\n",
    "\n",
    "for i in x:\n",
    "    pre_y = a * i + b\n",
    "    predict.append(pre_y)\n",
    "\n",
    "plt.scatter(x, y, label = 'real')\n",
    "plt.plot(x, predict, c='r', label='predict')\n",
    "plt.legend()"
   ]
  },
  {
   "cell_type": "code",
   "execution_count": 6,
   "id": "6686fc02",
   "metadata": {},
   "outputs": [
    {
     "data": {
      "text/plain": [
       "<seaborn.axisgrid.FacetGrid at 0x251d88d9c70>"
      ]
     },
     "execution_count": 6,
     "metadata": {},
     "output_type": "execute_result"
    },
    {
     "data": {
      "image/png": "[encoded data removed]",
      "text/plain": [
       "<Figure size 360x360 with 1 Axes>"
      ]
     },
     "metadata": {
      "needs_background": "light"
     },
     "output_type": "display_data"
    }
   ],
   "source": [
    "import seaborn as sns\n",
    "import pandas as pd\n",
    "\n",
    "df = pd.DataFrame({'x': x, 'y': y})\n",
    "\n",
    "sns.lmplot(x = 'x', y = 'y', data = df, line_kws = {'color': 'red'})"
   ]
  },
  {
   "cell_type": "code",
   "execution_count": 7,
   "id": "e7ed13c8",
   "metadata": {},
   "outputs": [
    {
     "name": "stdout",
     "output_type": "stream",
     "text": [
      "공부시간=2, 실제점수=81, 예측점수=82\n",
      "공부시간=4, 실제점수=93, 예측점수=88\n",
      "공부시간=6, 실제점수=91, 예측점수=94\n",
      "공부시간=8, 실제점수=97, 예측점수=100\n",
      "MSE 최종값: 11.0\n"
     ]
    }
   ],
   "source": [
    "import numpy as np\n",
    "\n",
    "# 가상의 기울기 a와 y절편 b\n",
    "fake_a_b = [3, 76]\n",
    "\n",
    "# x값과 y값\n",
    "data = [[2, 81], [4, 93], [6, 91], [8, 97]]\n",
    "x = [i[0] for i in data]\n",
    "y = [i[1] for i in data]\n",
    "\n",
    "# y = ax + b에 a, b값 대입하여 결과를 출력하는 함수\n",
    "def predict(x):\n",
    "    return fake_a_b[0] * x + fake_a_b[1]\n",
    "\n",
    "# MSE 함수 : 평균제곱오차를 계산해주는 함수\n",
    "def mse(y, y_hat):\n",
    "    return ((y - y_hat) ** 2).mean()\n",
    "\n",
    "# MSE 함수를 각 y값에 대입하여 최종 값을 구하는 함수\n",
    "def mse_val(y, predict_result):\n",
    "    return mse(np.array(y), np.array(predict_result))\n",
    "\n",
    "#예측값이 들어갈 빈 리스트\n",
    "predict_result = []\n",
    "\n",
    "# 모든 x값을 한번씩 대입하여 predict_result 리스트 완성.\n",
    "for i in range(len(x)):\n",
    "    predict_result.append(predict(x[i]))\n",
    "    print(\"공부시간=%.f, 실제점수=%.f, 예측점수=%.f\" % (x[i], y[i], predict(x[i])))\n",
    "    \n",
    "# 최종 MSE 출력\n",
    "print(\"MSE 최종값: \" + str(mse_val(predict_result, y))) #처음 가정한 a=3, b=76은 오초가 약 11.0이라는 것 확인"
   ]
  },
  {
   "cell_type": "code",
   "execution_count": null,
   "id": "2d2a38b4",
   "metadata": {},
   "outputs": [],
   "source": []
  }
 ],
 "metadata": {
  "kernelspec": {
   "display_name": "Python 3",
   "language": "python",
   "name": "python3"
  },
  "language_info": {
   "codemirror_mode": {
    "name": "ipython",
    "version": 3
   },
   "file_extension": ".py",
   "mimetype": "text/x-python",
   "name": "python",
   "nbconvert_exporter": "python",
   "pygments_lexer": "ipython3",
   "version": "3.8.9"
  }
 },
 "nbformat": 4,
 "nbformat_minor": 5
}
