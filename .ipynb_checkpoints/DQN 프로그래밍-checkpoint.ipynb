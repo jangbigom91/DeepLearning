{
 "cells": [
  {
   "cell_type": "code",
   "execution_count": 7,
   "id": "bca36025",
   "metadata": {
    "ExecuteTime": {
     "end_time": "2021-05-28T06:43:31.622683Z",
     "start_time": "2021-05-28T06:43:31.614699Z"
    }
   },
   "outputs": [],
   "source": [
    "import numpy as np\n",
    "import random\n",
    "import gym\n",
    "import tensorflow as tf\n",
    "from tensorflow.keras.models import Sequential\n",
    "from tensorflow.keras.layers import Dense\n",
    "from tensorflow.keras.optimizers import Adam\n",
    "from collections import deque\n",
    "\n",
    "# 하이퍼 매개변수 설정\n",
    "rho = 0.9  # 학습률\n",
    "lamda = 0.99  # 할인율\n",
    "eps = 0.9\n",
    "eps_decay = 0.999\n",
    "batch_siz = 64\n",
    "n_episode = 100\n",
    "\n",
    "# 신경망을 설계해주는 함수\n",
    "def deep_network():\n",
    "    mlp = Sequential()\n",
    "    mlp.add(Dense(32, input_dim=env.observation_space.shape[0], activation='relu'))\n",
    "    mlp.add(Dense(32, activation='relu'))\n",
    "    mlp.add(Dense(env.action_space.n, activation='linear'))\n",
    "    mlp.compile(loss='mse', optimizer='Adam')\n",
    "    return mlp\n",
    "\n",
    "# DQN 학습\n",
    "def model_learning():\n",
    "    mini_batch = np.asarray(random.sample(D, batch_siz))\n",
    "    state = np.asarray([mini_batch[i, 0] for i in range(batch_siz)])\n",
    "    action = mini_batch[:, 1]\n",
    "    reward = mini_batch[:, 2]\n",
    "    state1 = np.asarray([mini_batch[i,3] for i in range(batch_siz)])\n",
    "    done = mini_batch[:, 4]\n",
    "    \n",
    "    target = model.predict(state)\n",
    "    target1 = model.predict(state1)\n",
    "    \n",
    "    for i in range(batch_siz):\n",
    "        if done[i]:\n",
    "            target[i][action[i]] = reward[i]\n",
    "        else:\n",
    "            target[i][action[i]] += rho*((reward[i] + lamda * np.amax(target1[i])) - target[i][action[i]])\n",
    "    \n",
    "    model.fit(state, target, batch_size=batch_siz, epochs=1, verbose=0)"
   ]
  },
  {
   "cell_type": "code",
   "execution_count": 8,
   "id": "2dd7cc27",
   "metadata": {
    "ExecuteTime": {
     "end_time": "2021-05-28T06:45:58.423836Z",
     "start_time": "2021-05-28T06:43:32.374409Z"
    }
   },
   "outputs": [
    {
     "name": "stderr",
     "output_type": "stream",
     "text": [
      "c:\\users\\ad\\appdata\\local\\programs\\python\\python38\\lib\\site-packages\\gym\\logger.py:30: UserWarning: \u001b[33mWARN: You are calling 'step()' even though this environment has already returned done = True. You should always call 'reset()' once you receive 'done = True' -- any further steps are undefined behavior.\u001b[0m\n",
      "  warnings.warn(colorize('%s: %s'%('WARN', msg % args), 'yellow'))\n",
      "c:\\users\\ad\\appdata\\local\\programs\\python\\python38\\lib\\site-packages\\numpy\\core\\_asarray.py:83: VisibleDeprecationWarning: Creating an ndarray from ragged nested sequences (which is a list-or-tuple of lists-or-tuples-or ndarrays with different lengths or shapes) is deprecated. If you meant to do this, you must specify 'dtype=object' when creating the ndarray\n",
      "  return array(a, dtype, copy=False, order=order)\n"
     ]
    },
    {
     "name": "stdout",
     "output_type": "stream",
     "text": [
      "0 번째 에피소드의 점수 :  0\n",
      "1 번째 에피소드의 점수 :  12.0\n",
      "2 번째 에피소드의 점수 :  19.0\n",
      "3 번째 에피소드의 점수 :  13.0\n",
      "4 번째 에피소드의 점수 :  10.0\n",
      "5 번째 에피소드의 점수 :  11.0\n",
      "6 번째 에피소드의 점수 :  30.0\n",
      "7 번째 에피소드의 점수 :  12.0\n",
      "8 번째 에피소드의 점수 :  9.0\n",
      "9 번째 에피소드의 점수 :  10.0\n",
      "10 번째 에피소드의 점수 :  12.0\n",
      "11 번째 에피소드의 점수 :  10.0\n",
      "12 번째 에피소드의 점수 :  8.0\n",
      "13 번째 에피소드의 점수 :  10.0\n",
      "14 번째 에피소드의 점수 :  12.0\n",
      "15 번째 에피소드의 점수 :  15.0\n",
      "16 번째 에피소드의 점수 :  13.0\n",
      "17 번째 에피소드의 점수 :  13.0\n",
      "18 번째 에피소드의 점수 :  12.0\n",
      "19 번째 에피소드의 점수 :  15.0\n",
      "20 번째 에피소드의 점수 :  27.0\n",
      "21 번째 에피소드의 점수 :  8.0\n",
      "22 번째 에피소드의 점수 :  9.0\n",
      "23 번째 에피소드의 점수 :  28.0\n",
      "24 번째 에피소드의 점수 :  41.0\n",
      "25 번째 에피소드의 점수 :  10.0\n",
      "26 번째 에피소드의 점수 :  8.0\n",
      "27 번째 에피소드의 점수 :  9.0\n",
      "28 번째 에피소드의 점수 :  10.0\n",
      "29 번째 에피소드의 점수 :  24.0\n",
      "30 번째 에피소드의 점수 :  11.0\n",
      "31 번째 에피소드의 점수 :  14.0\n",
      "32 번째 에피소드의 점수 :  17.0\n",
      "33 번째 에피소드의 점수 :  20.0\n",
      "34 번째 에피소드의 점수 :  32.0\n",
      "35 번째 에피소드의 점수 :  25.0\n",
      "36 번째 에피소드의 점수 :  22.0\n",
      "37 번째 에피소드의 점수 :  12.0\n",
      "38 번째 에피소드의 점수 :  16.0\n",
      "39 번째 에피소드의 점수 :  22.0\n",
      "40 번째 에피소드의 점수 :  10.0\n",
      "41 번째 에피소드의 점수 :  23.0\n",
      "42 번째 에피소드의 점수 :  14.0\n",
      "43 번째 에피소드의 점수 :  15.0\n",
      "44 번째 에피소드의 점수 :  23.0\n",
      "45 번째 에피소드의 점수 :  14.0\n",
      "46 번째 에피소드의 점수 :  14.0\n",
      "47 번째 에피소드의 점수 :  17.0\n",
      "48 번째 에피소드의 점수 :  14.0\n",
      "49 번째 에피소드의 점수 :  18.0\n",
      "50 번째 에피소드의 점수 :  9.0\n",
      "51 번째 에피소드의 점수 :  9.0\n",
      "52 번째 에피소드의 점수 :  13.0\n",
      "53 번째 에피소드의 점수 :  14.0\n",
      "54 번째 에피소드의 점수 :  11.0\n",
      "55 번째 에피소드의 점수 :  12.0\n",
      "56 번째 에피소드의 점수 :  10.0\n",
      "57 번째 에피소드의 점수 :  10.0\n",
      "58 번째 에피소드의 점수 :  11.0\n",
      "59 번째 에피소드의 점수 :  10.0\n",
      "60 번째 에피소드의 점수 :  13.0\n",
      "61 번째 에피소드의 점수 :  11.0\n",
      "62 번째 에피소드의 점수 :  12.0\n",
      "63 번째 에피소드의 점수 :  9.0\n",
      "64 번째 에피소드의 점수 :  12.0\n",
      "65 번째 에피소드의 점수 :  11.0\n",
      "66 번째 에피소드의 점수 :  9.0\n",
      "67 번째 에피소드의 점수 :  10.0\n",
      "68 번째 에피소드의 점수 :  10.0\n",
      "69 번째 에피소드의 점수 :  12.0\n",
      "70 번째 에피소드의 점수 :  10.0\n",
      "71 번째 에피소드의 점수 :  12.0\n",
      "72 번째 에피소드의 점수 :  8.0\n",
      "73 번째 에피소드의 점수 :  10.0\n",
      "74 번째 에피소드의 점수 :  10.0\n",
      "75 번째 에피소드의 점수 :  10.0\n",
      "76 번째 에피소드의 점수 :  17.0\n",
      "77 번째 에피소드의 점수 :  16.0\n",
      "78 번째 에피소드의 점수 :  11.0\n",
      "79 번째 에피소드의 점수 :  12.0\n",
      "80 번째 에피소드의 점수 :  15.0\n",
      "81 번째 에피소드의 점수 :  12.0\n",
      "82 번째 에피소드의 점수 :  10.0\n",
      "83 번째 에피소드의 점수 :  11.0\n",
      "84 번째 에피소드의 점수 :  10.0\n",
      "85 번째 에피소드의 점수 :  9.0\n",
      "86 번째 에피소드의 점수 :  11.0\n",
      "87 번째 에피소드의 점수 :  11.0\n",
      "88 번째 에피소드의 점수 :  12.0\n",
      "89 번째 에피소드의 점수 :  13.0\n",
      "90 번째 에피소드의 점수 :  10.0\n",
      "91 번째 에피소드의 점수 :  11.0\n",
      "92 번째 에피소드의 점수 :  12.0\n",
      "93 번째 에피소드의 점수 :  13.0\n",
      "94 번째 에피소드의 점수 :  12.0\n",
      "95 번째 에피소드의 점수 :  14.0\n",
      "96 번째 에피소드의 점수 :  9.0\n",
      "97 번째 에피소드의 점수 :  14.0\n",
      "98 번째 에피소드의 점수 :  14.0\n",
      "99 번째 에피소드의 점수 :  12.0\n"
     ]
    },
    {
     "data": {
      "image/png": "[encoded data removed]",
      "text/plain": [
       "<Figure size 432x288 with 1 Axes>"
      ]
     },
     "metadata": {
      "needs_background": "light"
     },
     "output_type": "display_data"
    }
   ],
   "source": [
    "env = gym.make('CartPole-v0')\n",
    "\n",
    "model = deep_network()  # 신경망 생성\n",
    "D = deque(maxlen = 2000)  # 리플레이 메모리 초기화\n",
    "scores = []\n",
    "max_steps = env.spec.max_episode_steps\n",
    "\n",
    "# 신경망 학습\n",
    "for i in range(n_episode):\n",
    "    s = env.reset()\n",
    "    long_reward = 0\n",
    "    \n",
    "    while True:\n",
    "        r = np.random.random()\n",
    "        eps = max(0.01, eps * eps_decay)\n",
    "        if(r < eps):\n",
    "            a = np.random.randint(0, env.action_space.n)  # 랜덤 정책\n",
    "        else:\n",
    "            q = model.predict(np.reshape(s, [1,4])) # 신경망이 예측한 행동\n",
    "            a = np.argmax(q[0])\n",
    "        \n",
    "        s1, r, done, _ = env.step(a)\n",
    "        if done and long_reward < max_steps-1:\n",
    "            r = -100\n",
    "            \n",
    "        D.append((s, a, r, s1, done))\n",
    "        \n",
    "        if len(D) > batch_siz*3:\n",
    "            model_learning()\n",
    "            s = s1\n",
    "            long_reward += r\n",
    "        \n",
    "            if done:\n",
    "                long_reward = long_reward if long_reward == max_steps else long_reward+100\n",
    "                print(i, '번째 에피소드의 점수 : ', long_reward)\n",
    "                scores.append(long_reward)\n",
    "                break\n",
    "        \n",
    "        if i > 10 and np.mean(scores[-5:]) > (0.95*max_steps):\n",
    "            break\n",
    "\n",
    "# 신경망 저장\n",
    "model.save('./cartpole_by_DQN.h5')\n",
    "env.close()\n",
    "\n",
    "import matplotlib.pyplot as plt\n",
    "plt.plot(range(1, len(scores) + 1), scores)\n",
    "plt.title('DQN scores for CartPole-v0')\n",
    "plt.ylabel('Score')\n",
    "plt.xlabel('Episode')\n",
    "plt.grid()\n",
    "plt.show()\n",
    "        "
   ]
  },
  {
   "cell_type": "markdown",
   "id": "6065ef37",
   "metadata": {},
   "source": [
    "## DQN으로 게임 플레이"
   ]
  },
  {
   "cell_type": "code",
   "execution_count": 9,
   "id": "e37cb5ba",
   "metadata": {
    "ExecuteTime": {
     "end_time": "2021-05-28T07:06:55.692847Z",
     "start_time": "2021-05-28T07:06:54.249912Z"
    }
   },
   "outputs": [
    {
     "name": "stdout",
     "output_type": "stream",
     "text": [
      "에피소드의 점수 :  11.0\n"
     ]
    }
   ],
   "source": [
    "from tensorflow.keras.models import Sequential\n",
    "from tensorflow.keras.models import load_model\n",
    "import numpy as np\n",
    "import gym\n",
    "import time\n",
    "\n",
    "# 신경망 불러옴\n",
    "model = load_model('./cartpole_by_DQN.h5')\n",
    "\n",
    "env = gym.make('CartPole-v0')\n",
    "long_reward = 0\n",
    "\n",
    "# CartPole 플레이\n",
    "s = env.reset()\n",
    "while True:\n",
    "    q = model.predict(np.reshape(s, [1,4]))  # 신경망이 예측한 행동\n",
    "    a = np.argmax(q[0])\n",
    "    s1, r, done,_ = env.step(a)\n",
    "    s = s1\n",
    "    long_reward += r\n",
    "    \n",
    "    env.render()\n",
    "    time.sleep(0.02)\n",
    "    \n",
    "    if done:\n",
    "        print('에피소드의 점수 : ', long_reward)\n",
    "        break\n",
    "        \n",
    "env.close()\n",
    "    "
   ]
  },
  {
   "cell_type": "code",
   "execution_count": null,
   "id": "c422cc45",
   "metadata": {},
   "outputs": [],
   "source": []
  }
 ],
 "metadata": {
  "kernelspec": {
   "display_name": "Python 3",
   "language": "python",
   "name": "python3"
  },
  "language_info": {
   "codemirror_mode": {
    "name": "ipython",
    "version": 3
   },
   "file_extension": ".py",
   "mimetype": "text/x-python",
   "name": "python",
   "nbconvert_exporter": "python",
   "pygments_lexer": "ipython3",
   "version": "3.8.9"
  },
  "toc": {
   "base_numbering": 1,
   "nav_menu": {},
   "number_sections": true,
   "sideBar": true,
   "skip_h1_title": false,
   "title_cell": "Table of Contents",
   "title_sidebar": "Contents",
   "toc_cell": false,
   "toc_position": {},
   "toc_section_display": true,
   "toc_window_display": false
  },
  "varInspector": {
   "cols": {
    "lenName": 16,
    "lenType": 16,
    "lenVar": 40
   },
   "kernels_config": {
    "python": {
     "delete_cmd_postfix": "",
     "delete_cmd_prefix": "del ",
     "library": "var_list.py",
     "varRefreshCmd": "print(var_dic_list())"
    },
    "r": {
     "delete_cmd_postfix": ") ",
     "delete_cmd_prefix": "rm(",
     "library": "var_list.r",
     "varRefreshCmd": "cat(var_dic_list()) "
    }
   },
   "types_to_exclude": [
    "module",
    "function",
    "builtin_function_or_method",
    "instance",
    "_Feature"
   ],
   "window_display": false
  }
 },
 "nbformat": 4,
 "nbformat_minor": 5
}
