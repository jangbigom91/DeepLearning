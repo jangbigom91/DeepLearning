{
 "cells": [
  {
   "cell_type": "markdown",
   "id": "cfcccd7d",
   "metadata": {},
   "source": [
    "## 퍼셉트론"
   ]
  },
  {
   "cell_type": "markdown",
   "id": "745ea37b",
   "metadata": {},
   "source": [
    "#### ▪ 퍼셉트론은 입력 값과 활성화 함수를 사용해 출력 값을 다음으로 넘기는 가장 작은 신경망 기본 단위"
   ]
  },
  {
   "cell_type": "markdown",
   "id": "3a6bf284",
   "metadata": {},
   "source": [
    "#### ▪ XOR 문제 : 논리 회로에 등장하는 개념\n",
    "#### ▪ 컴퓨터는 두 가지 디지털 값(0과 1)을 입력해 하나의 값을 출력하는 회로가 모여 만들어지는데,\n",
    "#### 이 회로를 게이트(gate)라고 한다.\n",
    "#### - AND게이트 : x1, x2 둘 다 1일 때만 결과값이 1로 출력되는 게이트\n",
    "#### - OR게이트 : x1, x2 둘 중 하나라도 1이면 결과값이 1로 출력되는 게이트\n",
    "#### - XOR게이트 : 둘 중 하나만 1일 때만 결과값이 1로 출력되는 게이트"
   ]
  },
  {
   "cell_type": "code",
   "execution_count": 1,
   "id": "54b14170",
   "metadata": {},
   "outputs": [
    {
     "name": "stdout",
     "output_type": "stream",
     "text": [
      "[0 0 0 1]\n"
     ]
    }
   ],
   "source": [
    "from sklearn.linear_model import Perceptron\n",
    "\n",
    "# 샘플과 레이블이다.\n",
    "X = [[0, 0], [0, 1], [1, 0], [1, 1]]\n",
    "y = [0, 0, 0, 1]\n",
    "\n",
    "# 퍼셉트론을 생성한다. tol은 종료조건이다. random_state는 난수의 시드이다.\n",
    "clf = Perceptron(tol=1e-3, random_state=0)\n",
    "\n",
    "# 학습을 수행한다.\n",
    "clf.fit(X, y)\n",
    "\n",
    "# 테스트를 수행한다.\n",
    "print(clf.predict(X))"
   ]
  },
  {
   "cell_type": "markdown",
   "id": "49dcc9d8",
   "metadata": {},
   "source": [
    "## 다층 퍼셉트론"
   ]
  },
  {
   "cell_type": "markdown",
   "id": "53c24711",
   "metadata": {},
   "source": [
    "#### ▪ 단일 퍼셉트론으로는 XOR문제를 해결할 수 없다.\n",
    "#### ▪ 다층 퍼셉트론 : 좌표 평면 자체에 변화를 주는 것으로 XOR 문제를 해결\n",
    "#### ▪ 은닉층(hidden layer)을 만들면 우리는 두 개의 퍼셉트론을 한 번에 계산할 수 있게 됨\n",
    "#### ▪ 노드(node) : 은닉층에 모이는 중간 정거장. 여기서는 n1과 n2로 표현함"
   ]
  },
  {
   "cell_type": "markdown",
   "id": "561cbfd4",
   "metadata": {},
   "source": [
    "#### -> NAND(Negative And) 게이트 : AND 게이트의 정반대 값을 출력한다.\n",
    "#### -> AND게이트 : x1, x2 둘 다 1일 때만 결과값이 1로 출력되는 게이트\n",
    "#### -> OR게이트 : x1, x2 둘 중 하나라도 1이면 결과값이 1로 출력되는 게이트\n",
    "#### -> XOR게이트 : 둘 중 하나만 1일 때만 결과값이 1로 출력되는 게이트\n"
   ]
  },
  {
   "cell_type": "code",
   "execution_count": 4,
   "id": "b19c0c19",
   "metadata": {},
   "outputs": [
    {
     "name": "stdout",
     "output_type": "stream",
     "text": [
      "입력값: (0, 0)출력값 \\: 0\n",
      "입력값: (1, 0)출력값 \\: 1\n",
      "입력값: (0, 1)출력값 \\: 1\n",
      "입력값: (1, 1)출력값 \\: 0\n"
     ]
    }
   ],
   "source": [
    "import numpy as np\n",
    "\n",
    "# 가중치와 바이어스\n",
    "w11 = np.array([-2, -2])\n",
    "w12 = np.array([2, 2])\n",
    "w2 = np.array([1, 1])\n",
    "b1 = 3\n",
    "b2 = -1\n",
    "b3 = -1\n",
    "\n",
    "# 퍼셉트론\n",
    "def MLP(x, w, b):     # 퍼셉트론 함수정의 : 0 또는 1을 출력\n",
    "    y = np.sum(w * x) + b\n",
    "    if y <= 0:\n",
    "        return 0\n",
    "    else:\n",
    "        return 1\n",
    "\n",
    "# 게이트들 (NAND, OR, AND, XOR) 정의\n",
    "    \n",
    "# NAND 게이트\n",
    "def NAND(x1, x2):\n",
    "    return MLP(np.array([x1, x2]), w11, b1)\n",
    "\n",
    "# OR 게이트\n",
    "def OR(x1, x2):\n",
    "    return MLP(np.array([x1, x2]), w12, b2)\n",
    "\n",
    "# AND 게이트\n",
    "def AND(x1, x2):\n",
    "    return MLP(np.array([x1, x2]), w2, b3)\n",
    "\n",
    "# XOR 게이트\n",
    "def XOR(x1 ,x2):\n",
    "    return AND(NAND(x1, x2), OR(x1, x2))\n",
    "\n",
    "# x1, x2 값을 번갈아 대입해 가며 최종값 출력\n",
    "if __name__ == '__main__':\n",
    "    for x in [(0, 0), (1, 0), (0, 1), (1, 1)]:\n",
    "        y = XOR(x[0], x[1])\n",
    "        \n",
    "        print(\"입력값: \" + str(x) + \"출력값 \\: \" + str(y))\n",
    "\n",
    "# 우리가 원하는 XOR 문제 정답도출\n",
    "# 은닉층을 만들어 XOR문제 해결\n",
    "# ANN 인공신경망"
   ]
  },
  {
   "cell_type": "code",
   "execution_count": null,
   "id": "79468a19",
   "metadata": {},
   "outputs": [],
   "source": []
  }
 ],
 "metadata": {
  "kernelspec": {
   "display_name": "Python 3",
   "language": "python",
   "name": "python3"
  },
  "language_info": {
   "codemirror_mode": {
    "name": "ipython",
    "version": 3
   },
   "file_extension": ".py",
   "mimetype": "text/x-python",
   "name": "python",
   "nbconvert_exporter": "python",
   "pygments_lexer": "ipython3",
   "version": "3.8.9"
  }
 },
 "nbformat": 4,
 "nbformat_minor": 5
}
