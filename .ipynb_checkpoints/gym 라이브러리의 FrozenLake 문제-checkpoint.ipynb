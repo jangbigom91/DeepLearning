{
 "cells": [
  {
   "cell_type": "code",
   "execution_count": 4,
   "id": "2d6f4c77",
   "metadata": {
    "ExecuteTime": {
     "end_time": "2021-05-28T06:16:27.126797Z",
     "start_time": "2021-05-28T06:16:25.302638Z"
    }
   },
   "outputs": [
    {
     "name": "stdout",
     "output_type": "stream",
     "text": [
      "Discrete(16)\n",
      "Discrete(4)\n",
      "  (Up)\n",
      "\u001b[41mS\u001b[0mFFF\n",
      "FHFH\n",
      "FFFH\n",
      "HFFG\n",
      "  (Right)\n",
      "S\u001b[41mF\u001b[0mFF\n",
      "FHFH\n",
      "FFFH\n",
      "HFFG\n",
      "  (Down)\n",
      "SFFF\n",
      "F\u001b[41mH\u001b[0mFH\n",
      "FFFH\n",
      "HFFG\n",
      "[[3, 0.0, 0], [2, 0.0, 1], [1, 0.0, 5]]\n"
     ]
    }
   ],
   "source": [
    "import gym\n",
    "\n",
    "# 환경 불러오기\n",
    "env = gym.make(\"FrozenLake-v0\", is_slippery=False)\n",
    "print(env.observation_space)\n",
    "print(env.action_space)\n",
    "\n",
    "n_trial = 20\n",
    "\n",
    "# 에피소드 수집\n",
    "env.reset()\n",
    "episode = []\n",
    "\n",
    "for i in range(n_trial):\n",
    "    action = env.action_space.sample()  # 행동을 취함(랜덤 선택)\n",
    "    obs, reward, done, info = env.step(action)  # 보상을 받고 상태가 바뀜\n",
    "    episode.append([action, reward, obs])\n",
    "    env.render()\n",
    "    if done:\n",
    "        break\n",
    "\n",
    "print(episode)\n",
    "env.close()"
   ]
  },
  {
   "cell_type": "code",
   "execution_count": null,
   "id": "72a52d7c",
   "metadata": {},
   "outputs": [],
   "source": []
  }
 ],
 "metadata": {
  "kernelspec": {
   "display_name": "Python 3",
   "language": "python",
   "name": "python3"
  },
  "language_info": {
   "codemirror_mode": {
    "name": "ipython",
    "version": 3
   },
   "file_extension": ".py",
   "mimetype": "text/x-python",
   "name": "python",
   "nbconvert_exporter": "python",
   "pygments_lexer": "ipython3",
   "version": "3.8.9"
  },
  "toc": {
   "base_numbering": 1,
   "nav_menu": {},
   "number_sections": true,
   "sideBar": true,
   "skip_h1_title": false,
   "title_cell": "Table of Contents",
   "title_sidebar": "Contents",
   "toc_cell": false,
   "toc_position": {},
   "toc_section_display": true,
   "toc_window_display": false
  },
  "varInspector": {
   "cols": {
    "lenName": 16,
    "lenType": 16,
    "lenVar": 40
   },
   "kernels_config": {
    "python": {
     "delete_cmd_postfix": "",
     "delete_cmd_prefix": "del ",
     "library": "var_list.py",
     "varRefreshCmd": "print(var_dic_list())"
    },
    "r": {
     "delete_cmd_postfix": ") ",
     "delete_cmd_prefix": "rm(",
     "library": "var_list.r",
     "varRefreshCmd": "cat(var_dic_list()) "
    }
   },
   "types_to_exclude": [
    "module",
    "function",
    "builtin_function_or_method",
    "instance",
    "_Feature"
   ],
   "window_display": false
  }
 },
 "nbformat": 4,
 "nbformat_minor": 5
}
