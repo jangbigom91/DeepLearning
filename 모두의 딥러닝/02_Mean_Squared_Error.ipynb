{
 "cells": [
  {
   "cell_type": "markdown",
   "id": "4b7dfc70",
   "metadata": {},
   "source": [
    "## 선형 회귀 실습2"
   ]
  },
  {
   "cell_type": "code",
   "execution_count": 1,
   "id": "54aae9ff",
   "metadata": {
    "ExecuteTime": {
     "end_time": "2021-06-01T03:16:29.595104Z",
     "start_time": "2021-06-01T03:16:29.589138Z"
    }
   },
   "outputs": [],
   "source": [
    "import numpy as np"
   ]
  },
  {
   "cell_type": "code",
   "execution_count": 2,
   "id": "7af7178d",
   "metadata": {
    "ExecuteTime": {
     "end_time": "2021-06-01T03:16:50.448786Z",
     "start_time": "2021-06-01T03:16:50.440831Z"
    }
   },
   "outputs": [],
   "source": [
    "# 기울기 a와 y절편 b\n",
    "fake_a_b = [3, 76]"
   ]
  },
  {
   "cell_type": "code",
   "execution_count": 3,
   "id": "46ae51b5",
   "metadata": {
    "ExecuteTime": {
     "end_time": "2021-06-01T03:17:33.616178Z",
     "start_time": "2021-06-01T03:17:33.609224Z"
    }
   },
   "outputs": [],
   "source": [
    "# x, y의 데이터 값\n",
    "data = [[2, 81], [4, 93], [6, 91], [8, 97]]\n",
    "x = [i[0] for i in data]\n",
    "y = [i[1] for i in data]"
   ]
  },
  {
   "cell_type": "code",
   "execution_count": 4,
   "id": "9b69a1fc",
   "metadata": {
    "ExecuteTime": {
     "end_time": "2021-06-01T03:19:35.956377Z",
     "start_time": "2021-06-01T03:19:35.945382Z"
    }
   },
   "outputs": [],
   "source": [
    "# y = ax + b에 a와 b 값을 대입하여 결과를 출력하는 함수\n",
    "def predict(x):\n",
    "    return fake_a_b[0] * x + fake_a_b[1]"
   ]
  },
  {
   "cell_type": "code",
   "execution_count": 5,
   "id": "11e7192e",
   "metadata": {
    "ExecuteTime": {
     "end_time": "2021-06-01T03:20:07.543870Z",
     "start_time": "2021-06-01T03:20:07.536915Z"
    }
   },
   "outputs": [],
   "source": [
    "# MSE 함수\n",
    "def mse(y, y_hat):\n",
    "    return ((y - y_hat) ** 2).mean()"
   ]
  },
  {
   "cell_type": "code",
   "execution_count": 6,
   "id": "9ce5f7b9",
   "metadata": {
    "ExecuteTime": {
     "end_time": "2021-06-01T03:20:50.821069Z",
     "start_time": "2021-06-01T03:20:50.817081Z"
    }
   },
   "outputs": [],
   "source": [
    "# MSE 함수를 각 y값에 대입하여 최종값을 구하는 함수\n",
    "def mse_val(y, predict_result):\n",
    "    return mse(np.array(y), np.array(predict_result))"
   ]
  },
  {
   "cell_type": "code",
   "execution_count": 7,
   "id": "493fd24d",
   "metadata": {
    "ExecuteTime": {
     "end_time": "2021-06-01T03:21:09.190290Z",
     "start_time": "2021-06-01T03:21:09.187323Z"
    }
   },
   "outputs": [],
   "source": [
    "# 예측값이 들어갈 빈 리스트\n",
    "predict_result = []"
   ]
  },
  {
   "cell_type": "code",
   "execution_count": 8,
   "id": "a7a05437",
   "metadata": {
    "ExecuteTime": {
     "end_time": "2021-06-01T03:22:27.759176Z",
     "start_time": "2021-06-01T03:22:27.746211Z"
    }
   },
   "outputs": [
    {
     "name": "stdout",
     "output_type": "stream",
     "text": [
      "공부한 시간 = 2, 실제점수 = 81, 예측점수 = 82\n",
      "공부한 시간 = 4, 실제점수 = 93, 예측점수 = 88\n",
      "공부한 시간 = 6, 실제점수 = 91, 예측점수 = 94\n",
      "공부한 시간 = 8, 실제점수 = 97, 예측점수 = 100\n"
     ]
    }
   ],
   "source": [
    "# 모든 x값을 한번씩 대입하여\n",
    "for i in range(len(x)):\n",
    "    # predict_result 리스트를 완성\n",
    "    predict_result.append(predict(x[i]))\n",
    "    print(\"공부한 시간 = %.f, 실제점수 = %.f, 예측점수 = %.f\" % (x[i], y[i], predict(x[i])))"
   ]
  },
  {
   "cell_type": "code",
   "execution_count": 9,
   "id": "f93e8156",
   "metadata": {
    "ExecuteTime": {
     "end_time": "2021-06-01T03:22:59.182067Z",
     "start_time": "2021-06-01T03:22:59.169074Z"
    }
   },
   "outputs": [
    {
     "name": "stdout",
     "output_type": "stream",
     "text": [
      "mse 최종값 : 11.0\n"
     ]
    }
   ],
   "source": [
    "# 최종 MSE 출력\n",
    "print(\"mse 최종값 : \"+ str(mse_val(predict_result, y)))"
   ]
  },
  {
   "cell_type": "code",
   "execution_count": null,
   "id": "6ecabf93",
   "metadata": {},
   "outputs": [],
   "source": []
  }
 ],
 "metadata": {
  "kernelspec": {
   "display_name": "Python 3",
   "language": "python",
   "name": "python3"
  },
  "language_info": {
   "codemirror_mode": {
    "name": "ipython",
    "version": 3
   },
   "file_extension": ".py",
   "mimetype": "text/x-python",
   "name": "python",
   "nbconvert_exporter": "python",
   "pygments_lexer": "ipython3",
   "version": "3.8.9"
  },
  "toc": {
   "base_numbering": 1,
   "nav_menu": {},
   "number_sections": true,
   "sideBar": true,
   "skip_h1_title": false,
   "title_cell": "Table of Contents",
   "title_sidebar": "Contents",
   "toc_cell": false,
   "toc_position": {},
   "toc_section_display": true,
   "toc_window_display": false
  },
  "varInspector": {
   "cols": {
    "lenName": 16,
    "lenType": 16,
    "lenVar": 40
   },
   "kernels_config": {
    "python": {
     "delete_cmd_postfix": "",
     "delete_cmd_prefix": "del ",
     "library": "var_list.py",
     "varRefreshCmd": "print(var_dic_list())"
    },
    "r": {
     "delete_cmd_postfix": ") ",
     "delete_cmd_prefix": "rm(",
     "library": "var_list.r",
     "varRefreshCmd": "cat(var_dic_list()) "
    }
   },
   "types_to_exclude": [
    "module",
    "function",
    "builtin_function_or_method",
    "instance",
    "_Feature"
   ],
   "window_display": false
  }
 },
 "nbformat": 4,
 "nbformat_minor": 5
}
