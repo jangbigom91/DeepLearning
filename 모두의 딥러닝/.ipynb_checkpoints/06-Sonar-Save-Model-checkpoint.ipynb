{
 "cells": [
  {
   "cell_type": "markdown",
   "id": "c6d9871a",
   "metadata": {},
   "source": [
    "## Sonar 광물 예측하기 : 모델 저장과 재사용"
   ]
  },
  {
   "cell_type": "code",
   "execution_count": 2,
   "id": "24e47a86",
   "metadata": {
    "ExecuteTime": {
     "end_time": "2021-06-03T03:17:10.099421Z",
     "start_time": "2021-06-03T03:17:10.082466Z"
    }
   },
   "outputs": [],
   "source": [
    "from tensorflow.keras.models import Sequential, load_model\n",
    "from tensorflow.keras.layers import Dense\n",
    "from sklearn.preprocessing import LabelEncoder\n",
    "from sklearn.model_selection import train_test_split\n",
    "\n",
    "import pandas as pd\n",
    "import numpy as np\n",
    "import tensorflow as tf"
   ]
  },
  {
   "cell_type": "code",
   "execution_count": 3,
   "id": "1941f76d",
   "metadata": {
    "ExecuteTime": {
     "end_time": "2021-06-03T03:17:48.436359Z",
     "start_time": "2021-06-03T03:17:48.418402Z"
    }
   },
   "outputs": [],
   "source": [
    "# seed 값 설정\n",
    "seed = 0\n",
    "np.random.seed(seed)\n",
    "tf.random.set_seed(3)"
   ]
  },
  {
   "cell_type": "code",
   "execution_count": 5,
   "id": "16d210b1",
   "metadata": {
    "ExecuteTime": {
     "end_time": "2021-06-03T03:19:05.670907Z",
     "start_time": "2021-06-03T03:19:05.652954Z"
    }
   },
   "outputs": [],
   "source": [
    "# 데이터 불러오기\n",
    "df = pd.read_csv(\"./dataset/sonar.csv\", header=None)\n",
    "\n",
    "dataset = df.values\n",
    "\n",
    "X = dataset[:, 0:60].astype(float)\n",
    "Y_obj = dataset[:, 60]\n",
    "\n",
    "e = LabelEncoder()\n",
    "e.fit(Y_obj)\n",
    "Y = e.transform(Y_obj)"
   ]
  },
  {
   "cell_type": "code",
   "execution_count": 6,
   "id": "06dd2fce",
   "metadata": {
    "ExecuteTime": {
     "end_time": "2021-06-03T03:19:42.530855Z",
     "start_time": "2021-06-03T03:19:42.514895Z"
    }
   },
   "outputs": [],
   "source": [
    "# 학습셋과 테스트셋 구분\n",
    "X_train, X_test, Y_train, Y_test = train_test_split(X, Y, test_size=0.3, random_state=seed)"
   ]
  },
  {
   "cell_type": "code",
   "execution_count": 7,
   "id": "d8bd1ac2",
   "metadata": {
    "ExecuteTime": {
     "end_time": "2021-06-03T03:20:37.274776Z",
     "start_time": "2021-06-03T03:20:37.202894Z"
    }
   },
   "outputs": [],
   "source": [
    "# 모델 설정\n",
    "model = Sequential()\n",
    "model.add(Dense(24, input_dim=60, activation='relu'))\n",
    "model.add(Dense(10, activation='relu'))\n",
    "model.add(Dense(1, activation='sigmoid'))"
   ]
  },
  {
   "cell_type": "code",
   "execution_count": 8,
   "id": "b8fe7681",
   "metadata": {
    "ExecuteTime": {
     "end_time": "2021-06-03T03:21:10.287523Z",
     "start_time": "2021-06-03T03:21:10.146871Z"
    }
   },
   "outputs": [],
   "source": [
    "# 모델 컴파일\n",
    "model.compile(loss='mean_squared_error',\n",
    "             optimizer='adam',\n",
    "             metrics=['accuracy'])"
   ]
  },
  {
   "cell_type": "code",
   "execution_count": 9,
   "id": "846067d5",
   "metadata": {
    "ExecuteTime": {
     "end_time": "2021-06-03T03:21:33.498976Z",
     "start_time": "2021-06-03T03:21:30.906469Z"
    }
   },
   "outputs": [
    {
     "name": "stdout",
     "output_type": "stream",
     "text": [
      "Epoch 1/130\n",
      "29/29 [==============================] - 0s 569us/step - loss: 0.2468 - accuracy: 0.4837\n",
      "Epoch 2/130\n",
      "29/29 [==============================] - 0s 594us/step - loss: 0.2384 - accuracy: 0.6013\n",
      "Epoch 3/130\n",
      "29/29 [==============================] - 0s 551us/step - loss: 0.2153 - accuracy: 0.6879\n",
      "Epoch 4/130\n",
      "29/29 [==============================] - 0s 584us/step - loss: 0.2156 - accuracy: 0.7034\n",
      "Epoch 5/130\n",
      "29/29 [==============================] - 0s 570us/step - loss: 0.1945 - accuracy: 0.7643\n",
      "Epoch 6/130\n",
      "29/29 [==============================] - 0s 570us/step - loss: 0.1900 - accuracy: 0.7571\n",
      "Epoch 7/130\n",
      "29/29 [==============================] - 0s 520us/step - loss: 0.1884 - accuracy: 0.7188\n",
      "Epoch 8/130\n",
      "29/29 [==============================] - 0s 562us/step - loss: 0.1708 - accuracy: 0.8209\n",
      "Epoch 9/130\n",
      "29/29 [==============================] - 0s 498us/step - loss: 0.1602 - accuracy: 0.7874\n",
      "Epoch 10/130\n",
      "29/29 [==============================] - 0s 598us/step - loss: 0.1594 - accuracy: 0.8317\n",
      "Epoch 11/130\n",
      "29/29 [==============================] - 0s 630us/step - loss: 0.1691 - accuracy: 0.7945\n",
      "Epoch 12/130\n",
      "29/29 [==============================] - 0s 641us/step - loss: 0.1416 - accuracy: 0.8258\n",
      "Epoch 13/130\n",
      "29/29 [==============================] - 0s 596us/step - loss: 0.1480 - accuracy: 0.7864\n",
      "Epoch 14/130\n",
      "29/29 [==============================] - 0s 570us/step - loss: 0.1470 - accuracy: 0.7765\n",
      "Epoch 15/130\n",
      "29/29 [==============================] - 0s 570us/step - loss: 0.1405 - accuracy: 0.8089\n",
      "Epoch 16/130\n",
      "29/29 [==============================] - 0s 606us/step - loss: 0.1321 - accuracy: 0.8124\n",
      "Epoch 17/130\n",
      "29/29 [==============================] - 0s 503us/step - loss: 0.1372 - accuracy: 0.8276\n",
      "Epoch 18/130\n",
      "29/29 [==============================] - 0s 652us/step - loss: 0.1198 - accuracy: 0.8456\n",
      "Epoch 19/130\n",
      "29/29 [==============================] - ETA: 0s - loss: 0.1272 - accuracy: 1.00 - 0s 687us/step - loss: 0.1423 - accuracy: 0.8069\n",
      "Epoch 20/130\n",
      "29/29 [==============================] - 0s 614us/step - loss: 0.1233 - accuracy: 0.8632\n",
      "Epoch 21/130\n",
      "29/29 [==============================] - 0s 571us/step - loss: 0.1095 - accuracy: 0.8905\n",
      "Epoch 22/130\n",
      "29/29 [==============================] - 0s 593us/step - loss: 0.1183 - accuracy: 0.8588\n",
      "Epoch 23/130\n",
      "29/29 [==============================] - 0s 599us/step - loss: 0.1107 - accuracy: 0.8669\n",
      "Epoch 24/130\n",
      "29/29 [==============================] - 0s 504us/step - loss: 0.1078 - accuracy: 0.8887\n",
      "Epoch 25/130\n",
      "29/29 [==============================] - 0s 581us/step - loss: 0.1025 - accuracy: 0.8494\n",
      "Epoch 26/130\n",
      "29/29 [==============================] - 0s 512us/step - loss: 0.0962 - accuracy: 0.8472\n",
      "Epoch 27/130\n",
      "29/29 [==============================] - 0s 631us/step - loss: 0.0983 - accuracy: 0.8730\n",
      "Epoch 28/130\n",
      "29/29 [==============================] - 0s 712us/step - loss: 0.1062 - accuracy: 0.8712\n",
      "Epoch 29/130\n",
      "29/29 [==============================] - 0s 534us/step - loss: 0.0852 - accuracy: 0.8897\n",
      "Epoch 30/130\n",
      "29/29 [==============================] - 0s 606us/step - loss: 0.0823 - accuracy: 0.9166\n",
      "Epoch 31/130\n",
      "29/29 [==============================] - 0s 604us/step - loss: 0.0888 - accuracy: 0.9062\n",
      "Epoch 32/130\n",
      "29/29 [==============================] - 0s 609us/step - loss: 0.0802 - accuracy: 0.9318\n",
      "Epoch 33/130\n",
      "29/29 [==============================] - 0s 483us/step - loss: 0.0812 - accuracy: 0.8913\n",
      "Epoch 34/130\n",
      "29/29 [==============================] - 0s 619us/step - loss: 0.0861 - accuracy: 0.9122\n",
      "Epoch 35/130\n",
      "29/29 [==============================] - 0s 463us/step - loss: 0.0822 - accuracy: 0.8897\n",
      "Epoch 36/130\n",
      "29/29 [==============================] - 0s 604us/step - loss: 0.0724 - accuracy: 0.9093\n",
      "Epoch 37/130\n",
      "29/29 [==============================] - 0s 616us/step - loss: 0.0873 - accuracy: 0.8939\n",
      "Epoch 38/130\n",
      "29/29 [==============================] - 0s 641us/step - loss: 0.0631 - accuracy: 0.9486\n",
      "Epoch 39/130\n",
      "29/29 [==============================] - 0s 605us/step - loss: 0.0669 - accuracy: 0.9349\n",
      "Epoch 40/130\n",
      "29/29 [==============================] - 0s 570us/step - loss: 0.0592 - accuracy: 0.9574\n",
      "Epoch 41/130\n",
      "29/29 [==============================] - 0s 553us/step - loss: 0.0654 - accuracy: 0.9301\n",
      "Epoch 42/130\n",
      "29/29 [==============================] - 0s 608us/step - loss: 0.0598 - accuracy: 0.9631\n",
      "Epoch 43/130\n",
      "29/29 [==============================] - 0s 502us/step - loss: 0.0641 - accuracy: 0.9361\n",
      "Epoch 44/130\n",
      "29/29 [==============================] - 0s 620us/step - loss: 0.0575 - accuracy: 0.9467\n",
      "Epoch 45/130\n",
      "29/29 [==============================] - 0s 642us/step - loss: 0.0563 - accuracy: 0.9301\n",
      "Epoch 46/130\n",
      "29/29 [==============================] - 0s 534us/step - loss: 0.0515 - accuracy: 0.9637\n",
      "Epoch 47/130\n",
      "29/29 [==============================] - 0s 484us/step - loss: 0.0489 - accuracy: 0.9492\n",
      "Epoch 48/130\n",
      "29/29 [==============================] - 0s 449us/step - loss: 0.0492 - accuracy: 0.9336\n",
      "Epoch 49/130\n",
      "29/29 [==============================] - 0s 534us/step - loss: 0.0451 - accuracy: 0.9620\n",
      "Epoch 50/130\n",
      "29/29 [==============================] - 0s 503us/step - loss: 0.0429 - accuracy: 0.9847\n",
      "Epoch 51/130\n",
      "29/29 [==============================] - 0s 463us/step - loss: 0.0504 - accuracy: 0.9342\n",
      "Epoch 52/130\n",
      "29/29 [==============================] - 0s 427us/step - loss: 0.0417 - accuracy: 0.9731\n",
      "Epoch 53/130\n",
      "29/29 [==============================] - 0s 464us/step - loss: 0.0401 - accuracy: 0.9537\n",
      "Epoch 54/130\n",
      "29/29 [==============================] - 0s 523us/step - loss: 0.0297 - accuracy: 0.9883\n",
      "Epoch 55/130\n",
      "29/29 [==============================] - 0s 534us/step - loss: 0.0263 - accuracy: 0.9855\n",
      "Epoch 56/130\n",
      "29/29 [==============================] - 0s 535us/step - loss: 0.0378 - accuracy: 0.9935\n",
      "Epoch 57/130\n",
      "29/29 [==============================] - 0s 499us/step - loss: 0.0265 - accuracy: 0.9926\n",
      "Epoch 58/130\n",
      "29/29 [==============================] - 0s 515us/step - loss: 0.0242 - accuracy: 0.9953\n",
      "Epoch 59/130\n",
      "29/29 [==============================] - 0s 497us/step - loss: 0.0273 - accuracy: 0.9993\n",
      "Epoch 60/130\n",
      "29/29 [==============================] - 0s 492us/step - loss: 0.0313 - accuracy: 0.9741\n",
      "Epoch 61/130\n",
      "29/29 [==============================] - 0s 471us/step - loss: 0.0284 - accuracy: 0.9829\n",
      "Epoch 62/130\n",
      "29/29 [==============================] - 0s 505us/step - loss: 0.0279 - accuracy: 0.9706\n",
      "Epoch 63/130\n",
      "29/29 [==============================] - 0s 469us/step - loss: 0.0271 - accuracy: 0.9685\n",
      "Epoch 64/130\n",
      "29/29 [==============================] - 0s 464us/step - loss: 0.0201 - accuracy: 1.0000\n",
      "Epoch 65/130\n",
      "29/29 [==============================] - 0s 521us/step - loss: 0.0222 - accuracy: 0.9973\n",
      "Epoch 66/130\n",
      "29/29 [==============================] - 0s 540us/step - loss: 0.0262 - accuracy: 0.9746\n",
      "Epoch 67/130\n",
      "29/29 [==============================] - 0s 504us/step - loss: 0.0153 - accuracy: 1.0000\n",
      "Epoch 68/130\n",
      "29/29 [==============================] - 0s 462us/step - loss: 0.0175 - accuracy: 1.0000\n",
      "Epoch 69/130\n",
      "29/29 [==============================] - 0s 499us/step - loss: 0.0218 - accuracy: 1.0000\n",
      "Epoch 70/130\n",
      "29/29 [==============================] - 0s 459us/step - loss: 0.0223 - accuracy: 1.0000\n",
      "Epoch 71/130\n",
      "29/29 [==============================] - 0s 527us/step - loss: 0.0194 - accuracy: 0.9897\n",
      "Epoch 72/130\n",
      "29/29 [==============================] - 0s 499us/step - loss: 0.0152 - accuracy: 1.0000\n",
      "Epoch 73/130\n",
      "29/29 [==============================] - 0s 528us/step - loss: 0.0227 - accuracy: 0.9801\n",
      "Epoch 74/130\n",
      "29/29 [==============================] - 0s 509us/step - loss: 0.0122 - accuracy: 1.0000\n",
      "Epoch 75/130\n",
      "29/29 [==============================] - 0s 557us/step - loss: 0.0135 - accuracy: 1.0000\n",
      "Epoch 76/130\n",
      "29/29 [==============================] - 0s 500us/step - loss: 0.0114 - accuracy: 1.0000\n",
      "Epoch 77/130\n",
      "29/29 [==============================] - 0s 499us/step - loss: 0.0080 - accuracy: 1.0000\n",
      "Epoch 78/130\n",
      "29/29 [==============================] - 0s 499us/step - loss: 0.0127 - accuracy: 1.0000\n",
      "Epoch 79/130\n",
      "29/29 [==============================] - 0s 527us/step - loss: 0.0111 - accuracy: 1.0000\n",
      "Epoch 80/130\n",
      "29/29 [==============================] - 0s 464us/step - loss: 0.0101 - accuracy: 0.9959\n"
     ]
    },
    {
     "name": "stdout",
     "output_type": "stream",
     "text": [
      "Epoch 81/130\n",
      "29/29 [==============================] - 0s 499us/step - loss: 0.0100 - accuracy: 1.0000\n",
      "Epoch 82/130\n",
      "29/29 [==============================] - 0s 444us/step - loss: 0.0103 - accuracy: 1.0000\n",
      "Epoch 83/130\n",
      "29/29 [==============================] - 0s 427us/step - loss: 0.0096 - accuracy: 1.0000\n",
      "Epoch 84/130\n",
      "29/29 [==============================] - 0s 463us/step - loss: 0.0091 - accuracy: 1.0000\n",
      "Epoch 85/130\n",
      "29/29 [==============================] - 0s 463us/step - loss: 0.0066 - accuracy: 1.0000\n",
      "Epoch 86/130\n",
      "29/29 [==============================] - 0s 463us/step - loss: 0.0057 - accuracy: 1.0000\n",
      "Epoch 87/130\n",
      "29/29 [==============================] - 0s 570us/step - loss: 0.0072 - accuracy: 1.0000\n",
      "Epoch 88/130\n",
      "29/29 [==============================] - 0s 498us/step - loss: 0.0075 - accuracy: 1.0000\n",
      "Epoch 89/130\n",
      "29/29 [==============================] - 0s 477us/step - loss: 0.0072 - accuracy: 1.0000\n",
      "Epoch 90/130\n",
      "29/29 [==============================] - 0s 463us/step - loss: 0.0042 - accuracy: 1.0000\n",
      "Epoch 91/130\n",
      "29/29 [==============================] - 0s 463us/step - loss: 0.0097 - accuracy: 1.0000\n",
      "Epoch 92/130\n",
      "29/29 [==============================] - 0s 463us/step - loss: 0.0070 - accuracy: 1.0000\n",
      "Epoch 93/130\n",
      "29/29 [==============================] - 0s 463us/step - loss: 0.0057 - accuracy: 1.0000\n",
      "Epoch 94/130\n",
      "29/29 [==============================] - 0s 427us/step - loss: 0.0042 - accuracy: 1.0000\n",
      "Epoch 95/130\n",
      "29/29 [==============================] - 0s 427us/step - loss: 0.0059 - accuracy: 1.0000\n",
      "Epoch 96/130\n",
      "29/29 [==============================] - 0s 464us/step - loss: 0.0041 - accuracy: 1.0000\n",
      "Epoch 97/130\n",
      "29/29 [==============================] - 0s 514us/step - loss: 0.0054 - accuracy: 1.0000\n",
      "Epoch 98/130\n",
      "29/29 [==============================] - 0s 463us/step - loss: 0.0058 - accuracy: 1.0000\n",
      "Epoch 99/130\n",
      "29/29 [==============================] - 0s 499us/step - loss: 0.0038 - accuracy: 1.0000\n",
      "Epoch 100/130\n",
      "29/29 [==============================] - 0s 600us/step - loss: 0.0038 - accuracy: 1.0000\n",
      "Epoch 101/130\n",
      "29/29 [==============================] - 0s 626us/step - loss: 0.0037 - accuracy: 1.0000\n",
      "Epoch 102/130\n",
      "29/29 [==============================] - 0s 575us/step - loss: 0.0031 - accuracy: 1.0000\n",
      "Epoch 103/130\n",
      "29/29 [==============================] - 0s 570us/step - loss: 0.0035 - accuracy: 1.0000\n",
      "Epoch 104/130\n",
      "29/29 [==============================] - 0s 606us/step - loss: 0.0037 - accuracy: 1.0000\n",
      "Epoch 105/130\n",
      "29/29 [==============================] - 0s 602us/step - loss: 0.0043 - accuracy: 1.0000\n",
      "Epoch 106/130\n",
      "29/29 [==============================] - 0s 591us/step - loss: 0.0050 - accuracy: 1.0000\n",
      "Epoch 107/130\n",
      "29/29 [==============================] - 0s 606us/step - loss: 0.0040 - accuracy: 1.0000\n",
      "Epoch 108/130\n",
      "29/29 [==============================] - 0s 653us/step - loss: 0.0024 - accuracy: 1.0000\n",
      "Epoch 109/130\n",
      "29/29 [==============================] - 0s 635us/step - loss: 0.0027 - accuracy: 1.0000\n",
      "Epoch 110/130\n",
      "29/29 [==============================] - 0s 509us/step - loss: 0.0030 - accuracy: 1.0000\n",
      "Epoch 111/130\n",
      "29/29 [==============================] - 0s 492us/step - loss: 0.0018 - accuracy: 1.0000\n",
      "Epoch 112/130\n",
      "29/29 [==============================] - 0s 459us/step - loss: 0.0022 - accuracy: 1.0000\n",
      "Epoch 113/130\n",
      "29/29 [==============================] - 0s 463us/step - loss: 0.0031 - accuracy: 1.0000\n",
      "Epoch 114/130\n",
      "29/29 [==============================] - 0s 462us/step - loss: 0.0032 - accuracy: 1.0000\n",
      "Epoch 115/130\n",
      "29/29 [==============================] - 0s 499us/step - loss: 0.0019 - accuracy: 1.0000\n",
      "Epoch 116/130\n",
      "29/29 [==============================] - 0s 499us/step - loss: 0.0021 - accuracy: 1.0000\n",
      "Epoch 117/130\n",
      "29/29 [==============================] - 0s 534us/step - loss: 0.0022 - accuracy: 1.0000\n",
      "Epoch 118/130\n",
      "29/29 [==============================] - 0s 534us/step - loss: 0.0018 - accuracy: 1.0000\n",
      "Epoch 119/130\n",
      "29/29 [==============================] - 0s 500us/step - loss: 0.0019 - accuracy: 1.0000\n",
      "Epoch 120/130\n",
      "29/29 [==============================] - 0s 499us/step - loss: 0.0018 - accuracy: 1.0000\n",
      "Epoch 121/130\n",
      "29/29 [==============================] - 0s 489us/step - loss: 0.0017 - accuracy: 1.0000\n",
      "Epoch 122/130\n",
      "29/29 [==============================] - 0s 496us/step - loss: 0.0017 - accuracy: 1.0000\n",
      "Epoch 123/130\n",
      "29/29 [==============================] - 0s 496us/step - loss: 0.0018 - accuracy: 1.0000\n",
      "Epoch 124/130\n",
      "29/29 [==============================] - 0s 500us/step - loss: 0.0016 - accuracy: 1.0000\n",
      "Epoch 125/130\n",
      "29/29 [==============================] - 0s 473us/step - loss: 0.0017 - accuracy: 1.0000\n",
      "Epoch 126/130\n",
      "29/29 [==============================] - 0s 524us/step - loss: 0.0022 - accuracy: 1.0000\n",
      "Epoch 127/130\n",
      "29/29 [==============================] - 0s 498us/step - loss: 0.0015 - accuracy: 1.0000\n",
      "Epoch 128/130\n",
      "29/29 [==============================] - 0s 475us/step - loss: 0.0014 - accuracy: 1.0000\n",
      "Epoch 129/130\n",
      "29/29 [==============================] - 0s 462us/step - loss: 0.0015 - accuracy: 1.0000\n",
      "Epoch 130/130\n",
      "29/29 [==============================] - 0s 456us/step - loss: 0.0013 - accuracy: 1.0000\n"
     ]
    },
    {
     "data": {
      "text/plain": [
       "<tensorflow.python.keras.callbacks.History at 0x2d15f0115b0>"
      ]
     },
     "execution_count": 9,
     "metadata": {},
     "output_type": "execute_result"
    }
   ],
   "source": [
    "# 모델 실행\n",
    "model.fit(X_train, Y_train, epochs=130, batch_size=5)"
   ]
  },
  {
   "cell_type": "code",
   "execution_count": 10,
   "id": "3f9033ab",
   "metadata": {
    "ExecuteTime": {
     "end_time": "2021-06-03T03:22:05.684738Z",
     "start_time": "2021-06-03T03:22:05.634872Z"
    }
   },
   "outputs": [],
   "source": [
    "# 모델 저장\n",
    "model.save(\"my_model.h5\")"
   ]
  },
  {
   "cell_type": "code",
   "execution_count": null,
   "id": "aad07387",
   "metadata": {},
   "outputs": [],
   "source": []
  }
 ],
 "metadata": {
  "kernelspec": {
   "display_name": "Python 3",
   "language": "python",
   "name": "python3"
  },
  "language_info": {
   "codemirror_mode": {
    "name": "ipython",
    "version": 3
   },
   "file_extension": ".py",
   "mimetype": "text/x-python",
   "name": "python",
   "nbconvert_exporter": "python",
   "pygments_lexer": "ipython3",
   "version": "3.8.9"
  },
  "toc": {
   "base_numbering": 1,
   "nav_menu": {},
   "number_sections": true,
   "sideBar": true,
   "skip_h1_title": false,
   "title_cell": "Table of Contents",
   "title_sidebar": "Contents",
   "toc_cell": false,
   "toc_position": {},
   "toc_section_display": true,
   "toc_window_display": false
  },
  "varInspector": {
   "cols": {
    "lenName": 16,
    "lenType": 16,
    "lenVar": 40
   },
   "kernels_config": {
    "python": {
     "delete_cmd_postfix": "",
     "delete_cmd_prefix": "del ",
     "library": "var_list.py",
     "varRefreshCmd": "print(var_dic_list())"
    },
    "r": {
     "delete_cmd_postfix": ") ",
     "delete_cmd_prefix": "rm(",
     "library": "var_list.r",
     "varRefreshCmd": "cat(var_dic_list()) "
    }
   },
   "types_to_exclude": [
    "module",
    "function",
    "builtin_function_or_method",
    "instance",
    "_Feature"
   ],
   "window_display": false
  }
 },
 "nbformat": 4,
 "nbformat_minor": 5
}
