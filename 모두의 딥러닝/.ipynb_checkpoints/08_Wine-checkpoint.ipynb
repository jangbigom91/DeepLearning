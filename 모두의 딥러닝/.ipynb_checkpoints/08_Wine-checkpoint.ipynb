{
 "cells": [
  {
   "cell_type": "markdown",
   "id": "14ec7d71",
   "metadata": {},
   "source": [
    "## 와인의 종류 예측하기 : 데이터 확인과 실행"
   ]
  },
  {
   "cell_type": "code",
   "execution_count": 1,
   "id": "7fd57597",
   "metadata": {
    "ExecuteTime": {
     "end_time": "2021-06-03T06:40:52.710115Z",
     "start_time": "2021-06-03T06:40:52.693134Z"
    }
   },
   "outputs": [],
   "source": [
    "from tensorflow.keras.models import Sequential\n",
    "from tensorflow.keras.layers import Dense\n",
    "from keras.callbacks import ModelCheckpoint\n",
    "\n",
    "import pandas as pd\n",
    "import numpy as np\n",
    "import os\n",
    "import tensorflow as tf"
   ]
  },
  {
   "cell_type": "code",
   "execution_count": 2,
   "id": "bfd4e73c",
   "metadata": {
    "ExecuteTime": {
     "end_time": "2021-06-03T06:41:30.149761Z",
     "start_time": "2021-06-03T06:41:30.137821Z"
    }
   },
   "outputs": [],
   "source": [
    "# seed 값 설정\n",
    "np.random.seed(3)\n",
    "tf.random.set_seed(3)"
   ]
  },
  {
   "cell_type": "code",
   "execution_count": 3,
   "id": "161a1e35",
   "metadata": {
    "ExecuteTime": {
     "end_time": "2021-06-03T06:43:11.625104Z",
     "start_time": "2021-06-03T06:43:11.587177Z"
    }
   },
   "outputs": [],
   "source": [
    "# 데이터 불러오기\n",
    "df_pre = pd.read_csv('./dataset/wine.csv', header=None)\n",
    "\n",
    "# sample() 함수는 원본 데이터에서 정해진 비율만큼 랜덤으로 뽑아오는 함수\n",
    "# frac = 1이면 원본데이터의 100%를 불러오는 것, frac = 0.5이면 원본데이터의 50%만 불러오는 것\n",
    "df = df_pre.sample(frac=1)"
   ]
  },
  {
   "cell_type": "code",
   "execution_count": 4,
   "id": "f6ab8ffa",
   "metadata": {
    "ExecuteTime": {
     "end_time": "2021-06-03T06:43:22.701183Z",
     "start_time": "2021-06-03T06:43:22.682209Z"
    }
   },
   "outputs": [
    {
     "name": "stdout",
     "output_type": "stream",
     "text": [
      "        0      1     2     3      4     5      6        7     8     9      10  11  12\n",
      "6245   5.9  0.180  0.28   1.0  0.037  24.0   88.0  0.99094  3.29  0.55  10.65   7   0\n",
      "486   10.2  0.670  0.39   1.9  0.054   6.0   17.0  0.99760  3.17  0.47  10.00   5   1\n",
      "273    8.4  0.715  0.20   2.4  0.076  10.0   38.0  0.99735  3.31  0.64   9.40   5   1\n",
      "1993   6.8  0.370  0.51  11.8  0.044  62.0  163.0  0.99760  3.19  0.44   8.80   5   0\n",
      "885    8.9  0.750  0.14   2.5  0.086   9.0   30.0  0.99824  3.34  0.64  10.50   5   1\n"
     ]
    }
   ],
   "source": [
    "print(df.head(5))"
   ]
  },
  {
   "cell_type": "code",
   "execution_count": 5,
   "id": "f8871f8d",
   "metadata": {
    "ExecuteTime": {
     "end_time": "2021-06-03T06:51:13.728080Z",
     "start_time": "2021-06-03T06:51:13.706138Z"
    }
   },
   "outputs": [
    {
     "name": "stdout",
     "output_type": "stream",
     "text": [
      "<class 'pandas.core.frame.DataFrame'>\n",
      "Int64Index: 6497 entries, 6245 to 5994\n",
      "Data columns (total 13 columns):\n",
      " #   Column  Non-Null Count  Dtype  \n",
      "---  ------  --------------  -----  \n",
      " 0   0       6497 non-null   float64\n",
      " 1   1       6497 non-null   float64\n",
      " 2   2       6497 non-null   float64\n",
      " 3   3       6497 non-null   float64\n",
      " 4   4       6497 non-null   float64\n",
      " 5   5       6497 non-null   float64\n",
      " 6   6       6497 non-null   float64\n",
      " 7   7       6497 non-null   float64\n",
      " 8   8       6497 non-null   float64\n",
      " 9   9       6497 non-null   float64\n",
      " 10  10      6497 non-null   float64\n",
      " 11  11      6497 non-null   int64  \n",
      " 12  12      6497 non-null   int64  \n",
      "dtypes: float64(11), int64(2)\n",
      "memory usage: 710.6 KB\n",
      "None\n"
     ]
    }
   ],
   "source": [
    "print(df.info())"
   ]
  },
  {
   "cell_type": "code",
   "execution_count": 6,
   "id": "0b46f253",
   "metadata": {
    "ExecuteTime": {
     "end_time": "2021-06-03T06:51:56.992491Z",
     "start_time": "2021-06-03T06:51:56.986530Z"
    }
   },
   "outputs": [],
   "source": [
    "dataset = df.values\n",
    "\n",
    "X = dataset[:, 0:12]\n",
    "Y = dataset[:, 12]"
   ]
  },
  {
   "cell_type": "code",
   "execution_count": 7,
   "id": "d25a1e8a",
   "metadata": {
    "ExecuteTime": {
     "end_time": "2021-06-03T06:53:00.272629Z",
     "start_time": "2021-06-03T06:53:00.194134Z"
    }
   },
   "outputs": [],
   "source": [
    "# 모델 설정\n",
    "model = Sequential()\n",
    "\n",
    "model.add(Dense(30, input_dim=12, activation='relu'))\n",
    "model.add(Dense(12, activation='relu'))\n",
    "model.add(Dense(8, activation='relu'))\n",
    "model.add(Dense(1, activation='sigmoid'))"
   ]
  },
  {
   "cell_type": "code",
   "execution_count": 8,
   "id": "bdade78b",
   "metadata": {
    "ExecuteTime": {
     "end_time": "2021-06-03T06:53:35.988481Z",
     "start_time": "2021-06-03T06:53:35.970524Z"
    }
   },
   "outputs": [],
   "source": [
    "# 모델 컴파일\n",
    "model.compile(loss='binary_crossentropy',\n",
    "             optimizer='adam',\n",
    "             metrics=['accuracy'])"
   ]
  },
  {
   "cell_type": "code",
   "execution_count": 9,
   "id": "98bfaa44",
   "metadata": {
    "ExecuteTime": {
     "end_time": "2021-06-03T06:53:57.723050Z",
     "start_time": "2021-06-03T06:53:52.898204Z"
    }
   },
   "outputs": [
    {
     "name": "stdout",
     "output_type": "stream",
     "text": [
      "Epoch 1/200\n",
      "33/33 [==============================] - 0s 694us/step - loss: 0.9045 - accuracy: 0.7450\n",
      "Epoch 2/200\n",
      "33/33 [==============================] - 0s 624us/step - loss: 0.3164 - accuracy: 0.8851\n",
      "Epoch 3/200\n",
      "33/33 [==============================] - 0s 562us/step - loss: 0.2495 - accuracy: 0.9236\n",
      "Epoch 4/200\n",
      "33/33 [==============================] - 0s 696us/step - loss: 0.2317 - accuracy: 0.9254\n",
      "Epoch 5/200\n",
      "33/33 [==============================] - 0s 677us/step - loss: 0.2203 - accuracy: 0.9254\n",
      "Epoch 6/200\n",
      "33/33 [==============================] - 0s 654us/step - loss: 0.2080 - accuracy: 0.9308\n",
      "Epoch 7/200\n",
      "33/33 [==============================] - 0s 660us/step - loss: 0.2027 - accuracy: 0.9334\n",
      "Epoch 8/200\n",
      "33/33 [==============================] - 0s 608us/step - loss: 0.1984 - accuracy: 0.9351\n",
      "Epoch 9/200\n",
      "33/33 [==============================] - 0s 696us/step - loss: 0.1879 - accuracy: 0.9377\n",
      "Epoch 10/200\n",
      "33/33 [==============================] - 0s 691us/step - loss: 0.1918 - accuracy: 0.9356\n",
      "Epoch 11/200\n",
      "33/33 [==============================] - 0s 636us/step - loss: 0.1814 - accuracy: 0.9387\n",
      "Epoch 12/200\n",
      "33/33 [==============================] - 0s 642us/step - loss: 0.1815 - accuracy: 0.9361\n",
      "Epoch 13/200\n",
      "33/33 [==============================] - 0s 599us/step - loss: 0.1791 - accuracy: 0.9395\n",
      "Epoch 14/200\n",
      "33/33 [==============================] - 0s 685us/step - loss: 0.1756 - accuracy: 0.9414\n",
      "Epoch 15/200\n",
      "33/33 [==============================] - 0s 654us/step - loss: 0.1681 - accuracy: 0.9436\n",
      "Epoch 16/200\n",
      "33/33 [==============================] - 0s 636us/step - loss: 0.1616 - accuracy: 0.9437\n",
      "Epoch 17/200\n",
      "33/33 [==============================] - 0s 667us/step - loss: 0.1738 - accuracy: 0.9347\n",
      "Epoch 18/200\n",
      "33/33 [==============================] - 0s 592us/step - loss: 0.1630 - accuracy: 0.9448\n",
      "Epoch 19/200\n",
      "33/33 [==============================] - 0s 656us/step - loss: 0.1573 - accuracy: 0.9459\n",
      "Epoch 20/200\n",
      "33/33 [==============================] - 0s 675us/step - loss: 0.1521 - accuracy: 0.9449\n",
      "Epoch 21/200\n",
      "33/33 [==============================] - 0s 649us/step - loss: 0.1460 - accuracy: 0.9466\n",
      "Epoch 22/200\n",
      "33/33 [==============================] - 0s 647us/step - loss: 0.1445 - accuracy: 0.9472\n",
      "Epoch 23/200\n",
      "33/33 [==============================] - ETA: 0s - loss: 0.1280 - accuracy: 0.95 - 0s 592us/step - loss: 0.1420 - accuracy: 0.9484\n",
      "Epoch 24/200\n",
      "33/33 [==============================] - 0s 677us/step - loss: 0.1511 - accuracy: 0.9452\n",
      "Epoch 25/200\n",
      "33/33 [==============================] - 0s 744us/step - loss: 0.1316 - accuracy: 0.9525\n",
      "Epoch 26/200\n",
      "33/33 [==============================] - 0s 661us/step - loss: 0.1316 - accuracy: 0.9514\n",
      "Epoch 27/200\n",
      "33/33 [==============================] - 0s 717us/step - loss: 0.1335 - accuracy: 0.9499\n",
      "Epoch 28/200\n",
      "33/33 [==============================] - 0s 654us/step - loss: 0.1242 - accuracy: 0.9570\n",
      "Epoch 29/200\n",
      "33/33 [==============================] - 0s 697us/step - loss: 0.1163 - accuracy: 0.9561\n",
      "Epoch 30/200\n",
      "33/33 [==============================] - 0s 678us/step - loss: 0.1178 - accuracy: 0.9566\n",
      "Epoch 31/200\n",
      "33/33 [==============================] - 0s 695us/step - loss: 0.1163 - accuracy: 0.9618\n",
      "Epoch 32/200\n",
      "33/33 [==============================] - 0s 586us/step - loss: 0.1108 - accuracy: 0.9625\n",
      "Epoch 33/200\n",
      "33/33 [==============================] - 0s 686us/step - loss: 0.1131 - accuracy: 0.9628\n",
      "Epoch 34/200\n",
      "33/33 [==============================] - 0s 612us/step - loss: 0.1077 - accuracy: 0.9613\n",
      "Epoch 35/200\n",
      "33/33 [==============================] - 0s 717us/step - loss: 0.0994 - accuracy: 0.9682\n",
      "Epoch 36/200\n",
      "33/33 [==============================] - 0s 623us/step - loss: 0.1020 - accuracy: 0.9686\n",
      "Epoch 37/200\n",
      "33/33 [==============================] - 0s 807us/step - loss: 0.0941 - accuracy: 0.9677\n",
      "Epoch 38/200\n",
      "33/33 [==============================] - 0s 681us/step - loss: 0.0918 - accuracy: 0.9704\n",
      "Epoch 39/200\n",
      "33/33 [==============================] - 0s 660us/step - loss: 0.0935 - accuracy: 0.9692\n",
      "Epoch 40/200\n",
      "33/33 [==============================] - 0s 717us/step - loss: 0.0832 - accuracy: 0.9733\n",
      "Epoch 41/200\n",
      "33/33 [==============================] - 0s 680us/step - loss: 0.0911 - accuracy: 0.9688\n",
      "Epoch 42/200\n",
      "33/33 [==============================] - 0s 663us/step - loss: 0.0848 - accuracy: 0.9733\n",
      "Epoch 43/200\n",
      "33/33 [==============================] - 0s 592us/step - loss: 0.0879 - accuracy: 0.9715\n",
      "Epoch 44/200\n",
      "33/33 [==============================] - 0s 680us/step - loss: 0.0781 - accuracy: 0.9749\n",
      "Epoch 45/200\n",
      "33/33 [==============================] - 0s 612us/step - loss: 0.0791 - accuracy: 0.9742\n",
      "Epoch 46/200\n",
      "33/33 [==============================] - ETA: 0s - loss: 0.0683 - accuracy: 0.98 - 0s 717us/step - loss: 0.0784 - accuracy: 0.9758\n",
      "Epoch 47/200\n",
      "33/33 [==============================] - 0s 702us/step - loss: 0.0775 - accuracy: 0.9739\n",
      "Epoch 48/200\n",
      "33/33 [==============================] - 0s 790us/step - loss: 0.0890 - accuracy: 0.9727\n",
      "Epoch 49/200\n",
      "33/33 [==============================] - 0s 655us/step - loss: 0.0829 - accuracy: 0.9718\n",
      "Epoch 50/200\n",
      "33/33 [==============================] - 0s 739us/step - loss: 0.0880 - accuracy: 0.9711\n",
      "Epoch 51/200\n",
      "33/33 [==============================] - 0s 652us/step - loss: 0.0745 - accuracy: 0.9770\n",
      "Epoch 52/200\n",
      "33/33 [==============================] - 0s 736us/step - loss: 0.0800 - accuracy: 0.9771\n",
      "Epoch 53/200\n",
      "33/33 [==============================] - 0s 655us/step - loss: 0.0794 - accuracy: 0.9772\n",
      "Epoch 54/200\n",
      "33/33 [==============================] - 0s 707us/step - loss: 0.0824 - accuracy: 0.9724\n",
      "Epoch 55/200\n",
      "33/33 [==============================] - 0s 686us/step - loss: 0.0752 - accuracy: 0.9787\n",
      "Epoch 56/200\n",
      "33/33 [==============================] - 0s 712us/step - loss: 0.0785 - accuracy: 0.9781\n",
      "Epoch 57/200\n",
      "33/33 [==============================] - 0s 592us/step - loss: 0.0744 - accuracy: 0.9780\n",
      "Epoch 58/200\n",
      "33/33 [==============================] - 0s 551us/step - loss: 0.0813 - accuracy: 0.9739\n",
      "Epoch 59/200\n",
      "33/33 [==============================] - 0s 592us/step - loss: 0.0781 - accuracy: 0.9759\n",
      "Epoch 60/200\n",
      "33/33 [==============================] - 0s 593us/step - loss: 0.0720 - accuracy: 0.9773\n",
      "Epoch 61/200\n",
      "33/33 [==============================] - 0s 592us/step - loss: 0.0724 - accuracy: 0.9772\n",
      "Epoch 62/200\n",
      "33/33 [==============================] - 0s 645us/step - loss: 0.0722 - accuracy: 0.9782\n",
      "Epoch 63/200\n",
      "33/33 [==============================] - 0s 617us/step - loss: 0.0707 - accuracy: 0.9791\n",
      "Epoch 64/200\n",
      "33/33 [==============================] - 0s 588us/step - loss: 0.0662 - accuracy: 0.9800\n",
      "Epoch 65/200\n",
      "33/33 [==============================] - 0s 530us/step - loss: 0.0686 - accuracy: 0.9775\n",
      "Epoch 66/200\n",
      "33/33 [==============================] - 0s 570us/step - loss: 0.0723 - accuracy: 0.9788\n",
      "Epoch 67/200\n",
      "33/33 [==============================] - 0s 592us/step - loss: 0.0671 - accuracy: 0.9767\n",
      "Epoch 68/200\n",
      "33/33 [==============================] - 0s 567us/step - loss: 0.0699 - accuracy: 0.9768\n",
      "Epoch 69/200\n",
      "33/33 [==============================] - 0s 654us/step - loss: 0.0615 - accuracy: 0.9806\n",
      "Epoch 70/200\n",
      "33/33 [==============================] - 0s 636us/step - loss: 0.0602 - accuracy: 0.9781\n",
      "Epoch 71/200\n",
      "33/33 [==============================] - 0s 654us/step - loss: 0.0689 - accuracy: 0.9791\n",
      "Epoch 72/200\n",
      "33/33 [==============================] - ETA: 0s - loss: 0.0659 - accuracy: 0.99 - 0s 593us/step - loss: 0.0625 - accuracy: 0.9827\n",
      "Epoch 73/200\n",
      "33/33 [==============================] - 0s 592us/step - loss: 0.0749 - accuracy: 0.9785\n",
      "Epoch 74/200\n",
      "33/33 [==============================] - 0s 642us/step - loss: 0.0694 - accuracy: 0.9787\n",
      "Epoch 75/200\n",
      "33/33 [==============================] - 0s 572us/step - loss: 0.0683 - accuracy: 0.9790\n",
      "Epoch 76/200\n",
      "33/33 [==============================] - 0s 597us/step - loss: 0.0583 - accuracy: 0.9841\n",
      "Epoch 77/200\n",
      "33/33 [==============================] - 0s 592us/step - loss: 0.0780 - accuracy: 0.9760\n",
      "Epoch 78/200\n",
      "33/33 [==============================] - 0s 623us/step - loss: 0.0609 - accuracy: 0.9809\n",
      "Epoch 79/200\n",
      "33/33 [==============================] - 0s 592us/step - loss: 0.0697 - accuracy: 0.9800\n",
      "Epoch 80/200\n"
     ]
    },
    {
     "name": "stdout",
     "output_type": "stream",
     "text": [
      "33/33 [==============================] - 0s 593us/step - loss: 0.0627 - accuracy: 0.9803\n",
      "Epoch 81/200\n",
      "33/33 [==============================] - 0s 617us/step - loss: 0.0658 - accuracy: 0.9799\n",
      "Epoch 82/200\n",
      "33/33 [==============================] - 0s 624us/step - loss: 0.0630 - accuracy: 0.9800\n",
      "Epoch 83/200\n",
      "33/33 [==============================] - 0s 593us/step - loss: 0.0696 - accuracy: 0.9803\n",
      "Epoch 84/200\n",
      "33/33 [==============================] - 0s 592us/step - loss: 0.0633 - accuracy: 0.9827\n",
      "Epoch 85/200\n",
      "33/33 [==============================] - 0s 561us/step - loss: 0.0564 - accuracy: 0.9809\n",
      "Epoch 86/200\n",
      "33/33 [==============================] - 0s 592us/step - loss: 0.0678 - accuracy: 0.9805\n",
      "Epoch 87/200\n",
      "33/33 [==============================] - 0s 561us/step - loss: 0.0563 - accuracy: 0.9825\n",
      "Epoch 88/200\n",
      "33/33 [==============================] - 0s 557us/step - loss: 0.0663 - accuracy: 0.9793\n",
      "Epoch 89/200\n",
      "33/33 [==============================] - 0s 584us/step - loss: 0.0686 - accuracy: 0.9809\n",
      "Epoch 90/200\n",
      "33/33 [==============================] - 0s 561us/step - loss: 0.0663 - accuracy: 0.9820\n",
      "Epoch 91/200\n",
      "33/33 [==============================] - 0s 535us/step - loss: 0.0714 - accuracy: 0.9779\n",
      "Epoch 92/200\n",
      "33/33 [==============================] - 0s 530us/step - loss: 0.0622 - accuracy: 0.9810\n",
      "Epoch 93/200\n",
      "33/33 [==============================] - 0s 561us/step - loss: 0.0652 - accuracy: 0.9816\n",
      "Epoch 94/200\n",
      "33/33 [==============================] - 0s 531us/step - loss: 0.0617 - accuracy: 0.9824\n",
      "Epoch 95/200\n",
      "33/33 [==============================] - 0s 530us/step - loss: 0.0546 - accuracy: 0.9830\n",
      "Epoch 96/200\n",
      "33/33 [==============================] - 0s 561us/step - loss: 0.0608 - accuracy: 0.9798\n",
      "Epoch 97/200\n",
      "33/33 [==============================] - 0s 530us/step - loss: 0.0678 - accuracy: 0.9795\n",
      "Epoch 98/200\n",
      "33/33 [==============================] - 0s 571us/step - loss: 0.0593 - accuracy: 0.9817\n",
      "Epoch 99/200\n",
      "33/33 [==============================] - 0s 592us/step - loss: 0.0545 - accuracy: 0.9834\n",
      "Epoch 100/200\n",
      "33/33 [==============================] - 0s 561us/step - loss: 0.0617 - accuracy: 0.9827\n",
      "Epoch 101/200\n",
      "33/33 [==============================] - 0s 561us/step - loss: 0.0602 - accuracy: 0.9840\n",
      "Epoch 102/200\n",
      "33/33 [==============================] - 0s 561us/step - loss: 0.0619 - accuracy: 0.9832\n",
      "Epoch 103/200\n",
      "33/33 [==============================] - 0s 592us/step - loss: 0.0605 - accuracy: 0.9808\n",
      "Epoch 104/200\n",
      "33/33 [==============================] - 0s 530us/step - loss: 0.0566 - accuracy: 0.9828\n",
      "Epoch 105/200\n",
      "33/33 [==============================] - 0s 561us/step - loss: 0.0660 - accuracy: 0.9805\n",
      "Epoch 106/200\n",
      "33/33 [==============================] - 0s 592us/step - loss: 0.0600 - accuracy: 0.9789\n",
      "Epoch 107/200\n",
      "33/33 [==============================] - 0s 561us/step - loss: 0.0628 - accuracy: 0.9816\n",
      "Epoch 108/200\n",
      "33/33 [==============================] - 0s 546us/step - loss: 0.0558 - accuracy: 0.9826\n",
      "Epoch 109/200\n",
      "33/33 [==============================] - 0s 557us/step - loss: 0.0640 - accuracy: 0.9787\n",
      "Epoch 110/200\n",
      "33/33 [==============================] - 0s 561us/step - loss: 0.0550 - accuracy: 0.9810\n",
      "Epoch 111/200\n",
      "33/33 [==============================] - 0s 559us/step - loss: 0.0688 - accuracy: 0.9798\n",
      "Epoch 112/200\n",
      "33/33 [==============================] - 0s 560us/step - loss: 0.0564 - accuracy: 0.9847\n",
      "Epoch 113/200\n",
      "33/33 [==============================] - 0s 530us/step - loss: 0.0637 - accuracy: 0.9848\n",
      "Epoch 114/200\n",
      "33/33 [==============================] - 0s 561us/step - loss: 0.0545 - accuracy: 0.9820\n",
      "Epoch 115/200\n",
      "33/33 [==============================] - 0s 530us/step - loss: 0.0580 - accuracy: 0.9816\n",
      "Epoch 116/200\n",
      "33/33 [==============================] - 0s 530us/step - loss: 0.0577 - accuracy: 0.9811\n",
      "Epoch 117/200\n",
      "33/33 [==============================] - ETA: 0s - loss: 0.0670 - accuracy: 0.97 - 0s 544us/step - loss: 0.0705 - accuracy: 0.9780\n",
      "Epoch 118/200\n",
      "33/33 [==============================] - 0s 561us/step - loss: 0.0626 - accuracy: 0.9789\n",
      "Epoch 119/200\n",
      "33/33 [==============================] - 0s 531us/step - loss: 0.0614 - accuracy: 0.9826\n",
      "Epoch 120/200\n",
      "33/33 [==============================] - 0s 597us/step - loss: 0.0526 - accuracy: 0.9824\n",
      "Epoch 121/200\n",
      "33/33 [==============================] - 0s 572us/step - loss: 0.0611 - accuracy: 0.9806\n",
      "Epoch 122/200\n",
      "33/33 [==============================] - 0s 542us/step - loss: 0.0528 - accuracy: 0.9842\n",
      "Epoch 123/200\n",
      "33/33 [==============================] - 0s 530us/step - loss: 0.0575 - accuracy: 0.9827\n",
      "Epoch 124/200\n",
      "33/33 [==============================] - 0s 592us/step - loss: 0.0586 - accuracy: 0.9841\n",
      "Epoch 125/200\n",
      "33/33 [==============================] - 0s 609us/step - loss: 0.0542 - accuracy: 0.9863\n",
      "Epoch 126/200\n",
      "33/33 [==============================] - 0s 655us/step - loss: 0.0506 - accuracy: 0.9837\n",
      "Epoch 127/200\n",
      "33/33 [==============================] - 0s 723us/step - loss: 0.0581 - accuracy: 0.9804\n",
      "Epoch 128/200\n",
      "33/33 [==============================] - 0s 623us/step - loss: 0.0536 - accuracy: 0.9826\n",
      "Epoch 129/200\n",
      "33/33 [==============================] - 0s 692us/step - loss: 0.0635 - accuracy: 0.9820\n",
      "Epoch 130/200\n",
      "33/33 [==============================] - 0s 650us/step - loss: 0.0514 - accuracy: 0.9838\n",
      "Epoch 131/200\n",
      "33/33 [==============================] - 0s 642us/step - loss: 0.0602 - accuracy: 0.9814\n",
      "Epoch 132/200\n",
      "33/33 [==============================] - 0s 686us/step - loss: 0.0503 - accuracy: 0.9851\n",
      "Epoch 133/200\n",
      "33/33 [==============================] - 0s 687us/step - loss: 0.0579 - accuracy: 0.9810\n",
      "Epoch 134/200\n",
      "33/33 [==============================] - 0s 561us/step - loss: 0.0620 - accuracy: 0.9830\n",
      "Epoch 135/200\n",
      "33/33 [==============================] - 0s 538us/step - loss: 0.0643 - accuracy: 0.9814\n",
      "Epoch 136/200\n",
      "33/33 [==============================] - 0s 530us/step - loss: 0.0650 - accuracy: 0.9791\n",
      "Epoch 137/200\n",
      "33/33 [==============================] - 0s 530us/step - loss: 0.0482 - accuracy: 0.9853\n",
      "Epoch 138/200\n",
      "33/33 [==============================] - 0s 530us/step - loss: 0.0396 - accuracy: 0.9872\n",
      "Epoch 139/200\n",
      "33/33 [==============================] - 0s 561us/step - loss: 0.0617 - accuracy: 0.9825\n",
      "Epoch 140/200\n",
      "33/33 [==============================] - 0s 553us/step - loss: 0.0532 - accuracy: 0.9848\n",
      "Epoch 141/200\n",
      "33/33 [==============================] - 0s 561us/step - loss: 0.0596 - accuracy: 0.9835\n",
      "Epoch 142/200\n",
      "33/33 [==============================] - 0s 551us/step - loss: 0.0625 - accuracy: 0.9819\n",
      "Epoch 143/200\n",
      "33/33 [==============================] - 0s 530us/step - loss: 0.0482 - accuracy: 0.9854\n",
      "Epoch 144/200\n",
      "33/33 [==============================] - 0s 561us/step - loss: 0.0479 - accuracy: 0.9849\n",
      "Epoch 145/200\n",
      "33/33 [==============================] - 0s 530us/step - loss: 0.0536 - accuracy: 0.9843\n",
      "Epoch 146/200\n",
      "33/33 [==============================] - 0s 571us/step - loss: 0.0524 - accuracy: 0.9822\n",
      "Epoch 147/200\n",
      "33/33 [==============================] - 0s 561us/step - loss: 0.0615 - accuracy: 0.9816\n",
      "Epoch 148/200\n",
      "33/33 [==============================] - 0s 562us/step - loss: 0.0571 - accuracy: 0.9846\n",
      "Epoch 149/200\n",
      "33/33 [==============================] - 0s 587us/step - loss: 0.0547 - accuracy: 0.9846\n",
      "Epoch 150/200\n",
      "33/33 [==============================] - 0s 561us/step - loss: 0.0544 - accuracy: 0.9841\n",
      "Epoch 151/200\n",
      "33/33 [==============================] - 0s 561us/step - loss: 0.0541 - accuracy: 0.9839\n",
      "Epoch 152/200\n",
      "33/33 [==============================] - 0s 561us/step - loss: 0.0602 - accuracy: 0.9829\n",
      "Epoch 153/200\n",
      "33/33 [==============================] - 0s 551us/step - loss: 0.0630 - accuracy: 0.9826\n",
      "Epoch 154/200\n",
      "33/33 [==============================] - 0s 571us/step - loss: 0.0531 - accuracy: 0.9817\n",
      "Epoch 155/200\n",
      "33/33 [==============================] - 0s 561us/step - loss: 0.0574 - accuracy: 0.9848\n",
      "Epoch 156/200\n",
      "33/33 [==============================] - 0s 560us/step - loss: 0.0499 - accuracy: 0.9848\n",
      "Epoch 157/200\n",
      "33/33 [==============================] - 0s 561us/step - loss: 0.0521 - accuracy: 0.9850\n",
      "Epoch 158/200\n",
      "33/33 [==============================] - 0s 531us/step - loss: 0.0499 - accuracy: 0.9846\n",
      "Epoch 159/200\n"
     ]
    },
    {
     "name": "stdout",
     "output_type": "stream",
     "text": [
      "33/33 [==============================] - 0s 561us/step - loss: 0.0694 - accuracy: 0.9784\n",
      "Epoch 160/200\n",
      "33/33 [==============================] - 0s 562us/step - loss: 0.0612 - accuracy: 0.9817\n",
      "Epoch 161/200\n",
      "33/33 [==============================] - 0s 561us/step - loss: 0.0492 - accuracy: 0.9853\n",
      "Epoch 162/200\n",
      "33/33 [==============================] - 0s 531us/step - loss: 0.0551 - accuracy: 0.9833\n",
      "Epoch 163/200\n",
      "33/33 [==============================] - 0s 592us/step - loss: 0.0567 - accuracy: 0.9843\n",
      "Epoch 164/200\n",
      "33/33 [==============================] - 0s 592us/step - loss: 0.0507 - accuracy: 0.9840\n",
      "Epoch 165/200\n",
      "33/33 [==============================] - 0s 592us/step - loss: 0.0516 - accuracy: 0.9846\n",
      "Epoch 166/200\n",
      "33/33 [==============================] - 0s 583us/step - loss: 0.0518 - accuracy: 0.9849\n",
      "Epoch 167/200\n",
      "33/33 [==============================] - 0s 530us/step - loss: 0.0488 - accuracy: 0.9867\n",
      "Epoch 168/200\n",
      "33/33 [==============================] - 0s 561us/step - loss: 0.0488 - accuracy: 0.9853\n",
      "Epoch 169/200\n",
      "33/33 [==============================] - 0s 576us/step - loss: 0.0519 - accuracy: 0.9872\n",
      "Epoch 170/200\n",
      "33/33 [==============================] - 0s 561us/step - loss: 0.0468 - accuracy: 0.9860\n",
      "Epoch 171/200\n",
      "33/33 [==============================] - 0s 530us/step - loss: 0.0554 - accuracy: 0.9857\n",
      "Epoch 172/200\n",
      "33/33 [==============================] - 0s 561us/step - loss: 0.0610 - accuracy: 0.9833\n",
      "Epoch 173/200\n",
      "33/33 [==============================] - 0s 592us/step - loss: 0.0556 - accuracy: 0.9876\n",
      "Epoch 174/200\n",
      "33/33 [==============================] - 0s 561us/step - loss: 0.0538 - accuracy: 0.9849\n",
      "Epoch 175/200\n",
      "33/33 [==============================] - 0s 592us/step - loss: 0.0459 - accuracy: 0.9885\n",
      "Epoch 176/200\n",
      "33/33 [==============================] - 0s 592us/step - loss: 0.0696 - accuracy: 0.9777\n",
      "Epoch 177/200\n",
      "33/33 [==============================] - 0s 561us/step - loss: 0.0565 - accuracy: 0.9832\n",
      "Epoch 178/200\n",
      "33/33 [==============================] - 0s 530us/step - loss: 0.0605 - accuracy: 0.9820\n",
      "Epoch 179/200\n",
      "33/33 [==============================] - 0s 562us/step - loss: 0.0403 - accuracy: 0.9864\n",
      "Epoch 180/200\n",
      "33/33 [==============================] - 0s 561us/step - loss: 0.0542 - accuracy: 0.9828\n",
      "Epoch 181/200\n",
      "33/33 [==============================] - 0s 568us/step - loss: 0.0602 - accuracy: 0.9826\n",
      "Epoch 182/200\n",
      "33/33 [==============================] - 0s 530us/step - loss: 0.0562 - accuracy: 0.9830\n",
      "Epoch 183/200\n",
      "33/33 [==============================] - 0s 530us/step - loss: 0.0534 - accuracy: 0.9857\n",
      "Epoch 184/200\n",
      "33/33 [==============================] - 0s 575us/step - loss: 0.0599 - accuracy: 0.9834\n",
      "Epoch 185/200\n",
      "33/33 [==============================] - 0s 562us/step - loss: 0.0454 - accuracy: 0.9875\n",
      "Epoch 186/200\n",
      "33/33 [==============================] - 0s 561us/step - loss: 0.0518 - accuracy: 0.9848\n",
      "Epoch 187/200\n",
      "33/33 [==============================] - 0s 561us/step - loss: 0.0511 - accuracy: 0.9837\n",
      "Epoch 188/200\n",
      "33/33 [==============================] - 0s 561us/step - loss: 0.0510 - accuracy: 0.9839\n",
      "Epoch 189/200\n",
      "33/33 [==============================] - 0s 561us/step - loss: 0.0585 - accuracy: 0.9840\n",
      "Epoch 190/200\n",
      "33/33 [==============================] - 0s 561us/step - loss: 0.0417 - accuracy: 0.9886\n",
      "Epoch 191/200\n",
      "33/33 [==============================] - 0s 561us/step - loss: 0.0463 - accuracy: 0.9845\n",
      "Epoch 192/200\n",
      "33/33 [==============================] - ETA: 0s - loss: 0.0796 - accuracy: 0.97 - 0s 540us/step - loss: 0.0496 - accuracy: 0.9855\n",
      "Epoch 193/200\n",
      "33/33 [==============================] - 0s 529us/step - loss: 0.0512 - accuracy: 0.9811\n",
      "Epoch 194/200\n",
      "33/33 [==============================] - 0s 561us/step - loss: 0.0560 - accuracy: 0.9829\n",
      "Epoch 195/200\n",
      "33/33 [==============================] - 0s 561us/step - loss: 0.0536 - accuracy: 0.9854\n",
      "Epoch 196/200\n",
      "33/33 [==============================] - 0s 592us/step - loss: 0.0487 - accuracy: 0.9874\n",
      "Epoch 197/200\n",
      "33/33 [==============================] - 0s 592us/step - loss: 0.0551 - accuracy: 0.9860\n",
      "Epoch 198/200\n",
      "33/33 [==============================] - 0s 596us/step - loss: 0.0592 - accuracy: 0.9810\n",
      "Epoch 199/200\n",
      "33/33 [==============================] - 0s 595us/step - loss: 0.0478 - accuracy: 0.9851\n",
      "Epoch 200/200\n",
      "33/33 [==============================] - 0s 562us/step - loss: 0.0469 - accuracy: 0.9856\n"
     ]
    },
    {
     "data": {
      "text/plain": [
       "<tensorflow.python.keras.callbacks.History at 0x258004a7be0>"
      ]
     },
     "execution_count": 9,
     "metadata": {},
     "output_type": "execute_result"
    }
   ],
   "source": [
    "# 모델 실행\n",
    "model.fit(X, Y, epochs=200, batch_size=200)"
   ]
  },
  {
   "cell_type": "code",
   "execution_count": 11,
   "id": "a3853381",
   "metadata": {
    "ExecuteTime": {
     "end_time": "2021-06-03T07:09:32.454149Z",
     "start_time": "2021-06-03T07:09:32.322498Z"
    }
   },
   "outputs": [
    {
     "name": "stdout",
     "output_type": "stream",
     "text": [
      "204/204 [==============================] - 0s 418us/step - loss: 0.0520 - accuracy: 0.9857\n",
      "\n",
      " Accuracy : 0.9857\n"
     ]
    }
   ],
   "source": [
    "print(\"\\n Accuracy : %.4f\" % (model.evaluate(X, Y)[1]))"
   ]
  },
  {
   "cell_type": "code",
   "execution_count": null,
   "id": "5cf82e6c",
   "metadata": {},
   "outputs": [],
   "source": []
  }
 ],
 "metadata": {
  "kernelspec": {
   "display_name": "Python 3",
   "language": "python",
   "name": "python3"
  },
  "language_info": {
   "codemirror_mode": {
    "name": "ipython",
    "version": 3
   },
   "file_extension": ".py",
   "mimetype": "text/x-python",
   "name": "python",
   "nbconvert_exporter": "python",
   "pygments_lexer": "ipython3",
   "version": "3.8.9"
  },
  "toc": {
   "base_numbering": 1,
   "nav_menu": {},
   "number_sections": true,
   "sideBar": true,
   "skip_h1_title": false,
   "title_cell": "Table of Contents",
   "title_sidebar": "Contents",
   "toc_cell": false,
   "toc_position": {},
   "toc_section_display": true,
   "toc_window_display": false
  },
  "varInspector": {
   "cols": {
    "lenName": 16,
    "lenType": 16,
    "lenVar": 40
   },
   "kernels_config": {
    "python": {
     "delete_cmd_postfix": "",
     "delete_cmd_prefix": "del ",
     "library": "var_list.py",
     "varRefreshCmd": "print(var_dic_list())"
    },
    "r": {
     "delete_cmd_postfix": ") ",
     "delete_cmd_prefix": "rm(",
     "library": "var_list.r",
     "varRefreshCmd": "cat(var_dic_list()) "
    }
   },
   "types_to_exclude": [
    "module",
    "function",
    "builtin_function_or_method",
    "instance",
    "_Feature"
   ],
   "window_display": false
  }
 },
 "nbformat": 4,
 "nbformat_minor": 5
}
