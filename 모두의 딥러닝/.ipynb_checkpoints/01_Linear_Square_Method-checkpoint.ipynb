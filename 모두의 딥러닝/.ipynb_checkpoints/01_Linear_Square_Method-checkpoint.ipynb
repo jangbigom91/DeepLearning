{
 "cells": [
  {
   "cell_type": "markdown",
   "id": "e73d3587",
   "metadata": {},
   "source": [
    "## 선형 회귀 실습"
   ]
  },
  {
   "cell_type": "code",
   "execution_count": 1,
   "id": "922a760a",
   "metadata": {
    "ExecuteTime": {
     "end_time": "2021-06-01T03:07:53.210333Z",
     "start_time": "2021-06-01T03:07:53.205344Z"
    }
   },
   "outputs": [
    {
     "name": "stdout",
     "output_type": "stream",
     "text": [
      "x의 평균값: 5.0\n",
      "y의 평균값: 90.5\n"
     ]
    }
   ],
   "source": [
    "import numpy as np\n",
    "\n",
    "# x값과 y값\n",
    "x = [2, 4, 6, 8]\n",
    "y = [81, 93, 91, 97]\n",
    "\n",
    "# x와 y의 평균값\n",
    "mx = np.mean(x)\n",
    "my = np.mean(y)\n",
    "print(\"x의 평균값:\", mx)\n",
    "print(\"y의 평균값:\", my)"
   ]
  },
  {
   "cell_type": "code",
   "execution_count": 3,
   "id": "bdf09d5c",
   "metadata": {
    "ExecuteTime": {
     "end_time": "2021-06-01T03:08:46.882655Z",
     "start_time": "2021-06-01T03:08:46.864727Z"
    }
   },
   "outputs": [],
   "source": [
    "# 기울기 공식의 분모\n",
    "divisor = sum([(mx - i)**2 for i in x])"
   ]
  },
  {
   "cell_type": "code",
   "execution_count": 5,
   "id": "d2d43f6f",
   "metadata": {
    "ExecuteTime": {
     "end_time": "2021-06-01T03:10:08.206664Z",
     "start_time": "2021-06-01T03:10:08.191040Z"
    }
   },
   "outputs": [
    {
     "name": "stdout",
     "output_type": "stream",
     "text": [
      "분모 : 20.0\n",
      "분자 : 46.0\n"
     ]
    }
   ],
   "source": [
    "# 기울기 공식의 분자\n",
    "def top(x, mx, y, my):\n",
    "    d = 0\n",
    "    for i in range(len(x)):\n",
    "        d += (x[i] - mx) * (y[i] - my)\n",
    "    return d\n",
    "\n",
    "dividend = top(x, mx, y, my)\n",
    "\n",
    "print(\"분모 :\", divisor)\n",
    "print(\"분자 :\", dividend)"
   ]
  },
  {
   "cell_type": "code",
   "execution_count": 6,
   "id": "3a15bafc",
   "metadata": {
    "ExecuteTime": {
     "end_time": "2021-06-01T03:11:13.976939Z",
     "start_time": "2021-06-01T03:11:13.960975Z"
    }
   },
   "outputs": [],
   "source": [
    "# 기울기와 y절편 구하기\n",
    "a = dividend / divisor\n",
    "b = my - (mx * a)   # y = ax + b  -> b = y - ax"
   ]
  },
  {
   "cell_type": "code",
   "execution_count": 7,
   "id": "aa6dcb1c",
   "metadata": {
    "ExecuteTime": {
     "end_time": "2021-06-01T03:11:35.883094Z",
     "start_time": "2021-06-01T03:11:35.875116Z"
    }
   },
   "outputs": [
    {
     "name": "stdout",
     "output_type": "stream",
     "text": [
      "기울기 a =  2.3\n",
      "y절편 b =  79.0\n"
     ]
    }
   ],
   "source": [
    "# 출력으로 확인\n",
    "print(\"기울기 a = \", a)\n",
    "print(\"y절편 b = \", b)"
   ]
  },
  {
   "cell_type": "code",
   "execution_count": null,
   "id": "dfebf42f",
   "metadata": {},
   "outputs": [],
   "source": []
  }
 ],
 "metadata": {
  "kernelspec": {
   "display_name": "Python 3",
   "language": "python",
   "name": "python3"
  },
  "language_info": {
   "codemirror_mode": {
    "name": "ipython",
    "version": 3
   },
   "file_extension": ".py",
   "mimetype": "text/x-python",
   "name": "python",
   "nbconvert_exporter": "python",
   "pygments_lexer": "ipython3",
   "version": "3.8.9"
  },
  "toc": {
   "base_numbering": 1,
   "nav_menu": {},
   "number_sections": true,
   "sideBar": true,
   "skip_h1_title": false,
   "title_cell": "Table of Contents",
   "title_sidebar": "Contents",
   "toc_cell": false,
   "toc_position": {},
   "toc_section_display": true,
   "toc_window_display": false
  },
  "varInspector": {
   "cols": {
    "lenName": 16,
    "lenType": 16,
    "lenVar": 40
   },
   "kernels_config": {
    "python": {
     "delete_cmd_postfix": "",
     "delete_cmd_prefix": "del ",
     "library": "var_list.py",
     "varRefreshCmd": "print(var_dic_list())"
    },
    "r": {
     "delete_cmd_postfix": ") ",
     "delete_cmd_prefix": "rm(",
     "library": "var_list.r",
     "varRefreshCmd": "cat(var_dic_list()) "
    }
   },
   "types_to_exclude": [
    "module",
    "function",
    "builtin_function_or_method",
    "instance",
    "_Feature"
   ],
   "window_display": false
  }
 },
 "nbformat": 4,
 "nbformat_minor": 5
}
