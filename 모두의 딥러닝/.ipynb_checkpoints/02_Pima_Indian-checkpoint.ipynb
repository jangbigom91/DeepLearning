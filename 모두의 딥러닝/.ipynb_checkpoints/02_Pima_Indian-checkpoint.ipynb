{
 "cells": [
  {
   "cell_type": "markdown",
   "id": "2613da5e",
   "metadata": {},
   "source": [
    "## 피마 인디언의 당뇨병 예측하기"
   ]
  },
  {
   "cell_type": "code",
   "execution_count": 28,
   "id": "4793f19f",
   "metadata": {
    "ExecuteTime": {
     "end_time": "2021-06-03T01:25:08.177057Z",
     "start_time": "2021-06-03T01:25:08.171101Z"
    }
   },
   "outputs": [],
   "source": [
    "from tensorflow.keras.models import Sequential\n",
    "from tensorflow.keras.layers import Dense\n",
    "import numpy as np\n",
    "import pandas as pd\n",
    "import matplotlib.pyplot as plt\n",
    "import tensorflow as tf\n",
    "%matplotlib inline\n"
   ]
  },
  {
   "cell_type": "markdown",
   "id": "6ae8ea45",
   "metadata": {},
   "source": [
    "* 데이터 불러오기"
   ]
  },
  {
   "cell_type": "code",
   "execution_count": 29,
   "id": "64856c59",
   "metadata": {
    "ExecuteTime": {
     "end_time": "2021-06-03T01:25:08.565109Z",
     "start_time": "2021-06-03T01:25:08.555131Z"
    }
   },
   "outputs": [],
   "source": [
    "df = pd.read_csv(\"./dataset/pima-indians-diabetes.csv\",\n",
    "                names = [\"pregnant\", \"plasma\", \"pressure\", \"thickness\", \"insulin\", \"BMI\", \"pedigree\", \"age\", \"class\"])"
   ]
  },
  {
   "cell_type": "markdown",
   "id": "8b39c276",
   "metadata": {},
   "source": [
    "* 데이터 확인하기"
   ]
  },
  {
   "cell_type": "code",
   "execution_count": 30,
   "id": "968c1e3b",
   "metadata": {
    "ExecuteTime": {
     "end_time": "2021-06-03T01:25:08.957083Z",
     "start_time": "2021-06-03T01:25:08.923095Z"
    }
   },
   "outputs": [
    {
     "name": "stdout",
     "output_type": "stream",
     "text": [
      "   pregnant  plasma  pressure  thickness  insulin   BMI  pedigree  age  class\n",
      "0         6     148        72         35        0  33.6     0.627   50      1\n",
      "1         1      85        66         29        0  26.6     0.351   31      0\n",
      "2         8     183        64          0        0  23.3     0.672   32      1\n",
      "3         1      89        66         23       94  28.1     0.167   21      0\n",
      "4         0     137        40         35      168  43.1     2.288   33      1\n",
      "<class 'pandas.core.frame.DataFrame'>\n",
      "RangeIndex: 768 entries, 0 to 767\n",
      "Data columns (total 9 columns):\n",
      " #   Column     Non-Null Count  Dtype  \n",
      "---  ------     --------------  -----  \n",
      " 0   pregnant   768 non-null    int64  \n",
      " 1   plasma     768 non-null    int64  \n",
      " 2   pressure   768 non-null    int64  \n",
      " 3   thickness  768 non-null    int64  \n",
      " 4   insulin    768 non-null    int64  \n",
      " 5   BMI        768 non-null    float64\n",
      " 6   pedigree   768 non-null    float64\n",
      " 7   age        768 non-null    int64  \n",
      " 8   class      768 non-null    int64  \n",
      "dtypes: float64(2), int64(7)\n",
      "memory usage: 54.1 KB\n",
      "None\n",
      "         pregnant      plasma    pressure   thickness     insulin         BMI  \\\n",
      "count  768.000000  768.000000  768.000000  768.000000  768.000000  768.000000   \n",
      "mean     3.845052  120.894531   69.105469   20.536458   79.799479   31.992578   \n",
      "std      3.369578   31.972618   19.355807   15.952218  115.244002    7.884160   \n",
      "min      0.000000    0.000000    0.000000    0.000000    0.000000    0.000000   \n",
      "25%      1.000000   99.000000   62.000000    0.000000    0.000000   27.300000   \n",
      "50%      3.000000  117.000000   72.000000   23.000000   30.500000   32.000000   \n",
      "75%      6.000000  140.250000   80.000000   32.000000  127.250000   36.600000   \n",
      "max     17.000000  199.000000  122.000000   99.000000  846.000000   67.100000   \n",
      "\n",
      "         pedigree         age       class  \n",
      "count  768.000000  768.000000  768.000000  \n",
      "mean     0.471876   33.240885    0.348958  \n",
      "std      0.331329   11.760232    0.476951  \n",
      "min      0.078000   21.000000    0.000000  \n",
      "25%      0.243750   24.000000    0.000000  \n",
      "50%      0.372500   29.000000    0.000000  \n",
      "75%      0.626250   41.000000    1.000000  \n",
      "max      2.420000   81.000000    1.000000  \n"
     ]
    }
   ],
   "source": [
    "print(df.head(5))\n",
    "print(df.info())\n",
    "print(df.describe())"
   ]
  },
  {
   "cell_type": "markdown",
   "id": "20f9fe61",
   "metadata": {},
   "source": [
    "* 임신횟수(pregnant)와 당뇨병 발병여부(class)만 확인"
   ]
  },
  {
   "cell_type": "code",
   "execution_count": 31,
   "id": "c354b4ed",
   "metadata": {
    "ExecuteTime": {
     "end_time": "2021-06-03T01:25:09.506052Z",
     "start_time": "2021-06-03T01:25:09.499092Z"
    }
   },
   "outputs": [
    {
     "name": "stdout",
     "output_type": "stream",
     "text": [
      "     pregnant  class\n",
      "0           6      1\n",
      "1           1      0\n",
      "2           8      1\n",
      "3           1      0\n",
      "4           0      1\n",
      "..        ...    ...\n",
      "763        10      0\n",
      "764         2      0\n",
      "765         5      0\n",
      "766         1      1\n",
      "767         1      0\n",
      "\n",
      "[768 rows x 2 columns]\n"
     ]
    }
   ],
   "source": [
    "print(df[['pregnant', 'class']])"
   ]
  },
  {
   "cell_type": "markdown",
   "id": "7acf5ac1",
   "metadata": {},
   "source": [
    "* 임신 횟수당 당뇨병 발병 확률"
   ]
  },
  {
   "cell_type": "code",
   "execution_count": 32,
   "id": "cfa7e789",
   "metadata": {
    "ExecuteTime": {
     "end_time": "2021-06-03T01:25:10.160198Z",
     "start_time": "2021-06-03T01:25:10.139095Z"
    }
   },
   "outputs": [
    {
     "name": "stdout",
     "output_type": "stream",
     "text": [
      "    pregnant     class\n",
      "0          0  0.342342\n",
      "1          1  0.214815\n",
      "2          2  0.184466\n",
      "3          3  0.360000\n",
      "4          4  0.338235\n",
      "5          5  0.368421\n",
      "6          6  0.320000\n",
      "7          7  0.555556\n",
      "8          8  0.578947\n",
      "9          9  0.642857\n",
      "10        10  0.416667\n",
      "11        11  0.636364\n",
      "12        12  0.444444\n",
      "13        13  0.500000\n",
      "14        14  1.000000\n",
      "15        15  1.000000\n",
      "16        17  1.000000\n"
     ]
    }
   ],
   "source": [
    "print(df[['pregnant', 'class']].groupby(['pregnant'], as_index=False).mean().sort_values(by='pregnant', ascending=True))"
   ]
  },
  {
   "cell_type": "markdown",
   "id": "f77cb169",
   "metadata": {},
   "source": [
    "* matplotlib를 이용해 그래프로 표현하기"
   ]
  },
  {
   "cell_type": "code",
   "execution_count": 33,
   "id": "679381b2",
   "metadata": {
    "ExecuteTime": {
     "end_time": "2021-06-03T01:25:11.064983Z",
     "start_time": "2021-06-03T01:25:11.051094Z"
    }
   },
   "outputs": [],
   "source": [
    "import seaborn as sns  # 좀 더 정교한 그래프를 그리게끔 도와주는 라이브러리"
   ]
  },
  {
   "cell_type": "code",
   "execution_count": 34,
   "id": "26cd81f5",
   "metadata": {
    "ExecuteTime": {
     "end_time": "2021-06-03T01:25:13.067031Z",
     "start_time": "2021-06-03T01:25:13.051094Z"
    }
   },
   "outputs": [
    {
     "data": {
      "text/plain": [
       "<Figure size 864x864 with 0 Axes>"
      ]
     },
     "execution_count": 34,
     "metadata": {},
     "output_type": "execute_result"
    },
    {
     "data": {
      "text/plain": [
       "<Figure size 864x864 with 0 Axes>"
      ]
     },
     "metadata": {},
     "output_type": "display_data"
    }
   ],
   "source": [
    "plt.figure(figsize=(12, 12))"
   ]
  },
  {
   "cell_type": "code",
   "execution_count": 35,
   "id": "501e80c8",
   "metadata": {
    "ExecuteTime": {
     "end_time": "2021-06-03T01:25:13.937094Z",
     "start_time": "2021-06-03T01:25:13.555094Z"
    }
   },
   "outputs": [
    {
     "data": {
      "image/png": "[encoded data removed]",
      "text/plain": [
       "<Figure size 432x288 with 2 Axes>"
      ]
     },
     "metadata": {
      "needs_background": "light"
     },
     "output_type": "display_data"
    }
   ],
   "source": [
    "# heatmap() 함수는 각 항목간의 상관관계를 나태내줌\n",
    "# 두 항목이 전혀 다른 패턴이면 0, 서로 비슷한 패턴으로 변할수록 1에 가까운 값 출력\n",
    "sns.heatmap(df.corr(), linewidths=0.1, vmax=0.5, cmap=plt.cm.gist_heat, linecolor='white', annot=True)\n",
    "plt.show()"
   ]
  },
  {
   "cell_type": "markdown",
   "id": "9760d959",
   "metadata": {},
   "source": [
    "* class 항목과 가장 상관관계가 높은 plasma항목과의 관계를 그래프로 표현"
   ]
  },
  {
   "cell_type": "code",
   "execution_count": 36,
   "id": "63ca7b04",
   "metadata": {
    "ExecuteTime": {
     "end_time": "2021-06-03T01:25:14.730637Z",
     "start_time": "2021-06-03T01:25:14.522664Z"
    }
   },
   "outputs": [
    {
     "data": {
      "image/png": "[encoded data removed]",
      "text/plain": [
       "<Figure size 432x216 with 2 Axes>"
      ]
     },
     "metadata": {
      "needs_background": "light"
     },
     "output_type": "display_data"
    }
   ],
   "source": [
    "grid = sns.FacetGrid(df, col='class')\n",
    "grid.map(plt.hist, 'plasma', bins=10)\n",
    "plt.show()"
   ]
  },
  {
   "cell_type": "markdown",
   "id": "9fc6ea10",
   "metadata": {},
   "source": [
    "* 피마 인디언의 당뇨병 예측 실행"
   ]
  },
  {
   "cell_type": "code",
   "execution_count": 37,
   "id": "dd783e40",
   "metadata": {
    "ExecuteTime": {
     "end_time": "2021-06-03T01:25:16.128060Z",
     "start_time": "2021-06-03T01:25:16.122099Z"
    }
   },
   "outputs": [],
   "source": [
    "# seed값 생성\n",
    "np.random.seed(3)\n",
    "tf.random.set_seed(3)"
   ]
  },
  {
   "cell_type": "code",
   "execution_count": 41,
   "id": "d5404382",
   "metadata": {
    "ExecuteTime": {
     "end_time": "2021-06-03T01:26:37.354029Z",
     "start_time": "2021-06-03T01:26:37.340093Z"
    }
   },
   "outputs": [],
   "source": [
    "# 데이터 로드\n",
    "dataset = np.loadtxt(\"./dataset/pima-indians-diabetes.csv\", delimiter=',')\n",
    "X = dataset[:, 0:8]\n",
    "Y = dataset[:, 8]"
   ]
  },
  {
   "cell_type": "code",
   "execution_count": 42,
   "id": "0a04aa8f",
   "metadata": {
    "ExecuteTime": {
     "end_time": "2021-06-03T01:26:38.117253Z",
     "start_time": "2021-06-03T01:26:38.084087Z"
    }
   },
   "outputs": [],
   "source": [
    "# 모델 설정\n",
    "model = Sequential()\n",
    "model.add(Dense(12, input_dim=8, activation='relu'))\n",
    "model.add(Dense(8, activation='relu'))\n",
    "model.add(Dense(1, activation='sigmoid'))"
   ]
  },
  {
   "cell_type": "code",
   "execution_count": 43,
   "id": "91be8b2e",
   "metadata": {
    "ExecuteTime": {
     "end_time": "2021-06-03T01:26:38.335018Z",
     "start_time": "2021-06-03T01:26:38.316068Z"
    }
   },
   "outputs": [],
   "source": [
    "# 모델 컴파일\n",
    "model.compile(loss='binary_crossentropy',\n",
    "             optimizer='adam',\n",
    "             metrics=['accuracy'])"
   ]
  },
  {
   "cell_type": "code",
   "execution_count": 44,
   "id": "329bc89d",
   "metadata": {
    "ExecuteTime": {
     "end_time": "2021-06-03T01:26:47.079172Z",
     "start_time": "2021-06-03T01:26:38.738664Z"
    }
   },
   "outputs": [
    {
     "name": "stdout",
     "output_type": "stream",
     "text": [
      "Epoch 1/200\n",
      "77/77 [==============================] - 0s 543us/step - loss: 8.9094 - accuracy: 0.6118\n",
      "Epoch 2/200\n",
      "77/77 [==============================] - 0s 543us/step - loss: 3.0714 - accuracy: 0.5777\n",
      "Epoch 3/200\n",
      "77/77 [==============================] - 0s 521us/step - loss: 1.4273 - accuracy: 0.4107\n",
      "Epoch 4/200\n",
      "77/77 [==============================] - 0s 521us/step - loss: 0.8676 - accuracy: 0.6224\n",
      "Epoch 5/200\n",
      "77/77 [==============================] - 0s 498us/step - loss: 0.7041 - accuracy: 0.6182\n",
      "Epoch 6/200\n",
      "77/77 [==============================] - 0s 511us/step - loss: 0.6998 - accuracy: 0.6398\n",
      "Epoch 7/200\n",
      "77/77 [==============================] - 0s 499us/step - loss: 0.6622 - accuracy: 0.6479\n",
      "Epoch 8/200\n",
      "77/77 [==============================] - 0s 499us/step - loss: 0.6459 - accuracy: 0.6801\n",
      "Epoch 9/200\n",
      "77/77 [==============================] - 0s 531us/step - loss: 0.6348 - accuracy: 0.6895\n",
      "Epoch 10/200\n",
      "77/77 [==============================] - 0s 527us/step - loss: 0.6447 - accuracy: 0.6724\n",
      "Epoch 11/200\n",
      "77/77 [==============================] - 0s 512us/step - loss: 0.6142 - accuracy: 0.7252\n",
      "Epoch 12/200\n",
      "77/77 [==============================] - 0s 489us/step - loss: 0.6305 - accuracy: 0.6870\n",
      "Epoch 13/200\n",
      "77/77 [==============================] - 0s 513us/step - loss: 0.5995 - accuracy: 0.6982\n",
      "Epoch 14/200\n",
      "77/77 [==============================] - 0s 498us/step - loss: 0.6513 - accuracy: 0.6795\n",
      "Epoch 15/200\n",
      "77/77 [==============================] - 0s 501us/step - loss: 0.6118 - accuracy: 0.6754\n",
      "Epoch 16/200\n",
      "77/77 [==============================] - 0s 498us/step - loss: 0.6062 - accuracy: 0.6855\n",
      "Epoch 17/200\n",
      "77/77 [==============================] - 0s 496us/step - loss: 0.5966 - accuracy: 0.7033\n",
      "Epoch 18/200\n",
      "77/77 [==============================] - 0s 513us/step - loss: 0.6078 - accuracy: 0.6699\n",
      "Epoch 19/200\n",
      "77/77 [==============================] - 0s 497us/step - loss: 0.5857 - accuracy: 0.7068\n",
      "Epoch 20/200\n",
      "77/77 [==============================] - 0s 505us/step - loss: 0.6069 - accuracy: 0.6904\n",
      "Epoch 21/200\n",
      "77/77 [==============================] - 0s 486us/step - loss: 0.5765 - accuracy: 0.7293\n",
      "Epoch 22/200\n",
      "77/77 [==============================] - 0s 503us/step - loss: 0.5775 - accuracy: 0.7139\n",
      "Epoch 23/200\n",
      "77/77 [==============================] - 0s 500us/step - loss: 0.5865 - accuracy: 0.7040\n",
      "Epoch 24/200\n",
      "77/77 [==============================] - 0s 494us/step - loss: 0.5843 - accuracy: 0.7093\n",
      "Epoch 25/200\n",
      "77/77 [==============================] - 0s 511us/step - loss: 0.6006 - accuracy: 0.6966\n",
      "Epoch 26/200\n",
      "77/77 [==============================] - 0s 556us/step - loss: 0.5691 - accuracy: 0.7059\n",
      "Epoch 27/200\n",
      "77/77 [==============================] - 0s 610us/step - loss: 0.6142 - accuracy: 0.6831\n",
      "Epoch 28/200\n",
      "77/77 [==============================] - 0s 601us/step - loss: 0.5556 - accuracy: 0.7384\n",
      "Epoch 29/200\n",
      "77/77 [==============================] - 0s 587us/step - loss: 0.6079 - accuracy: 0.6767\n",
      "Epoch 30/200\n",
      "77/77 [==============================] - 0s 514us/step - loss: 0.5732 - accuracy: 0.7023\n",
      "Epoch 31/200\n",
      "77/77 [==============================] - 0s 508us/step - loss: 0.5749 - accuracy: 0.7168\n",
      "Epoch 32/200\n",
      "77/77 [==============================] - 0s 493us/step - loss: 0.5780 - accuracy: 0.7026\n",
      "Epoch 33/200\n",
      "77/77 [==============================] - 0s 490us/step - loss: 0.5681 - accuracy: 0.6974\n",
      "Epoch 34/200\n",
      "77/77 [==============================] - 0s 488us/step - loss: 0.5691 - accuracy: 0.7093\n",
      "Epoch 35/200\n",
      "77/77 [==============================] - 0s 485us/step - loss: 0.5553 - accuracy: 0.7121\n",
      "Epoch 36/200\n",
      "77/77 [==============================] - 0s 495us/step - loss: 0.5565 - accuracy: 0.7371\n",
      "Epoch 37/200\n",
      "77/77 [==============================] - 0s 498us/step - loss: 0.5597 - accuracy: 0.7205\n",
      "Epoch 38/200\n",
      "77/77 [==============================] - 0s 507us/step - loss: 0.5779 - accuracy: 0.6930\n",
      "Epoch 39/200\n",
      "77/77 [==============================] - 0s 567us/step - loss: 0.5856 - accuracy: 0.6983\n",
      "Epoch 40/200\n",
      "77/77 [==============================] - 0s 590us/step - loss: 0.5801 - accuracy: 0.6931\n",
      "Epoch 41/200\n",
      "77/77 [==============================] - 0s 574us/step - loss: 0.5377 - accuracy: 0.7391\n",
      "Epoch 42/200\n",
      "77/77 [==============================] - 0s 554us/step - loss: 0.5610 - accuracy: 0.7010\n",
      "Epoch 43/200\n",
      "77/77 [==============================] - 0s 566us/step - loss: 0.5498 - accuracy: 0.7211\n",
      "Epoch 44/200\n",
      "77/77 [==============================] - 0s 505us/step - loss: 0.5736 - accuracy: 0.7168\n",
      "Epoch 45/200\n",
      "77/77 [==============================] - 0s 512us/step - loss: 0.5587 - accuracy: 0.7122\n",
      "Epoch 46/200\n",
      "77/77 [==============================] - 0s 475us/step - loss: 0.5848 - accuracy: 0.6840\n",
      "Epoch 47/200\n",
      "77/77 [==============================] - 0s 459us/step - loss: 0.5432 - accuracy: 0.7252\n",
      "Epoch 48/200\n",
      "77/77 [==============================] - 0s 465us/step - loss: 0.5239 - accuracy: 0.7484\n",
      "Epoch 49/200\n",
      "77/77 [==============================] - 0s 481us/step - loss: 0.5679 - accuracy: 0.7141\n",
      "Epoch 50/200\n",
      "77/77 [==============================] - 0s 473us/step - loss: 0.5579 - accuracy: 0.7093\n",
      "Epoch 51/200\n",
      "77/77 [==============================] - 0s 472us/step - loss: 0.5728 - accuracy: 0.7026\n",
      "Epoch 52/200\n",
      "77/77 [==============================] - 0s 476us/step - loss: 0.5492 - accuracy: 0.7325\n",
      "Epoch 53/200\n",
      "77/77 [==============================] - 0s 469us/step - loss: 0.5286 - accuracy: 0.7583\n",
      "Epoch 54/200\n",
      "77/77 [==============================] - 0s 472us/step - loss: 0.5280 - accuracy: 0.7407\n",
      "Epoch 55/200\n",
      "77/77 [==============================] - 0s 459us/step - loss: 0.5711 - accuracy: 0.7009\n",
      "Epoch 56/200\n",
      "77/77 [==============================] - 0s 491us/step - loss: 0.5670 - accuracy: 0.7007\n",
      "Epoch 57/200\n",
      "77/77 [==============================] - 0s 475us/step - loss: 0.5492 - accuracy: 0.7186\n",
      "Epoch 58/200\n",
      "77/77 [==============================] - 0s 458us/step - loss: 0.5633 - accuracy: 0.7022\n",
      "Epoch 59/200\n",
      "77/77 [==============================] - 0s 462us/step - loss: 0.5276 - accuracy: 0.7600\n",
      "Epoch 60/200\n",
      "77/77 [==============================] - 0s 476us/step - loss: 0.5451 - accuracy: 0.7312\n",
      "Epoch 61/200\n",
      "77/77 [==============================] - 0s 489us/step - loss: 0.5450 - accuracy: 0.7361\n",
      "Epoch 62/200\n",
      "77/77 [==============================] - 0s 459us/step - loss: 0.5665 - accuracy: 0.7039\n",
      "Epoch 63/200\n",
      "77/77 [==============================] - 0s 456us/step - loss: 0.5423 - accuracy: 0.7340\n",
      "Epoch 64/200\n",
      "77/77 [==============================] - ETA: 0s - loss: 0.5831 - accuracy: 0.60 - 0s 491us/step - loss: 0.5311 - accuracy: 0.7200\n",
      "Epoch 65/200\n",
      "77/77 [==============================] - 0s 472us/step - loss: 0.5284 - accuracy: 0.7413\n",
      "Epoch 66/200\n",
      "77/77 [==============================] - 0s 472us/step - loss: 0.5172 - accuracy: 0.7436\n",
      "Epoch 67/200\n",
      "77/77 [==============================] - 0s 478us/step - loss: 0.5210 - accuracy: 0.7448\n",
      "Epoch 68/200\n",
      "77/77 [==============================] - 0s 472us/step - loss: 0.5608 - accuracy: 0.7111\n",
      "Epoch 69/200\n",
      "77/77 [==============================] - 0s 472us/step - loss: 0.5397 - accuracy: 0.7162\n",
      "Epoch 70/200\n",
      "77/77 [==============================] - 0s 486us/step - loss: 0.5409 - accuracy: 0.7209\n",
      "Epoch 71/200\n",
      "77/77 [==============================] - 0s 516us/step - loss: 0.5541 - accuracy: 0.7155\n",
      "Epoch 72/200\n",
      "77/77 [==============================] - 0s 499us/step - loss: 0.5278 - accuracy: 0.7226\n",
      "Epoch 73/200\n",
      "77/77 [==============================] - 0s 525us/step - loss: 0.5455 - accuracy: 0.7292\n",
      "Epoch 74/200\n",
      "77/77 [==============================] - 0s 482us/step - loss: 0.5226 - accuracy: 0.7643\n",
      "Epoch 75/200\n",
      "77/77 [==============================] - 0s 479us/step - loss: 0.5174 - accuracy: 0.7403\n",
      "Epoch 76/200\n",
      "77/77 [==============================] - 0s 486us/step - loss: 0.5394 - accuracy: 0.7230\n",
      "Epoch 77/200\n",
      "77/77 [==============================] - 0s 476us/step - loss: 0.5460 - accuracy: 0.7322\n",
      "Epoch 78/200\n",
      "77/77 [==============================] - 0s 472us/step - loss: 0.5397 - accuracy: 0.7200\n",
      "Epoch 79/200\n",
      "77/77 [==============================] - 0s 475us/step - loss: 0.5165 - accuracy: 0.7428\n",
      "Epoch 80/200\n",
      "77/77 [==============================] - 0s 485us/step - loss: 0.5076 - accuracy: 0.7480\n"
     ]
    },
    {
     "name": "stdout",
     "output_type": "stream",
     "text": [
      "Epoch 81/200\n",
      "77/77 [==============================] - 0s 459us/step - loss: 0.5230 - accuracy: 0.7283\n",
      "Epoch 82/200\n",
      "77/77 [==============================] - 0s 472us/step - loss: 0.5309 - accuracy: 0.7443\n",
      "Epoch 83/200\n",
      "77/77 [==============================] - 0s 459us/step - loss: 0.5536 - accuracy: 0.7231\n",
      "Epoch 84/200\n",
      "77/77 [==============================] - 0s 446us/step - loss: 0.4993 - accuracy: 0.7658\n",
      "Epoch 85/200\n",
      "77/77 [==============================] - 0s 459us/step - loss: 0.5162 - accuracy: 0.7535\n",
      "Epoch 86/200\n",
      "77/77 [==============================] - 0s 446us/step - loss: 0.5163 - accuracy: 0.7609\n",
      "Epoch 87/200\n",
      "77/77 [==============================] - 0s 486us/step - loss: 0.5151 - accuracy: 0.7782\n",
      "Epoch 88/200\n",
      "77/77 [==============================] - 0s 481us/step - loss: 0.5109 - accuracy: 0.7564\n",
      "Epoch 89/200\n",
      "77/77 [==============================] - 0s 472us/step - loss: 0.4808 - accuracy: 0.7742\n",
      "Epoch 90/200\n",
      "77/77 [==============================] - 0s 484us/step - loss: 0.5262 - accuracy: 0.7329\n",
      "Epoch 91/200\n",
      "77/77 [==============================] - 0s 472us/step - loss: 0.5060 - accuracy: 0.7517\n",
      "Epoch 92/200\n",
      "77/77 [==============================] - 0s 475us/step - loss: 0.5132 - accuracy: 0.7654\n",
      "Epoch 93/200\n",
      "77/77 [==============================] - 0s 446us/step - loss: 0.5139 - accuracy: 0.7587\n",
      "Epoch 94/200\n",
      "77/77 [==============================] - 0s 446us/step - loss: 0.5209 - accuracy: 0.7632\n",
      "Epoch 95/200\n",
      "77/77 [==============================] - 0s 446us/step - loss: 0.4799 - accuracy: 0.7859\n",
      "Epoch 96/200\n",
      "77/77 [==============================] - 0s 446us/step - loss: 0.5123 - accuracy: 0.7358\n",
      "Epoch 97/200\n",
      "77/77 [==============================] - 0s 459us/step - loss: 0.5110 - accuracy: 0.7573\n",
      "Epoch 98/200\n",
      "77/77 [==============================] - 0s 472us/step - loss: 0.5211 - accuracy: 0.7422\n",
      "Epoch 99/200\n",
      "77/77 [==============================] - 0s 499us/step - loss: 0.5339 - accuracy: 0.7284\n",
      "Epoch 100/200\n",
      "77/77 [==============================] - 0s 486us/step - loss: 0.4945 - accuracy: 0.7542\n",
      "Epoch 101/200\n",
      "77/77 [==============================] - ETA: 0s - loss: 0.4090 - accuracy: 0.90 - 0s 512us/step - loss: 0.4752 - accuracy: 0.7711\n",
      "Epoch 102/200\n",
      "77/77 [==============================] - 0s 486us/step - loss: 0.4971 - accuracy: 0.7552\n",
      "Epoch 103/200\n",
      "77/77 [==============================] - 0s 485us/step - loss: 0.5075 - accuracy: 0.7461\n",
      "Epoch 104/200\n",
      "77/77 [==============================] - 0s 498us/step - loss: 0.4785 - accuracy: 0.7685\n",
      "Epoch 105/200\n",
      "77/77 [==============================] - 0s 472us/step - loss: 0.5116 - accuracy: 0.7445\n",
      "Epoch 106/200\n",
      "77/77 [==============================] - 0s 472us/step - loss: 0.4898 - accuracy: 0.7718\n",
      "Epoch 107/200\n",
      "77/77 [==============================] - 0s 499us/step - loss: 0.5142 - accuracy: 0.7382\n",
      "Epoch 108/200\n",
      "77/77 [==============================] - 0s 472us/step - loss: 0.5079 - accuracy: 0.7613\n",
      "Epoch 109/200\n",
      "77/77 [==============================] - 0s 472us/step - loss: 0.4733 - accuracy: 0.7818\n",
      "Epoch 110/200\n",
      "77/77 [==============================] - 0s 506us/step - loss: 0.4806 - accuracy: 0.7690\n",
      "Epoch 111/200\n",
      "77/77 [==============================] - 0s 479us/step - loss: 0.5027 - accuracy: 0.7282\n",
      "Epoch 112/200\n",
      "77/77 [==============================] - 0s 474us/step - loss: 0.4894 - accuracy: 0.7518\n",
      "Epoch 113/200\n",
      "77/77 [==============================] - 0s 446us/step - loss: 0.4721 - accuracy: 0.7692\n",
      "Epoch 114/200\n",
      "77/77 [==============================] - 0s 440us/step - loss: 0.4861 - accuracy: 0.7587\n",
      "Epoch 115/200\n",
      "77/77 [==============================] - 0s 446us/step - loss: 0.4835 - accuracy: 0.7593\n",
      "Epoch 116/200\n",
      "77/77 [==============================] - 0s 459us/step - loss: 0.5045 - accuracy: 0.7280\n",
      "Epoch 117/200\n",
      "77/77 [==============================] - 0s 486us/step - loss: 0.5056 - accuracy: 0.7405\n",
      "Epoch 118/200\n",
      "77/77 [==============================] - 0s 486us/step - loss: 0.4718 - accuracy: 0.7586\n",
      "Epoch 119/200\n",
      "77/77 [==============================] - 0s 580us/step - loss: 0.4705 - accuracy: 0.7752\n",
      "Epoch 120/200\n",
      "77/77 [==============================] - 0s 482us/step - loss: 0.4998 - accuracy: 0.7700\n",
      "Epoch 121/200\n",
      "77/77 [==============================] - 0s 480us/step - loss: 0.4780 - accuracy: 0.7628\n",
      "Epoch 122/200\n",
      "77/77 [==============================] - 0s 459us/step - loss: 0.4852 - accuracy: 0.7623\n",
      "Epoch 123/200\n",
      "77/77 [==============================] - 0s 446us/step - loss: 0.5010 - accuracy: 0.7389\n",
      "Epoch 124/200\n",
      "77/77 [==============================] - 0s 446us/step - loss: 0.4665 - accuracy: 0.7781\n",
      "Epoch 125/200\n",
      "77/77 [==============================] - 0s 452us/step - loss: 0.4748 - accuracy: 0.7662\n",
      "Epoch 126/200\n",
      "77/77 [==============================] - 0s 459us/step - loss: 0.4891 - accuracy: 0.7563\n",
      "Epoch 127/200\n",
      "77/77 [==============================] - 0s 459us/step - loss: 0.4751 - accuracy: 0.7685\n",
      "Epoch 128/200\n",
      "77/77 [==============================] - 0s 459us/step - loss: 0.4833 - accuracy: 0.7708\n",
      "Epoch 129/200\n",
      "77/77 [==============================] - 0s 487us/step - loss: 0.5082 - accuracy: 0.7266\n",
      "Epoch 130/200\n",
      "77/77 [==============================] - 0s 472us/step - loss: 0.5116 - accuracy: 0.7413\n",
      "Epoch 131/200\n",
      "77/77 [==============================] - 0s 494us/step - loss: 0.4780 - accuracy: 0.7542\n",
      "Epoch 132/200\n",
      "77/77 [==============================] - 0s 472us/step - loss: 0.4685 - accuracy: 0.7890\n",
      "Epoch 133/200\n",
      "77/77 [==============================] - 0s 472us/step - loss: 0.4741 - accuracy: 0.7773\n",
      "Epoch 134/200\n",
      "77/77 [==============================] - 0s 459us/step - loss: 0.4804 - accuracy: 0.7412\n",
      "Epoch 135/200\n",
      "77/77 [==============================] - 0s 459us/step - loss: 0.4679 - accuracy: 0.7769\n",
      "Epoch 136/200\n",
      "77/77 [==============================] - 0s 446us/step - loss: 0.4554 - accuracy: 0.7842\n",
      "Epoch 137/200\n",
      "77/77 [==============================] - 0s 459us/step - loss: 0.4825 - accuracy: 0.7673\n",
      "Epoch 138/200\n",
      "77/77 [==============================] - 0s 459us/step - loss: 0.4804 - accuracy: 0.7612\n",
      "Epoch 139/200\n",
      "77/77 [==============================] - 0s 472us/step - loss: 0.4912 - accuracy: 0.7500\n",
      "Epoch 140/200\n",
      "77/77 [==============================] - 0s 474us/step - loss: 0.4851 - accuracy: 0.7576\n",
      "Epoch 141/200\n",
      "77/77 [==============================] - 0s 476us/step - loss: 0.4450 - accuracy: 0.7840\n",
      "Epoch 142/200\n",
      "77/77 [==============================] - 0s 503us/step - loss: 0.4721 - accuracy: 0.7758\n",
      "Epoch 143/200\n",
      "77/77 [==============================] - 0s 472us/step - loss: 0.4540 - accuracy: 0.7796\n",
      "Epoch 144/200\n",
      "77/77 [==============================] - 0s 465us/step - loss: 0.4757 - accuracy: 0.7786\n",
      "Epoch 145/200\n",
      "77/77 [==============================] - 0s 463us/step - loss: 0.4736 - accuracy: 0.7643\n",
      "Epoch 146/200\n",
      "77/77 [==============================] - 0s 457us/step - loss: 0.5066 - accuracy: 0.7437\n",
      "Epoch 147/200\n",
      "77/77 [==============================] - 0s 459us/step - loss: 0.4467 - accuracy: 0.8045\n",
      "Epoch 148/200\n",
      "77/77 [==============================] - 0s 459us/step - loss: 0.4412 - accuracy: 0.7945\n",
      "Epoch 149/200\n",
      "77/77 [==============================] - 0s 472us/step - loss: 0.4993 - accuracy: 0.7438\n",
      "Epoch 150/200\n",
      "77/77 [==============================] - 0s 472us/step - loss: 0.4726 - accuracy: 0.7529\n",
      "Epoch 151/200\n",
      "77/77 [==============================] - 0s 458us/step - loss: 0.4704 - accuracy: 0.7733\n",
      "Epoch 152/200\n",
      "77/77 [==============================] - 0s 480us/step - loss: 0.4616 - accuracy: 0.7848\n",
      "Epoch 153/200\n",
      "77/77 [==============================] - 0s 459us/step - loss: 0.4470 - accuracy: 0.7903\n",
      "Epoch 154/200\n",
      "77/77 [==============================] - 0s 459us/step - loss: 0.4837 - accuracy: 0.7512\n",
      "Epoch 155/200\n",
      "77/77 [==============================] - 0s 459us/step - loss: 0.4911 - accuracy: 0.7564\n",
      "Epoch 156/200\n",
      "77/77 [==============================] - 0s 473us/step - loss: 0.4636 - accuracy: 0.7592\n",
      "Epoch 157/200\n",
      "77/77 [==============================] - 0s 446us/step - loss: 0.4681 - accuracy: 0.7558\n",
      "Epoch 158/200\n",
      "77/77 [==============================] - 0s 459us/step - loss: 0.4502 - accuracy: 0.7932\n",
      "Epoch 159/200\n",
      "77/77 [==============================] - 0s 484us/step - loss: 0.4811 - accuracy: 0.7364\n",
      "Epoch 160/200\n"
     ]
    },
    {
     "name": "stdout",
     "output_type": "stream",
     "text": [
      "77/77 [==============================] - 0s 486us/step - loss: 0.4345 - accuracy: 0.7960\n",
      "Epoch 161/200\n",
      "77/77 [==============================] - 0s 468us/step - loss: 0.4520 - accuracy: 0.7859\n",
      "Epoch 162/200\n",
      "77/77 [==============================] - 0s 472us/step - loss: 0.4520 - accuracy: 0.7849\n",
      "Epoch 163/200\n",
      "77/77 [==============================] - 0s 486us/step - loss: 0.4963 - accuracy: 0.7391\n",
      "Epoch 164/200\n",
      "77/77 [==============================] - 0s 446us/step - loss: 0.4957 - accuracy: 0.7552\n",
      "Epoch 165/200\n",
      "77/77 [==============================] - 0s 446us/step - loss: 0.4709 - accuracy: 0.7657\n",
      "Epoch 166/200\n",
      "77/77 [==============================] - 0s 446us/step - loss: 0.4748 - accuracy: 0.7492\n",
      "Epoch 167/200\n",
      "77/77 [==============================] - 0s 446us/step - loss: 0.4729 - accuracy: 0.7487\n",
      "Epoch 168/200\n",
      "77/77 [==============================] - 0s 459us/step - loss: 0.4707 - accuracy: 0.7624\n",
      "Epoch 169/200\n",
      "77/77 [==============================] - 0s 459us/step - loss: 0.4589 - accuracy: 0.7595\n",
      "Epoch 170/200\n",
      "77/77 [==============================] - 0s 446us/step - loss: 0.4646 - accuracy: 0.7721\n",
      "Epoch 171/200\n",
      "77/77 [==============================] - 0s 459us/step - loss: 0.4328 - accuracy: 0.7828\n",
      "Epoch 172/200\n",
      "77/77 [==============================] - 0s 486us/step - loss: 0.4807 - accuracy: 0.7447\n",
      "Epoch 173/200\n",
      "77/77 [==============================] - 0s 486us/step - loss: 0.4763 - accuracy: 0.7614\n",
      "Epoch 174/200\n",
      "77/77 [==============================] - 0s 472us/step - loss: 0.4869 - accuracy: 0.7630\n",
      "Epoch 175/200\n",
      "77/77 [==============================] - 0s 466us/step - loss: 0.4801 - accuracy: 0.7569\n",
      "Epoch 176/200\n",
      "77/77 [==============================] - 0s 486us/step - loss: 0.4487 - accuracy: 0.7771\n",
      "Epoch 177/200\n",
      "77/77 [==============================] - 0s 446us/step - loss: 0.4598 - accuracy: 0.7870\n",
      "Epoch 178/200\n",
      "77/77 [==============================] - 0s 455us/step - loss: 0.4520 - accuracy: 0.7789\n",
      "Epoch 179/200\n",
      "77/77 [==============================] - 0s 459us/step - loss: 0.4587 - accuracy: 0.7875\n",
      "Epoch 180/200\n",
      "77/77 [==============================] - 0s 459us/step - loss: 0.4656 - accuracy: 0.7803\n",
      "Epoch 181/200\n",
      "77/77 [==============================] - 0s 462us/step - loss: 0.4678 - accuracy: 0.7651\n",
      "Epoch 182/200\n",
      "77/77 [==============================] - 0s 459us/step - loss: 0.4699 - accuracy: 0.7684\n",
      "Epoch 183/200\n",
      "77/77 [==============================] - 0s 459us/step - loss: 0.4694 - accuracy: 0.7674\n",
      "Epoch 184/200\n",
      "77/77 [==============================] - 0s 472us/step - loss: 0.4623 - accuracy: 0.7625\n",
      "Epoch 185/200\n",
      "77/77 [==============================] - 0s 459us/step - loss: 0.4414 - accuracy: 0.7872\n",
      "Epoch 186/200\n",
      "77/77 [==============================] - 0s 446us/step - loss: 0.4677 - accuracy: 0.7635\n",
      "Epoch 187/200\n",
      "77/77 [==============================] - 0s 446us/step - loss: 0.4681 - accuracy: 0.7612\n",
      "Epoch 188/200\n",
      "77/77 [==============================] - 0s 446us/step - loss: 0.4523 - accuracy: 0.7781\n",
      "Epoch 189/200\n",
      "77/77 [==============================] - 0s 459us/step - loss: 0.4831 - accuracy: 0.7554\n",
      "Epoch 190/200\n",
      "77/77 [==============================] - 0s 486us/step - loss: 0.4714 - accuracy: 0.7710\n",
      "Epoch 191/200\n",
      "77/77 [==============================] - 0s 472us/step - loss: 0.4539 - accuracy: 0.7673\n",
      "Epoch 192/200\n",
      "77/77 [==============================] - 0s 474us/step - loss: 0.4703 - accuracy: 0.7690\n",
      "Epoch 193/200\n",
      "77/77 [==============================] - 0s 472us/step - loss: 0.4512 - accuracy: 0.7782\n",
      "Epoch 194/200\n",
      "77/77 [==============================] - 0s 459us/step - loss: 0.4654 - accuracy: 0.7606\n",
      "Epoch 195/200\n",
      "77/77 [==============================] - 0s 435us/step - loss: 0.4753 - accuracy: 0.7532\n",
      "Epoch 196/200\n",
      "77/77 [==============================] - 0s 446us/step - loss: 0.4513 - accuracy: 0.7738\n",
      "Epoch 197/200\n",
      "77/77 [==============================] - 0s 446us/step - loss: 0.4586 - accuracy: 0.7848\n",
      "Epoch 198/200\n",
      "77/77 [==============================] - 0s 444us/step - loss: 0.4332 - accuracy: 0.7845\n",
      "Epoch 199/200\n",
      "77/77 [==============================] - 0s 446us/step - loss: 0.4555 - accuracy: 0.7809\n",
      "Epoch 200/200\n",
      "77/77 [==============================] - 0s 446us/step - loss: 0.4480 - accuracy: 0.7679\n"
     ]
    },
    {
     "data": {
      "text/plain": [
       "<tensorflow.python.keras.callbacks.History at 0x28857e18130>"
      ]
     },
     "execution_count": 44,
     "metadata": {},
     "output_type": "execute_result"
    }
   ],
   "source": [
    "# 모델 실행\n",
    "model.fit(X, Y, epochs=200, batch_size=10)"
   ]
  },
  {
   "cell_type": "code",
   "execution_count": 45,
   "id": "533b3b92",
   "metadata": {
    "ExecuteTime": {
     "end_time": "2021-06-03T01:27:29.990565Z",
     "start_time": "2021-06-03T01:27:29.835090Z"
    }
   },
   "outputs": [
    {
     "name": "stdout",
     "output_type": "stream",
     "text": [
      "24/24 [==============================] - 0s 519us/step - loss: 0.4751 - accuracy: 0.7630\n",
      "\n",
      " Accuracy: 0.7630\n"
     ]
    }
   ],
   "source": [
    "# 결과 출력\n",
    "print(\"\\n Accuracy: %.4f\" % (model.evaluate(X, Y)[1]))"
   ]
  },
  {
   "cell_type": "code",
   "execution_count": null,
   "id": "1a06c752",
   "metadata": {},
   "outputs": [],
   "source": []
  }
 ],
 "metadata": {
  "kernelspec": {
   "display_name": "Python 3",
   "language": "python",
   "name": "python3"
  },
  "language_info": {
   "codemirror_mode": {
    "name": "ipython",
    "version": 3
   },
   "file_extension": ".py",
   "mimetype": "text/x-python",
   "name": "python",
   "nbconvert_exporter": "python",
   "pygments_lexer": "ipython3",
   "version": "3.8.9"
  },
  "toc": {
   "base_numbering": 1,
   "nav_menu": {},
   "number_sections": true,
   "sideBar": true,
   "skip_h1_title": false,
   "title_cell": "Table of Contents",
   "title_sidebar": "Contents",
   "toc_cell": false,
   "toc_position": {},
   "toc_section_display": true,
   "toc_window_display": false
  },
  "varInspector": {
   "cols": {
    "lenName": 16,
    "lenType": 16,
    "lenVar": 40
   },
   "kernels_config": {
    "python": {
     "delete_cmd_postfix": "",
     "delete_cmd_prefix": "del ",
     "library": "var_list.py",
     "varRefreshCmd": "print(var_dic_list())"
    },
    "r": {
     "delete_cmd_postfix": ") ",
     "delete_cmd_prefix": "rm(",
     "library": "var_list.r",
     "varRefreshCmd": "cat(var_dic_list()) "
    }
   },
   "types_to_exclude": [
    "module",
    "function",
    "builtin_function_or_method",
    "instance",
    "_Feature"
   ],
   "window_display": false
  }
 },
 "nbformat": 4,
 "nbformat_minor": 5
}
