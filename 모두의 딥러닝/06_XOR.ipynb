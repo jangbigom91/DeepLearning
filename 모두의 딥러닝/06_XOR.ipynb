{
 "cells": [
  {
   "cell_type": "markdown",
   "id": "05f7aabc",
   "metadata": {},
   "source": [
    "## 다층 퍼셉트론으로 XOR 문제 해결하기"
   ]
  },
  {
   "cell_type": "code",
   "execution_count": 1,
   "id": "d623b739",
   "metadata": {
    "ExecuteTime": {
     "end_time": "2021-06-02T07:16:20.579042Z",
     "start_time": "2021-06-02T07:16:20.569068Z"
    }
   },
   "outputs": [],
   "source": [
    "import numpy as np"
   ]
  },
  {
   "cell_type": "code",
   "execution_count": 2,
   "id": "88e8851c",
   "metadata": {
    "ExecuteTime": {
     "end_time": "2021-06-02T07:18:23.358030Z",
     "start_time": "2021-06-02T07:18:23.340105Z"
    }
   },
   "outputs": [],
   "source": [
    "# 가중치와 바이어스\n",
    "w11 = np.array([-2, -2])\n",
    "w12 = np.array([2, 2])\n",
    "w2 = np.array([1, 1])\n",
    "b1 = 3\n",
    "b2 = -1\n",
    "b3 = -1"
   ]
  },
  {
   "cell_type": "code",
   "execution_count": 3,
   "id": "0d8359e7",
   "metadata": {
    "ExecuteTime": {
     "end_time": "2021-06-02T07:19:11.168891Z",
     "start_time": "2021-06-02T07:19:11.164924Z"
    }
   },
   "outputs": [],
   "source": [
    "# 퍼셉트론\n",
    "def MLP(x, w, b):\n",
    "    y = np.sum(w * x) + b\n",
    "    if y <= 0:\n",
    "        return 0\n",
    "    else:\n",
    "        return 1"
   ]
  },
  {
   "cell_type": "code",
   "execution_count": 4,
   "id": "71eea452",
   "metadata": {
    "ExecuteTime": {
     "end_time": "2021-06-02T07:21:20.234158Z",
     "start_time": "2021-06-02T07:21:20.229146Z"
    }
   },
   "outputs": [],
   "source": [
    "# NAND 게이트\n",
    "def NAND(x1, x2):\n",
    "    return MLP(np.array([x1, x2]), w11, b1)\n",
    "\n",
    "# OR 게이트\n",
    "def OR(x1, x2):\n",
    "    return MLP(np.array([x1, x2]), w12, b2)\n",
    "\n",
    "# AND 게이트\n",
    "def AND(x1, x2):\n",
    "    return MLP(np.array([x1, x2]), w2, b3)\n",
    "\n",
    "# XOR 게이트\n",
    "def XOR(x1, x2):\n",
    "    return AND(NAND(x1, x2), OR(x1, x2))"
   ]
  },
  {
   "cell_type": "code",
   "execution_count": 5,
   "id": "8e0dfab1",
   "metadata": {
    "ExecuteTime": {
     "end_time": "2021-06-02T07:22:40.354175Z",
     "start_time": "2021-06-02T07:22:40.341185Z"
    }
   },
   "outputs": [
    {
     "name": "stdout",
     "output_type": "stream",
     "text": [
      "입력 값 : (0, 0)출력 값 : 0\n",
      "입력 값 : (1, 0)출력 값 : 1\n",
      "입력 값 : (0, 1)출력 값 : 1\n",
      "입력 값 : (1, 1)출력 값 : 0\n"
     ]
    }
   ],
   "source": [
    "# x1, x2값을 번갈아 대입하며 최종값 출력\n",
    "if __name__ == '__main__':\n",
    "    for x in [(0, 0), (1, 0), (0, 1), (1, 1)]:\n",
    "        y = XOR(x[0], x[1])\n",
    "        print(\"입력 값 : \" + str(x) + \"출력 값 : \" + str(y))"
   ]
  },
  {
   "cell_type": "code",
   "execution_count": null,
   "id": "1f7151e6",
   "metadata": {},
   "outputs": [],
   "source": []
  }
 ],
 "metadata": {
  "kernelspec": {
   "display_name": "Python 3",
   "language": "python",
   "name": "python3"
  },
  "language_info": {
   "codemirror_mode": {
    "name": "ipython",
    "version": 3
   },
   "file_extension": ".py",
   "mimetype": "text/x-python",
   "name": "python",
   "nbconvert_exporter": "python",
   "pygments_lexer": "ipython3",
   "version": "3.8.9"
  },
  "toc": {
   "base_numbering": 1,
   "nav_menu": {},
   "number_sections": true,
   "sideBar": true,
   "skip_h1_title": false,
   "title_cell": "Table of Contents",
   "title_sidebar": "Contents",
   "toc_cell": false,
   "toc_position": {},
   "toc_section_display": true,
   "toc_window_display": false
  },
  "varInspector": {
   "cols": {
    "lenName": 16,
    "lenType": 16,
    "lenVar": 40
   },
   "kernels_config": {
    "python": {
     "delete_cmd_postfix": "",
     "delete_cmd_prefix": "del ",
     "library": "var_list.py",
     "varRefreshCmd": "print(var_dic_list())"
    },
    "r": {
     "delete_cmd_postfix": ") ",
     "delete_cmd_prefix": "rm(",
     "library": "var_list.r",
     "varRefreshCmd": "cat(var_dic_list()) "
    }
   },
   "position": {
    "height": "144px",
    "left": "1134px",
    "right": "20px",
    "top": "221px",
    "width": "350px"
   },
   "types_to_exclude": [
    "module",
    "function",
    "builtin_function_or_method",
    "instance",
    "_Feature"
   ],
   "window_display": false
  }
 },
 "nbformat": 4,
 "nbformat_minor": 5
}
