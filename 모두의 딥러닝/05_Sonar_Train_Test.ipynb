{
 "cells": [
  {
   "cell_type": "markdown",
   "id": "1fcbb23e",
   "metadata": {},
   "source": [
    "## sonar 광물 예측하기 : 학습셋과 테스트셋"
   ]
  },
  {
   "cell_type": "code",
   "execution_count": 1,
   "id": "ed3fe7f3",
   "metadata": {
    "ExecuteTime": {
     "end_time": "2021-06-03T02:59:18.438883Z",
     "start_time": "2021-06-03T02:59:18.428909Z"
    }
   },
   "outputs": [],
   "source": [
    "from tensorflow.keras.models import Sequential\n",
    "from tensorflow.keras.layers import Dense\n",
    "from sklearn.preprocessing import LabelEncoder\n",
    "from sklearn.model_selection import train_test_split\n",
    "\n",
    "import pandas as pd\n",
    "import numpy as np\n",
    "import tensorflow as tf"
   ]
  },
  {
   "cell_type": "code",
   "execution_count": 2,
   "id": "ce4544e8",
   "metadata": {
    "ExecuteTime": {
     "end_time": "2021-06-03T03:00:15.545806Z",
     "start_time": "2021-06-03T03:00:15.537803Z"
    }
   },
   "outputs": [],
   "source": [
    "# seed 값 설정\n",
    "seed = 0\n",
    "np.random.seed(seed)\n",
    "tf.random.set_seed(3)"
   ]
  },
  {
   "cell_type": "code",
   "execution_count": 8,
   "id": "93cb3527",
   "metadata": {
    "ExecuteTime": {
     "end_time": "2021-06-03T03:08:26.721835Z",
     "start_time": "2021-06-03T03:08:26.698916Z"
    }
   },
   "outputs": [],
   "source": [
    "# 데이터 불러오기\n",
    "df = pd.read_csv(\"./dataset/sonar.csv\", header=None)\n",
    "\n",
    "dataset = df.values\n",
    "X = dataset[:, 0:60].astype(float)\n",
    "Y_obj = dataset[:, 60]\n",
    "\n",
    "e = LabelEncoder()\n",
    "e.fit(Y_obj)\n",
    "Y = e.transform(Y_obj)"
   ]
  },
  {
   "cell_type": "markdown",
   "id": "623cb650",
   "metadata": {},
   "source": [
    "* 과적합 방지 -> 학습셋과 테스트셋 구분"
   ]
  },
  {
   "cell_type": "code",
   "execution_count": 9,
   "id": "a0e3c811",
   "metadata": {
    "ExecuteTime": {
     "end_time": "2021-06-03T03:08:27.345854Z",
     "start_time": "2021-06-03T03:08:27.329924Z"
    }
   },
   "outputs": [],
   "source": [
    "# 학습셋과 테스트셋의 구분\n",
    "X_train, X_test, Y_train, Y_test = train_test_split(X, Y, test_size=0.3, random_state=seed)"
   ]
  },
  {
   "cell_type": "code",
   "execution_count": 10,
   "id": "7b43b4e8",
   "metadata": {
    "ExecuteTime": {
     "end_time": "2021-06-03T03:08:27.642011Z",
     "start_time": "2021-06-03T03:08:27.601955Z"
    }
   },
   "outputs": [],
   "source": [
    "# 모델 설정\n",
    "model = Sequential()\n",
    "model.add(Dense(24, input_dim=60, activation='relu'))\n",
    "model.add(Dense(10, activation='relu'))\n",
    "model.add(Dense(1, activation='sigmoid'))"
   ]
  },
  {
   "cell_type": "code",
   "execution_count": 11,
   "id": "00f1f34e",
   "metadata": {
    "ExecuteTime": {
     "end_time": "2021-06-03T03:08:28.053439Z",
     "start_time": "2021-06-03T03:08:28.034488Z"
    }
   },
   "outputs": [],
   "source": [
    "# 모델 컴파일\n",
    "model.compile(loss='mean_squared_error',\n",
    "             optimizer='adam',\n",
    "             metrics=['accuracy'])"
   ]
  },
  {
   "cell_type": "code",
   "execution_count": 12,
   "id": "7a858f41",
   "metadata": {
    "ExecuteTime": {
     "end_time": "2021-06-03T03:08:31.404030Z",
     "start_time": "2021-06-03T03:08:28.860890Z"
    }
   },
   "outputs": [
    {
     "name": "stdout",
     "output_type": "stream",
     "text": [
      "Epoch 1/130\n",
      "29/29 [==============================] - 0s 519us/step - loss: 0.2564 - accuracy: 0.4276\n",
      "Epoch 2/130\n",
      "29/29 [==============================] - 0s 603us/step - loss: 0.2482 - accuracy: 0.5548\n",
      "Epoch 3/130\n",
      "29/29 [==============================] - 0s 578us/step - loss: 0.2342 - accuracy: 0.6673\n",
      "Epoch 4/130\n",
      "29/29 [==============================] - 0s 566us/step - loss: 0.2343 - accuracy: 0.6165\n",
      "Epoch 5/130\n",
      "29/29 [==============================] - 0s 617us/step - loss: 0.2242 - accuracy: 0.7571\n",
      "Epoch 6/130\n",
      "29/29 [==============================] - 0s 606us/step - loss: 0.2231 - accuracy: 0.6978\n",
      "Epoch 7/130\n",
      "29/29 [==============================] - 0s 540us/step - loss: 0.2170 - accuracy: 0.6695\n",
      "Epoch 8/130\n",
      "29/29 [==============================] - 0s 617us/step - loss: 0.2067 - accuracy: 0.7237\n",
      "Epoch 9/130\n",
      "29/29 [==============================] - 0s 641us/step - loss: 0.1838 - accuracy: 0.7281\n",
      "Epoch 10/130\n",
      "29/29 [==============================] - 0s 570us/step - loss: 0.1812 - accuracy: 0.7893\n",
      "Epoch 11/130\n",
      "29/29 [==============================] - 0s 566us/step - loss: 0.1857 - accuracy: 0.7752\n",
      "Epoch 12/130\n",
      "29/29 [==============================] - 0s 587us/step - loss: 0.1482 - accuracy: 0.8470\n",
      "Epoch 13/130\n",
      "29/29 [==============================] - 0s 595us/step - loss: 0.1636 - accuracy: 0.7503\n",
      "Epoch 14/130\n",
      "29/29 [==============================] - 0s 590us/step - loss: 0.1468 - accuracy: 0.7989\n",
      "Epoch 15/130\n",
      "29/29 [==============================] - 0s 530us/step - loss: 0.1495 - accuracy: 0.7649\n",
      "Epoch 16/130\n",
      "29/29 [==============================] - 0s 642us/step - loss: 0.1371 - accuracy: 0.8344\n",
      "Epoch 17/130\n",
      "29/29 [==============================] - 0s 698us/step - loss: 0.1416 - accuracy: 0.8193\n",
      "Epoch 18/130\n",
      "29/29 [==============================] - 0s 603us/step - loss: 0.1194 - accuracy: 0.8653\n",
      "Epoch 19/130\n",
      "29/29 [==============================] - 0s 569us/step - loss: 0.1401 - accuracy: 0.8402\n",
      "Epoch 20/130\n",
      "29/29 [==============================] - 0s 569us/step - loss: 0.1247 - accuracy: 0.8718\n",
      "Epoch 21/130\n",
      "29/29 [==============================] - 0s 597us/step - loss: 0.1145 - accuracy: 0.8712\n",
      "Epoch 22/130\n",
      "29/29 [==============================] - 0s 582us/step - loss: 0.1147 - accuracy: 0.8857\n",
      "Epoch 23/130\n",
      "29/29 [==============================] - 0s 611us/step - loss: 0.1066 - accuracy: 0.8627\n",
      "Epoch 24/130\n",
      "29/29 [==============================] - 0s 488us/step - loss: 0.1090 - accuracy: 0.8585\n",
      "Epoch 25/130\n",
      "29/29 [==============================] - 0s 628us/step - loss: 0.1048 - accuracy: 0.8258\n",
      "Epoch 26/130\n",
      "29/29 [==============================] - 0s 664us/step - loss: 0.1037 - accuracy: 0.8696\n",
      "Epoch 27/130\n",
      "29/29 [==============================] - 0s 605us/step - loss: 0.1047 - accuracy: 0.8942\n",
      "Epoch 28/130\n",
      "29/29 [==============================] - 0s 594us/step - loss: 0.1059 - accuracy: 0.9006\n",
      "Epoch 29/130\n",
      "29/29 [==============================] - 0s 610us/step - loss: 0.0855 - accuracy: 0.9316\n",
      "Epoch 30/130\n",
      "29/29 [==============================] - 0s 570us/step - loss: 0.0855 - accuracy: 0.9464\n",
      "Epoch 31/130\n",
      "29/29 [==============================] - 0s 609us/step - loss: 0.0906 - accuracy: 0.8833\n",
      "Epoch 32/130\n",
      "29/29 [==============================] - 0s 525us/step - loss: 0.0842 - accuracy: 0.9516\n",
      "Epoch 33/130\n",
      "29/29 [==============================] - 0s 592us/step - loss: 0.0904 - accuracy: 0.9004\n",
      "Epoch 34/130\n",
      "29/29 [==============================] - 0s 671us/step - loss: 0.0983 - accuracy: 0.8946\n",
      "Epoch 35/130\n",
      "29/29 [==============================] - 0s 570us/step - loss: 0.0920 - accuracy: 0.8894\n",
      "Epoch 36/130\n",
      "29/29 [==============================] - 0s 664us/step - loss: 0.0839 - accuracy: 0.8945\n",
      "Epoch 37/130\n",
      "29/29 [==============================] - 0s 601us/step - loss: 0.1025 - accuracy: 0.8841\n",
      "Epoch 38/130\n",
      "29/29 [==============================] - 0s 583us/step - loss: 0.0813 - accuracy: 0.9320\n",
      "Epoch 39/130\n",
      "29/29 [==============================] - 0s 502us/step - loss: 0.0774 - accuracy: 0.9378\n",
      "Epoch 40/130\n",
      "29/29 [==============================] - 0s 604us/step - loss: 0.0679 - accuracy: 0.9397\n",
      "Epoch 41/130\n",
      "29/29 [==============================] - 0s 622us/step - loss: 0.0774 - accuracy: 0.9308\n",
      "Epoch 42/130\n",
      "29/29 [==============================] - 0s 639us/step - loss: 0.0801 - accuracy: 0.9287\n",
      "Epoch 43/130\n",
      "29/29 [==============================] - 0s 604us/step - loss: 0.0797 - accuracy: 0.8965\n",
      "Epoch 44/130\n",
      "29/29 [==============================] - 0s 578us/step - loss: 0.0709 - accuracy: 0.9319\n",
      "Epoch 45/130\n",
      "29/29 [==============================] - 0s 606us/step - loss: 0.0742 - accuracy: 0.9025\n",
      "Epoch 46/130\n",
      "29/29 [==============================] - 0s 511us/step - loss: 0.0632 - accuracy: 0.9397\n",
      "Epoch 47/130\n",
      "29/29 [==============================] - 0s 524us/step - loss: 0.0627 - accuracy: 0.9393\n",
      "Epoch 48/130\n",
      "29/29 [==============================] - 0s 570us/step - loss: 0.0623 - accuracy: 0.9264\n",
      "Epoch 49/130\n",
      "29/29 [==============================] - 0s 516us/step - loss: 0.0621 - accuracy: 0.9331\n",
      "Epoch 50/130\n",
      "29/29 [==============================] - 0s 522us/step - loss: 0.0654 - accuracy: 0.9377\n",
      "Epoch 51/130\n",
      "29/29 [==============================] - 0s 514us/step - loss: 0.0694 - accuracy: 0.9424\n",
      "Epoch 52/130\n",
      "29/29 [==============================] - 0s 498us/step - loss: 0.0633 - accuracy: 0.9408\n",
      "Epoch 53/130\n",
      "29/29 [==============================] - 0s 533us/step - loss: 0.0567 - accuracy: 0.9305\n",
      "Epoch 54/130\n",
      "29/29 [==============================] - 0s 535us/step - loss: 0.0532 - accuracy: 0.9557\n",
      "Epoch 55/130\n",
      "29/29 [==============================] - 0s 545us/step - loss: 0.0460 - accuracy: 0.9616\n",
      "Epoch 56/130\n",
      "29/29 [==============================] - 0s 496us/step - loss: 0.0758 - accuracy: 0.9247\n",
      "Epoch 57/130\n",
      "29/29 [==============================] - 0s 505us/step - loss: 0.0480 - accuracy: 0.9510\n",
      "Epoch 58/130\n",
      "29/29 [==============================] - 0s 498us/step - loss: 0.0457 - accuracy: 0.9632\n",
      "Epoch 59/130\n",
      "29/29 [==============================] - 0s 500us/step - loss: 0.0521 - accuracy: 0.9758\n",
      "Epoch 60/130\n",
      "29/29 [==============================] - 0s 501us/step - loss: 0.0505 - accuracy: 0.9681\n",
      "Epoch 61/130\n",
      "29/29 [==============================] - 0s 480us/step - loss: 0.0504 - accuracy: 0.9555\n",
      "Epoch 62/130\n",
      "29/29 [==============================] - 0s 506us/step - loss: 0.0484 - accuracy: 0.9642\n",
      "Epoch 63/130\n",
      "29/29 [==============================] - 0s 427us/step - loss: 0.0514 - accuracy: 0.9378\n",
      "Epoch 64/130\n",
      "29/29 [==============================] - 0s 455us/step - loss: 0.0384 - accuracy: 0.9695\n",
      "Epoch 65/130\n",
      "29/29 [==============================] - 0s 503us/step - loss: 0.0498 - accuracy: 0.9570\n",
      "Epoch 66/130\n",
      "29/29 [==============================] - 0s 534us/step - loss: 0.0472 - accuracy: 0.9617\n",
      "Epoch 67/130\n",
      "29/29 [==============================] - 0s 524us/step - loss: 0.0408 - accuracy: 0.9709\n",
      "Epoch 68/130\n",
      "29/29 [==============================] - 0s 510us/step - loss: 0.0377 - accuracy: 0.9724\n",
      "Epoch 69/130\n",
      "29/29 [==============================] - 0s 493us/step - loss: 0.0517 - accuracy: 0.9554\n",
      "Epoch 70/130\n",
      "29/29 [==============================] - 0s 500us/step - loss: 0.0403 - accuracy: 0.9795\n",
      "Epoch 71/130\n",
      "29/29 [==============================] - 0s 531us/step - loss: 0.0351 - accuracy: 0.9542\n",
      "Epoch 72/130\n",
      "29/29 [==============================] - 0s 505us/step - loss: 0.0383 - accuracy: 0.9696\n",
      "Epoch 73/130\n",
      "29/29 [==============================] - 0s 481us/step - loss: 0.0404 - accuracy: 0.9672\n",
      "Epoch 74/130\n",
      "29/29 [==============================] - 0s 523us/step - loss: 0.0315 - accuracy: 0.9851\n",
      "Epoch 75/130\n",
      "29/29 [==============================] - 0s 533us/step - loss: 0.0383 - accuracy: 0.9553\n",
      "Epoch 76/130\n",
      "29/29 [==============================] - 0s 546us/step - loss: 0.0310 - accuracy: 0.9824\n",
      "Epoch 77/130\n",
      "29/29 [==============================] - 0s 520us/step - loss: 0.0331 - accuracy: 0.9865\n",
      "Epoch 78/130\n",
      "29/29 [==============================] - 0s 541us/step - loss: 0.0317 - accuracy: 0.9815\n",
      "Epoch 79/130\n",
      "29/29 [==============================] - 0s 544us/step - loss: 0.0266 - accuracy: 0.9929\n",
      "Epoch 80/130\n",
      "29/29 [==============================] - 0s 504us/step - loss: 0.0232 - accuracy: 0.9932\n",
      "Epoch 81/130\n"
     ]
    },
    {
     "name": "stdout",
     "output_type": "stream",
     "text": [
      "29/29 [==============================] - 0s 481us/step - loss: 0.0332 - accuracy: 0.9827\n",
      "Epoch 82/130\n",
      "29/29 [==============================] - 0s 463us/step - loss: 0.0335 - accuracy: 0.9687\n",
      "Epoch 83/130\n",
      "29/29 [==============================] - 0s 486us/step - loss: 0.0319 - accuracy: 0.9583\n",
      "Epoch 84/130\n",
      "29/29 [==============================] - 0s 426us/step - loss: 0.0242 - accuracy: 0.9896\n",
      "Epoch 85/130\n",
      "29/29 [==============================] - 0s 464us/step - loss: 0.0226 - accuracy: 0.9963\n",
      "Epoch 86/130\n",
      "29/29 [==============================] - 0s 505us/step - loss: 0.0210 - accuracy: 0.9978\n",
      "Epoch 87/130\n",
      "29/29 [==============================] - 0s 512us/step - loss: 0.0271 - accuracy: 0.9707\n",
      "Epoch 88/130\n",
      "29/29 [==============================] - 0s 472us/step - loss: 0.0252 - accuracy: 0.9906\n",
      "Epoch 89/130\n",
      "29/29 [==============================] - 0s 462us/step - loss: 0.0214 - accuracy: 0.9991\n",
      "Epoch 90/130\n",
      "29/29 [==============================] - 0s 498us/step - loss: 0.0171 - accuracy: 0.9876\n",
      "Epoch 91/130\n",
      "29/29 [==============================] - 0s 464us/step - loss: 0.0381 - accuracy: 0.9656\n",
      "Epoch 92/130\n",
      "29/29 [==============================] - 0s 427us/step - loss: 0.0257 - accuracy: 0.9881\n",
      "Epoch 93/130\n",
      "29/29 [==============================] - 0s 463us/step - loss: 0.0188 - accuracy: 0.9952\n",
      "Epoch 94/130\n",
      "29/29 [==============================] - 0s 463us/step - loss: 0.0171 - accuracy: 0.9993\n",
      "Epoch 95/130\n",
      "29/29 [==============================] - 0s 463us/step - loss: 0.0225 - accuracy: 0.9852\n",
      "Epoch 96/130\n",
      "29/29 [==============================] - 0s 463us/step - loss: 0.0156 - accuracy: 0.9957\n",
      "Epoch 97/130\n",
      "29/29 [==============================] - 0s 427us/step - loss: 0.0236 - accuracy: 0.9673\n",
      "Epoch 98/130\n",
      "29/29 [==============================] - 0s 463us/step - loss: 0.0221 - accuracy: 0.9791\n",
      "Epoch 99/130\n",
      "29/29 [==============================] - 0s 463us/step - loss: 0.0142 - accuracy: 0.9949\n",
      "Epoch 100/130\n",
      "29/29 [==============================] - 0s 463us/step - loss: 0.0150 - accuracy: 0.9988\n",
      "Epoch 101/130\n",
      "29/29 [==============================] - 0s 449us/step - loss: 0.0222 - accuracy: 0.9640\n",
      "Epoch 102/130\n",
      "29/29 [==============================] - 0s 462us/step - loss: 0.0185 - accuracy: 0.9834\n",
      "Epoch 103/130\n",
      "29/29 [==============================] - 0s 451us/step - loss: 0.0162 - accuracy: 0.9890\n",
      "Epoch 104/130\n",
      "29/29 [==============================] - 0s 427us/step - loss: 0.0154 - accuracy: 0.9885\n",
      "Epoch 105/130\n",
      "29/29 [==============================] - 0s 427us/step - loss: 0.0210 - accuracy: 0.9872\n",
      "Epoch 106/130\n",
      "29/29 [==============================] - 0s 506us/step - loss: 0.0255 - accuracy: 0.9834\n",
      "Epoch 107/130\n",
      "29/29 [==============================] - 0s 463us/step - loss: 0.0268 - accuracy: 0.9734\n",
      "Epoch 108/130\n",
      "29/29 [==============================] - 0s 466us/step - loss: 0.0110 - accuracy: 0.9955\n",
      "Epoch 109/130\n",
      "29/29 [==============================] - 0s 500us/step - loss: 0.0105 - accuracy: 0.9978\n",
      "Epoch 110/130\n",
      "29/29 [==============================] - 0s 498us/step - loss: 0.0164 - accuracy: 0.9872\n",
      "Epoch 111/130\n",
      "29/29 [==============================] - 0s 498us/step - loss: 0.0076 - accuracy: 0.9988\n",
      "Epoch 112/130\n",
      "29/29 [==============================] - 0s 496us/step - loss: 0.0088 - accuracy: 0.9991\n",
      "Epoch 113/130\n",
      "29/29 [==============================] - 0s 477us/step - loss: 0.0156 - accuracy: 0.9872\n",
      "Epoch 114/130\n",
      "29/29 [==============================] - 0s 498us/step - loss: 0.0149 - accuracy: 0.9915\n",
      "Epoch 115/130\n",
      "29/29 [==============================] - 0s 463us/step - loss: 0.0074 - accuracy: 0.9970\n",
      "Epoch 116/130\n",
      "29/29 [==============================] - 0s 462us/step - loss: 0.0125 - accuracy: 1.0000\n",
      "Epoch 117/130\n",
      "29/29 [==============================] - 0s 462us/step - loss: 0.0088 - accuracy: 0.9995\n",
      "Epoch 118/130\n",
      "29/29 [==============================] - 0s 463us/step - loss: 0.0084 - accuracy: 0.9980\n",
      "Epoch 119/130\n",
      "29/29 [==============================] - 0s 496us/step - loss: 0.0077 - accuracy: 0.9983\n",
      "Epoch 120/130\n",
      "29/29 [==============================] - 0s 498us/step - loss: 0.0075 - accuracy: 0.9977\n",
      "Epoch 121/130\n",
      "29/29 [==============================] - 0s 507us/step - loss: 0.0089 - accuracy: 1.0000\n",
      "Epoch 122/130\n",
      "29/29 [==============================] - 0s 497us/step - loss: 0.0101 - accuracy: 1.0000\n",
      "Epoch 123/130\n",
      "29/29 [==============================] - 0s 492us/step - loss: 0.0084 - accuracy: 0.9935\n",
      "Epoch 124/130\n",
      "29/29 [==============================] - 0s 502us/step - loss: 0.0084 - accuracy: 0.9929\n",
      "Epoch 125/130\n",
      "29/29 [==============================] - 0s 463us/step - loss: 0.0060 - accuracy: 0.9988\n",
      "Epoch 126/130\n",
      "29/29 [==============================] - 0s 463us/step - loss: 0.0141 - accuracy: 1.0000\n",
      "Epoch 127/130\n",
      "29/29 [==============================] - 0s 458us/step - loss: 0.0073 - accuracy: 1.0000\n",
      "Epoch 128/130\n",
      "29/29 [==============================] - 0s 463us/step - loss: 0.0076 - accuracy: 1.0000\n",
      "Epoch 129/130\n",
      "29/29 [==============================] - 0s 463us/step - loss: 0.0085 - accuracy: 1.0000\n",
      "Epoch 130/130\n",
      "29/29 [==============================] - 0s 463us/step - loss: 0.0086 - accuracy: 1.0000\n"
     ]
    },
    {
     "data": {
      "text/plain": [
       "<tensorflow.python.keras.callbacks.History at 0x25d9b7c1c40>"
      ]
     },
     "execution_count": 12,
     "metadata": {},
     "output_type": "execute_result"
    }
   ],
   "source": [
    "# 모델 실행\n",
    "model.fit(X_train, Y_train, epochs=130, batch_size=5)"
   ]
  },
  {
   "cell_type": "code",
   "execution_count": 13,
   "id": "b997a89e",
   "metadata": {
    "ExecuteTime": {
     "end_time": "2021-06-03T03:09:54.194491Z",
     "start_time": "2021-06-03T03:09:54.057989Z"
    }
   },
   "outputs": [
    {
     "name": "stdout",
     "output_type": "stream",
     "text": [
      "2/2 [==============================] - 0s 1ms/step - loss: 0.1557 - accuracy: 0.8254\n",
      "\n",
      " Test Accuracy : 0.8254\n"
     ]
    }
   ],
   "source": [
    "# 테스트셋에 모델 적용\n",
    "print(\"\\n Test Accuracy : %.4f\" % (model.evaluate(X_test, Y_test))[1])"
   ]
  },
  {
   "cell_type": "code",
   "execution_count": null,
   "id": "7b45d95a",
   "metadata": {},
   "outputs": [],
   "source": []
  }
 ],
 "metadata": {
  "kernelspec": {
   "display_name": "Python 3",
   "language": "python",
   "name": "python3"
  },
  "language_info": {
   "codemirror_mode": {
    "name": "ipython",
    "version": 3
   },
   "file_extension": ".py",
   "mimetype": "text/x-python",
   "name": "python",
   "nbconvert_exporter": "python",
   "pygments_lexer": "ipython3",
   "version": "3.8.9"
  },
  "toc": {
   "base_numbering": 1,
   "nav_menu": {},
   "number_sections": true,
   "sideBar": true,
   "skip_h1_title": false,
   "title_cell": "Table of Contents",
   "title_sidebar": "Contents",
   "toc_cell": false,
   "toc_position": {},
   "toc_section_display": true,
   "toc_window_display": false
  },
  "varInspector": {
   "cols": {
    "lenName": 16,
    "lenType": 16,
    "lenVar": 40
   },
   "kernels_config": {
    "python": {
     "delete_cmd_postfix": "",
     "delete_cmd_prefix": "del ",
     "library": "var_list.py",
     "varRefreshCmd": "print(var_dic_list())"
    },
    "r": {
     "delete_cmd_postfix": ") ",
     "delete_cmd_prefix": "rm(",
     "library": "var_list.r",
     "varRefreshCmd": "cat(var_dic_list()) "
    }
   },
   "types_to_exclude": [
    "module",
    "function",
    "builtin_function_or_method",
    "instance",
    "_Feature"
   ],
   "window_display": false
  }
 },
 "nbformat": 4,
 "nbformat_minor": 5
}
