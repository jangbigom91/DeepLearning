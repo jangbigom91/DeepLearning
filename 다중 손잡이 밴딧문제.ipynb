{
 "cells": [
  {
   "cell_type": "markdown",
   "id": "fdffc70a",
   "metadata": {},
   "source": [
    "## 다중 손잡이 밴딧 문제를 위한 랜덤 정책"
   ]
  },
  {
   "cell_type": "code",
   "execution_count": 6,
   "id": "1b714df2",
   "metadata": {
    "ExecuteTime": {
     "end_time": "2021-05-28T03:30:02.709494Z",
     "start_time": "2021-05-28T03:30:02.551459Z"
    }
   },
   "outputs": [
    {
     "name": "stdout",
     "output_type": "stream",
     "text": [
      "손잡이별 승리 확률 :  ['0.3986', '0.1259', '0.5044', '0.5972', '0.2539']\n",
      "손잡이별 수익($) :  ['-421', '-1479', '17', '394', '-969']\n",
      "순수익($) :  -2458\n"
     ]
    }
   ],
   "source": [
    "import numpy as np\n",
    "\n",
    "# 다중 손잡이 밴딧 문제 설정\n",
    "arms_profit = [0.4, 0.12, 0.52, 0.6, 0.25] # 손잡이의 승률\n",
    "n_arms = len(arms_profit)\n",
    "\n",
    "n_trial = 10000 # 손잡이를 당기는 횟수(에피소드 길이)\n",
    "\n",
    "# 손잡이 당기는 행위를 시뮬레이션하는 함수(handle은 손잡이 번호)\n",
    "def pull_bandit(handle):\n",
    "    q = np.random.random()\n",
    "    if q < arms_profit[handle]:\n",
    "        return 1\n",
    "    else:\n",
    "        return -1\n",
    "\n",
    "# 랜덤 정책을 모방하는 함수\n",
    "def random_exploration():\n",
    "    episode = []\n",
    "    num = np.zeros(n_arms) # 손잡이별로 당긴 횟수\n",
    "    wins = np.zeros(n_arms) # 손잡이별로 승리 횟수\n",
    "    \n",
    "    for i in range(n_trial):\n",
    "        h = np.random.randint(0, n_arms)\n",
    "        reward = pull_bandit(h)\n",
    "        episode.append([h, reward])\n",
    "        num[h] += 1\n",
    "        wins[h] += 1 if reward == 1 else 0\n",
    "    \n",
    "    return episode, (num, wins)\n",
    "\n",
    "e, r = random_exploration()\n",
    "\n",
    "print('손잡이별 승리 확률 : ', ['%6.4f' % (r[1][i]/r[0][i]) if r[0][i] > 0 else 0.0 for i in range(n_arms)])\n",
    "print('손잡이별 수익($) : ', ['%d' % (2 * r[1][i]-r[0][i]) for i in range(n_arms)])\n",
    "print('순수익($) : ', sum(np.asarray(e)[:, 1]))"
   ]
  },
  {
   "cell_type": "markdown",
   "id": "233d94f3",
   "metadata": {},
   "source": [
    "## 다중 손잡이 밴딧 문제를 위한 탐욕 알고리즘"
   ]
  },
  {
   "cell_type": "code",
   "execution_count": 8,
   "id": "1d3eb504",
   "metadata": {
    "ExecuteTime": {
     "end_time": "2021-05-28T05:02:57.516974Z",
     "start_time": "2021-05-28T05:02:57.102825Z"
    }
   },
   "outputs": [
    {
     "name": "stdout",
     "output_type": "stream",
     "text": [
      "손잡이별 승리 확률 :  ['1.0000', '1.0000', '1.0000', '1.0000', '1.0000']\n",
      "손잡이별 수익($) :  ['-447', '-598', '92', '566', '-673']\n",
      "순수익($) :  -1060\n"
     ]
    }
   ],
   "source": [
    "# 탐욕을 구현하는 함수\n",
    "def epsilon_greedy(eps):\n",
    "    episode = []\n",
    "    num = np.zeros(n_arms) # 손잡이별로 당긴 횟수\n",
    "    wins = np.zeros(n_arms) # 손잡이별로 승리 횟수\n",
    "    \n",
    "    for i in range(n_trial):\n",
    "        r = np.random.random()\n",
    "        if(r < eps or sum(wins) == 0):  # 확률 eps로 임의선택\n",
    "            h = np.random.randint(0, n_arms)\n",
    "        else:\n",
    "            prob = np.asarray([wins[i]/num[i] if num[i] > 0 else 0.0 for i in range(n_arms)])\n",
    "            prob = prob / sum(prob)\n",
    "            h = np.random.choice(range(n_arms), p = prob)\n",
    "        \n",
    "        reward = pull_bandit(h)\n",
    "        episode.append([h, reward])\n",
    "        num[h] +=1\n",
    "        wins[h] += 1 if reward == 1 else 0\n",
    "        \n",
    "    return episode, (num, wins)\n",
    "\n",
    "e, r = epsilon_greedy(0.1)\n",
    "\n",
    "print('손잡이별 승리 확률 : ', ['%6.4f' % (r[0][i]/r[0][i]) if r[0][i] > 0 else 0.0 for i in range(n_arms)])\n",
    "print('손잡이별 수익($) : ', ['%d' % (2 * r[1][i]-r[0][i]) for i in range(n_arms)])\n",
    "print('순수익($) : ', sum(np.asarray(e)[:, 1]))"
   ]
  },
  {
   "cell_type": "code",
   "execution_count": null,
   "id": "d9666731",
   "metadata": {},
   "outputs": [],
   "source": []
  }
 ],
 "metadata": {
  "kernelspec": {
   "display_name": "Python 3",
   "language": "python",
   "name": "python3"
  },
  "language_info": {
   "codemirror_mode": {
    "name": "ipython",
    "version": 3
   },
   "file_extension": ".py",
   "mimetype": "text/x-python",
   "name": "python",
   "nbconvert_exporter": "python",
   "pygments_lexer": "ipython3",
   "version": "3.8.9"
  },
  "toc": {
   "base_numbering": 1,
   "nav_menu": {},
   "number_sections": true,
   "sideBar": true,
   "skip_h1_title": false,
   "title_cell": "Table of Contents",
   "title_sidebar": "Contents",
   "toc_cell": false,
   "toc_position": {},
   "toc_section_display": true,
   "toc_window_display": false
  },
  "varInspector": {
   "cols": {
    "lenName": 16,
    "lenType": 16,
    "lenVar": 40
   },
   "kernels_config": {
    "python": {
     "delete_cmd_postfix": "",
     "delete_cmd_prefix": "del ",
     "library": "var_list.py",
     "varRefreshCmd": "print(var_dic_list())"
    },
    "r": {
     "delete_cmd_postfix": ") ",
     "delete_cmd_prefix": "rm(",
     "library": "var_list.r",
     "varRefreshCmd": "cat(var_dic_list()) "
    }
   },
   "types_to_exclude": [
    "module",
    "function",
    "builtin_function_or_method",
    "instance",
    "_Feature"
   ],
   "window_display": false
  }
 },
 "nbformat": 4,
 "nbformat_minor": 5
}
