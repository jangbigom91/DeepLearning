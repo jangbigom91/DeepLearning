{
 "cells": [
  {
   "cell_type": "code",
   "execution_count": null,
   "id": "c1bc24c5",
   "metadata": {},
   "outputs": [],
   "source": [
    "import requests\n",
    "from bs4 import BeautifulSoup\n",
    "import pandas\n",
    "\n",
    "M = '&numOfRows=10&pageNo=1&stationName=측정소명&dataTerm=DAILY&ver=1.0'\n",
    "key = 'zcMwE34ODFgJMnugYlzKk2qiqr%2BkvEOwbHd%2Brw%2FaDMktBXFrTUhxBnfopzPMrz5G4FWzm%2FPLqeGmfN1cCcqlQg%3D%3D'\n",
    "url = 'http://apis.data.go.kr/B552584/ArpltnInforInqireSvc/getMsrstnAcctoRltmMesureDnsty?serviceKey=' + key + M\n",
    "\n",
    "response = requests.get(url)\n",
    "soup = BeautifulSoup(response.text, \"html.parser\")\n",
    "\n",
    "ItemList = soup.findAll('item')\n",
    "\n",
    "for item in ItemList:\n",
    "    a = item.find('dataTime').text\n",
    "    g = item.find('pm10Value').text\n",
    "    i = item.find('pm25Value').text\n",
    "    s = item.find('pm10Grade1h').text\n",
    "    t = item.find('pm25Grade1h').text\n",
    "    \n",
    "    print('측정소 : 측정소명')\n",
    "    print('측정시간 : '+a)\n",
    "    print('미세먼지 농도 : '+ g + '㎍/㎥ (' + s + ')')\n",
    "    print('초미세먼지 농도 : '+ i + '㎍/㎥ (' + t + ')')\n",
    "    print('(좋음 : 1), (보통 : 2), (나쁨 : 3), (매우나쁨 : 4)')"
   ]
  }
 ],
 "metadata": {
  "kernelspec": {
   "display_name": "Python 3",
   "language": "python",
   "name": "python3"
  },
  "language_info": {
   "codemirror_mode": {
    "name": "ipython",
    "version": 3
   },
   "file_extension": ".py",
   "mimetype": "text/x-python",
   "name": "python",
   "nbconvert_exporter": "python",
   "pygments_lexer": "ipython3",
   "version": "3.8.9"
  },
  "toc": {
   "base_numbering": 1,
   "nav_menu": {},
   "number_sections": true,
   "sideBar": true,
   "skip_h1_title": false,
   "title_cell": "Table of Contents",
   "title_sidebar": "Contents",
   "toc_cell": false,
   "toc_position": {},
   "toc_section_display": true,
   "toc_window_display": false
  },
  "varInspector": {
   "cols": {
    "lenName": 16,
    "lenType": 16,
    "lenVar": 40
   },
   "kernels_config": {
    "python": {
     "delete_cmd_postfix": "",
     "delete_cmd_prefix": "del ",
     "library": "var_list.py",
     "varRefreshCmd": "print(var_dic_list())"
    },
    "r": {
     "delete_cmd_postfix": ") ",
     "delete_cmd_prefix": "rm(",
     "library": "var_list.r",
     "varRefreshCmd": "cat(var_dic_list()) "
    }
   },
   "types_to_exclude": [
    "module",
    "function",
    "builtin_function_or_method",
    "instance",
    "_Feature"
   ],
   "window_display": false
  }
 },
 "nbformat": 4,
 "nbformat_minor": 5
}
