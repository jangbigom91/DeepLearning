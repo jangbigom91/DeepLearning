{
 "cells": [
  {
   "cell_type": "markdown",
   "id": "72985bbd",
   "metadata": {},
   "source": [
    "## 에어코리아 미세먼지 크롤링(selenium 활용)\n",
    "#### https://www.airkorea.or.kr/web/sidoQualityCompare?itemCode=10007&pMENU_NO=101"
   ]
  },
  {
   "cell_type": "code",
   "execution_count": 3,
   "id": "551b6114",
   "metadata": {
    "ExecuteTime": {
     "end_time": "2021-05-27T07:24:45.122991Z",
     "start_time": "2021-05-27T07:24:40.026251Z"
    }
   },
   "outputs": [
    {
     "name": "stderr",
     "output_type": "stream",
     "text": [
      "<ipython-input-3-b3bfe7bcae37>:13: DeprecationWarning: use options instead of chrome_options\n",
      "  driver = webdriver.Chrome(chrome_options=options, executable_path=\"C:/Users/ad/Documents/GitHub/DeepLearning/chromedriver\")\n"
     ]
    }
   ],
   "source": [
    "from selenium import webdriver\n",
    "from selenium.webdriver.common.keys import Keys\n",
    "from selenium.webdriver.chrome.options import Options\n",
    "from time import sleep\n",
    "import pandas as pd\n",
    "\n",
    "# chromedriver --version\n",
    "\n",
    "# create a new chrome session\n",
    "options = Options()\n",
    "options.add_argument('--headless')\n",
    "options.add_argument('--no-sandbox')\n",
    "driver = webdriver.Chrome(chrome_options=options, executable_path=\"C:/Users/ad/Documents/GitHub/DeepLearning/chromedriver\")\n",
    "driver.implicitly_wait(3)\n",
    "driver.maximize_window()\n",
    "url='https://www.airkorea.or.kr/web/sidoQualityCompare?itemCode=10007&pMENU_NO=101'\n",
    "driver.get(url)\n",
    "sleep(0.3)\n",
    "html = driver.page_source\n",
    "dfs = pd.read_html(html)\n",
    "driver.close()"
   ]
  },
  {
   "cell_type": "code",
   "execution_count": 4,
   "id": "fff693fe",
   "metadata": {
    "ExecuteTime": {
     "end_time": "2021-05-27T07:24:46.586465Z",
     "start_time": "2021-05-27T07:24:46.554552Z"
    }
   },
   "outputs": [
    {
     "data": {
      "text/html": [
       "<div>\n",
       "<style scoped>\n",
       "    .dataframe tbody tr th:only-of-type {\n",
       "        vertical-align: middle;\n",
       "    }\n",
       "\n",
       "    .dataframe tbody tr th {\n",
       "        vertical-align: top;\n",
       "    }\n",
       "\n",
       "    .dataframe thead th {\n",
       "        text-align: right;\n",
       "    }\n",
       "</style>\n",
       "<table border=\"1\" class=\"dataframe\">\n",
       "  <thead>\n",
       "    <tr style=\"text-align: right;\">\n",
       "      <th></th>\n",
       "      <th>Unnamed: 0</th>\n",
       "      <th>서울</th>\n",
       "      <th>부산</th>\n",
       "      <th>대구</th>\n",
       "      <th>인천</th>\n",
       "      <th>광주</th>\n",
       "      <th>대전</th>\n",
       "      <th>울산</th>\n",
       "      <th>경기</th>\n",
       "      <th>강원</th>\n",
       "      <th>충북</th>\n",
       "      <th>충남</th>\n",
       "      <th>전북</th>\n",
       "      <th>전남</th>\n",
       "      <th>세종</th>\n",
       "      <th>경북</th>\n",
       "      <th>경남</th>\n",
       "      <th>제주</th>\n",
       "    </tr>\n",
       "  </thead>\n",
       "  <tbody>\n",
       "    <tr>\n",
       "      <th>0</th>\n",
       "      <td>시간평균</td>\n",
       "      <td>36</td>\n",
       "      <td>24</td>\n",
       "      <td>33</td>\n",
       "      <td>38</td>\n",
       "      <td>58</td>\n",
       "      <td>50</td>\n",
       "      <td>22</td>\n",
       "      <td>45</td>\n",
       "      <td>20</td>\n",
       "      <td>38</td>\n",
       "      <td>65</td>\n",
       "      <td>64</td>\n",
       "      <td>48</td>\n",
       "      <td>50</td>\n",
       "      <td>26</td>\n",
       "      <td>27</td>\n",
       "      <td>60</td>\n",
       "    </tr>\n",
       "    <tr>\n",
       "      <th>1</th>\n",
       "      <td>일평균</td>\n",
       "      <td>33</td>\n",
       "      <td>18</td>\n",
       "      <td>20</td>\n",
       "      <td>31</td>\n",
       "      <td>18</td>\n",
       "      <td>22</td>\n",
       "      <td>17</td>\n",
       "      <td>35</td>\n",
       "      <td>28</td>\n",
       "      <td>25</td>\n",
       "      <td>31</td>\n",
       "      <td>21</td>\n",
       "      <td>17</td>\n",
       "      <td>25</td>\n",
       "      <td>23</td>\n",
       "      <td>18</td>\n",
       "      <td>17</td>\n",
       "    </tr>\n",
       "    <tr>\n",
       "      <th>2</th>\n",
       "      <td>최고값</td>\n",
       "      <td>61</td>\n",
       "      <td>52</td>\n",
       "      <td>57</td>\n",
       "      <td>62</td>\n",
       "      <td>70</td>\n",
       "      <td>62</td>\n",
       "      <td>43</td>\n",
       "      <td>84</td>\n",
       "      <td>124</td>\n",
       "      <td>88</td>\n",
       "      <td>112</td>\n",
       "      <td>94</td>\n",
       "      <td>179</td>\n",
       "      <td>59</td>\n",
       "      <td>59</td>\n",
       "      <td>64</td>\n",
       "      <td>86</td>\n",
       "    </tr>\n",
       "    <tr>\n",
       "      <th>3</th>\n",
       "      <td>최저값</td>\n",
       "      <td>5</td>\n",
       "      <td>6</td>\n",
       "      <td>6</td>\n",
       "      <td>4</td>\n",
       "      <td>1</td>\n",
       "      <td>1</td>\n",
       "      <td>6</td>\n",
       "      <td>3</td>\n",
       "      <td>2</td>\n",
       "      <td>2</td>\n",
       "      <td>2</td>\n",
       "      <td>1</td>\n",
       "      <td>1</td>\n",
       "      <td>7</td>\n",
       "      <td>6</td>\n",
       "      <td>5</td>\n",
       "      <td>1</td>\n",
       "    </tr>\n",
       "  </tbody>\n",
       "</table>\n",
       "</div>"
      ],
      "text/plain": [
       "  Unnamed: 0  서울  부산  대구  인천  광주  대전  울산  경기   강원  충북   충남  전북   전남  세종  경북  \\\n",
       "0       시간평균  36  24  33  38  58  50  22  45   20  38   65  64   48  50  26   \n",
       "1        일평균  33  18  20  31  18  22  17  35   28  25   31  21   17  25  23   \n",
       "2        최고값  61  52  57  62  70  62  43  84  124  88  112  94  179  59  59   \n",
       "3        최저값   5   6   6   4   1   1   6   3    2   2    2   1    1   7   6   \n",
       "\n",
       "   경남  제주  \n",
       "0  27  60  \n",
       "1  18  17  \n",
       "2  64  86  \n",
       "3   5   1  "
      ]
     },
     "execution_count": 4,
     "metadata": {},
     "output_type": "execute_result"
    }
   ],
   "source": [
    "dfs[0]"
   ]
  },
  {
   "cell_type": "markdown",
   "id": "11df82e8",
   "metadata": {},
   "source": [
    "## 데이터 변환"
   ]
  },
  {
   "cell_type": "code",
   "execution_count": 5,
   "id": "10a6a293",
   "metadata": {
    "ExecuteTime": {
     "end_time": "2021-05-27T07:24:48.141130Z",
     "start_time": "2021-05-27T07:24:48.122184Z"
    }
   },
   "outputs": [
    {
     "name": "stdout",
     "output_type": "stream",
     "text": [
      "dust    float64\n",
      "dtype: object\n"
     ]
    },
    {
     "data": {
      "text/html": [
       "<div>\n",
       "<style scoped>\n",
       "    .dataframe tbody tr th:only-of-type {\n",
       "        vertical-align: middle;\n",
       "    }\n",
       "\n",
       "    .dataframe tbody tr th {\n",
       "        vertical-align: top;\n",
       "    }\n",
       "\n",
       "    .dataframe thead th {\n",
       "        text-align: right;\n",
       "    }\n",
       "</style>\n",
       "<table border=\"1\" class=\"dataframe\">\n",
       "  <thead>\n",
       "    <tr style=\"text-align: right;\">\n",
       "      <th></th>\n",
       "      <th>dust</th>\n",
       "    </tr>\n",
       "    <tr>\n",
       "      <th>area</th>\n",
       "      <th></th>\n",
       "    </tr>\n",
       "  </thead>\n",
       "  <tbody>\n",
       "    <tr>\n",
       "      <th>서울</th>\n",
       "      <td>36.0</td>\n",
       "    </tr>\n",
       "    <tr>\n",
       "      <th>부산</th>\n",
       "      <td>24.0</td>\n",
       "    </tr>\n",
       "    <tr>\n",
       "      <th>대구</th>\n",
       "      <td>33.0</td>\n",
       "    </tr>\n",
       "    <tr>\n",
       "      <th>인천</th>\n",
       "      <td>38.0</td>\n",
       "    </tr>\n",
       "    <tr>\n",
       "      <th>광주</th>\n",
       "      <td>58.0</td>\n",
       "    </tr>\n",
       "  </tbody>\n",
       "</table>\n",
       "</div>"
      ],
      "text/plain": [
       "      dust\n",
       "area      \n",
       "서울    36.0\n",
       "부산    24.0\n",
       "대구    33.0\n",
       "인천    38.0\n",
       "광주    58.0"
      ]
     },
     "execution_count": 5,
     "metadata": {},
     "output_type": "execute_result"
    }
   ],
   "source": [
    "#데이터 생성\n",
    "data=pd.DataFrame([dfs[0].transpose()[1::][0].index,dfs[0].transpose()[1::][0]]).transpose()\n",
    "data=pd.DataFrame({'area':data[0],'dust':data[1]})\n",
    "\n",
    "#데이터 수치로 변환\n",
    "data['dust']=data['dust'].astype(float)\n",
    "data.reset_index(inplace=True,drop=True)\n",
    "data=data.set_index('area')\n",
    "\n",
    "print(data.dtypes)\n",
    "data.head()"
   ]
  },
  {
   "cell_type": "code",
   "execution_count": null,
   "id": "207a7546",
   "metadata": {},
   "outputs": [],
   "source": []
  }
 ],
 "metadata": {
  "kernelspec": {
   "display_name": "Python 3",
   "language": "python",
   "name": "python3"
  },
  "language_info": {
   "codemirror_mode": {
    "name": "ipython",
    "version": 3
   },
   "file_extension": ".py",
   "mimetype": "text/x-python",
   "name": "python",
   "nbconvert_exporter": "python",
   "pygments_lexer": "ipython3",
   "version": "3.8.9"
  },
  "toc": {
   "base_numbering": 1,
   "nav_menu": {},
   "number_sections": true,
   "sideBar": true,
   "skip_h1_title": false,
   "title_cell": "Table of Contents",
   "title_sidebar": "Contents",
   "toc_cell": false,
   "toc_position": {},
   "toc_section_display": true,
   "toc_window_display": false
  },
  "varInspector": {
   "cols": {
    "lenName": 16,
    "lenType": 16,
    "lenVar": 40
   },
   "kernels_config": {
    "python": {
     "delete_cmd_postfix": "",
     "delete_cmd_prefix": "del ",
     "library": "var_list.py",
     "varRefreshCmd": "print(var_dic_list())"
    },
    "r": {
     "delete_cmd_postfix": ") ",
     "delete_cmd_prefix": "rm(",
     "library": "var_list.r",
     "varRefreshCmd": "cat(var_dic_list()) "
    }
   },
   "types_to_exclude": [
    "module",
    "function",
    "builtin_function_or_method",
    "instance",
    "_Feature"
   ],
   "window_display": false
  }
 },
 "nbformat": 4,
 "nbformat_minor": 5
}
