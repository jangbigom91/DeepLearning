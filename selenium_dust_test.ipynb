{
 "cells": [
  {
   "cell_type": "markdown",
   "id": "72985bbd",
   "metadata": {},
   "source": [
    "## 에어코리아 미세먼지 크롤링(selenium 활용)\n",
    "#### https://www.airkorea.or.kr/web/sidoQualityCompare?itemCode=10007&pMENU_NO=101"
   ]
  },
  {
   "cell_type": "code",
   "execution_count": 1,
   "id": "551b6114",
   "metadata": {
    "ExecuteTime": {
     "end_time": "2021-06-02T05:09:30.370093Z",
     "start_time": "2021-06-02T05:09:22.777947Z"
    }
   },
   "outputs": [
    {
     "name": "stderr",
     "output_type": "stream",
     "text": [
      "<ipython-input-1-b3bfe7bcae37>:13: DeprecationWarning: use options instead of chrome_options\n",
      "  driver = webdriver.Chrome(chrome_options=options, executable_path=\"C:/Users/ad/Documents/GitHub/DeepLearning/chromedriver\")\n"
     ]
    }
   ],
   "source": [
    "from selenium import webdriver\n",
    "from selenium.webdriver.common.keys import Keys\n",
    "from selenium.webdriver.chrome.options import Options\n",
    "from time import sleep\n",
    "import pandas as pd\n",
    "\n",
    "# chromedriver --version\n",
    "\n",
    "# create a new chrome session\n",
    "options = Options()\n",
    "options.add_argument('--headless')\n",
    "options.add_argument('--no-sandbox')\n",
    "\n",
    "driver = webdriver.Chrome(chrome_options=options, executable_path=\"C:/Users/ad/Documents/GitHub/DeepLearning/chromedriver\")\n",
    "driver.implicitly_wait(3)\n",
    "driver.maximize_window()\n",
    "\n",
    "url='https://www.airkorea.or.kr/web/sidoQualityCompare?itemCode=10007&pMENU_NO=101'\n",
    "driver.get(url)\n",
    "\n",
    "sleep(0.3)\n",
    "\n",
    "html = driver.page_source\n",
    "\n",
    "dfs = pd.read_html(html)\n",
    "driver.close()"
   ]
  },
  {
   "cell_type": "code",
   "execution_count": 2,
   "id": "fff693fe",
   "metadata": {
    "ExecuteTime": {
     "end_time": "2021-06-02T05:09:30.434028Z",
     "start_time": "2021-06-02T05:09:30.406104Z"
    }
   },
   "outputs": [
    {
     "data": {
      "text/html": [
       "<div>\n",
       "<style scoped>\n",
       "    .dataframe tbody tr th:only-of-type {\n",
       "        vertical-align: middle;\n",
       "    }\n",
       "\n",
       "    .dataframe tbody tr th {\n",
       "        vertical-align: top;\n",
       "    }\n",
       "\n",
       "    .dataframe thead th {\n",
       "        text-align: right;\n",
       "    }\n",
       "</style>\n",
       "<table border=\"1\" class=\"dataframe\">\n",
       "  <thead>\n",
       "    <tr style=\"text-align: right;\">\n",
       "      <th></th>\n",
       "      <th>Unnamed: 0</th>\n",
       "      <th>서울</th>\n",
       "      <th>부산</th>\n",
       "      <th>대구</th>\n",
       "      <th>인천</th>\n",
       "      <th>광주</th>\n",
       "      <th>대전</th>\n",
       "      <th>울산</th>\n",
       "      <th>경기</th>\n",
       "      <th>강원</th>\n",
       "      <th>충북</th>\n",
       "      <th>충남</th>\n",
       "      <th>전북</th>\n",
       "      <th>전남</th>\n",
       "      <th>세종</th>\n",
       "      <th>경북</th>\n",
       "      <th>경남</th>\n",
       "      <th>제주</th>\n",
       "    </tr>\n",
       "  </thead>\n",
       "  <tbody>\n",
       "    <tr>\n",
       "      <th>0</th>\n",
       "      <td>시간평균</td>\n",
       "      <td>47</td>\n",
       "      <td>47</td>\n",
       "      <td>72</td>\n",
       "      <td>51</td>\n",
       "      <td>36</td>\n",
       "      <td>46</td>\n",
       "      <td>55</td>\n",
       "      <td>51</td>\n",
       "      <td>36</td>\n",
       "      <td>46</td>\n",
       "      <td>51</td>\n",
       "      <td>47</td>\n",
       "      <td>48</td>\n",
       "      <td>44</td>\n",
       "      <td>60</td>\n",
       "      <td>50</td>\n",
       "      <td>33</td>\n",
       "    </tr>\n",
       "    <tr>\n",
       "      <th>1</th>\n",
       "      <td>일평균</td>\n",
       "      <td>48</td>\n",
       "      <td>41</td>\n",
       "      <td>63</td>\n",
       "      <td>54</td>\n",
       "      <td>46</td>\n",
       "      <td>43</td>\n",
       "      <td>47</td>\n",
       "      <td>51</td>\n",
       "      <td>36</td>\n",
       "      <td>43</td>\n",
       "      <td>46</td>\n",
       "      <td>47</td>\n",
       "      <td>44</td>\n",
       "      <td>43</td>\n",
       "      <td>50</td>\n",
       "      <td>44</td>\n",
       "      <td>34</td>\n",
       "    </tr>\n",
       "    <tr>\n",
       "      <th>2</th>\n",
       "      <td>최고값</td>\n",
       "      <td>64</td>\n",
       "      <td>90</td>\n",
       "      <td>100</td>\n",
       "      <td>107</td>\n",
       "      <td>72</td>\n",
       "      <td>66</td>\n",
       "      <td>133</td>\n",
       "      <td>132</td>\n",
       "      <td>67</td>\n",
       "      <td>96</td>\n",
       "      <td>93</td>\n",
       "      <td>85</td>\n",
       "      <td>96</td>\n",
       "      <td>56</td>\n",
       "      <td>135</td>\n",
       "      <td>107</td>\n",
       "      <td>48</td>\n",
       "    </tr>\n",
       "    <tr>\n",
       "      <th>3</th>\n",
       "      <td>최저값</td>\n",
       "      <td>31</td>\n",
       "      <td>17</td>\n",
       "      <td>34</td>\n",
       "      <td>25</td>\n",
       "      <td>28</td>\n",
       "      <td>18</td>\n",
       "      <td>18</td>\n",
       "      <td>9</td>\n",
       "      <td>7</td>\n",
       "      <td>23</td>\n",
       "      <td>18</td>\n",
       "      <td>28</td>\n",
       "      <td>19</td>\n",
       "      <td>33</td>\n",
       "      <td>16</td>\n",
       "      <td>20</td>\n",
       "      <td>17</td>\n",
       "    </tr>\n",
       "  </tbody>\n",
       "</table>\n",
       "</div>"
      ],
      "text/plain": [
       "  Unnamed: 0  서울  부산   대구   인천  광주  대전   울산   경기  강원  충북  충남  전북  전남  세종   경북  \\\n",
       "0       시간평균  47  47   72   51  36  46   55   51  36  46  51  47  48  44   60   \n",
       "1        일평균  48  41   63   54  46  43   47   51  36  43  46  47  44  43   50   \n",
       "2        최고값  64  90  100  107  72  66  133  132  67  96  93  85  96  56  135   \n",
       "3        최저값  31  17   34   25  28  18   18    9   7  23  18  28  19  33   16   \n",
       "\n",
       "    경남  제주  \n",
       "0   50  33  \n",
       "1   44  34  \n",
       "2  107  48  \n",
       "3   20  17  "
      ]
     },
     "execution_count": 2,
     "metadata": {},
     "output_type": "execute_result"
    }
   ],
   "source": [
    "dfs[0]"
   ]
  },
  {
   "cell_type": "markdown",
   "id": "11df82e8",
   "metadata": {},
   "source": [
    "## 데이터 변환"
   ]
  },
  {
   "cell_type": "code",
   "execution_count": 3,
   "id": "10a6a293",
   "metadata": {
    "ExecuteTime": {
     "end_time": "2021-06-02T05:09:31.686260Z",
     "start_time": "2021-06-02T05:09:31.661297Z"
    }
   },
   "outputs": [
    {
     "name": "stdout",
     "output_type": "stream",
     "text": [
      "dust    float64\n",
      "dtype: object\n"
     ]
    },
    {
     "data": {
      "text/html": [
       "<div>\n",
       "<style scoped>\n",
       "    .dataframe tbody tr th:only-of-type {\n",
       "        vertical-align: middle;\n",
       "    }\n",
       "\n",
       "    .dataframe tbody tr th {\n",
       "        vertical-align: top;\n",
       "    }\n",
       "\n",
       "    .dataframe thead th {\n",
       "        text-align: right;\n",
       "    }\n",
       "</style>\n",
       "<table border=\"1\" class=\"dataframe\">\n",
       "  <thead>\n",
       "    <tr style=\"text-align: right;\">\n",
       "      <th></th>\n",
       "      <th>dust</th>\n",
       "    </tr>\n",
       "    <tr>\n",
       "      <th>area</th>\n",
       "      <th></th>\n",
       "    </tr>\n",
       "  </thead>\n",
       "  <tbody>\n",
       "    <tr>\n",
       "      <th>서울</th>\n",
       "      <td>47.0</td>\n",
       "    </tr>\n",
       "    <tr>\n",
       "      <th>부산</th>\n",
       "      <td>47.0</td>\n",
       "    </tr>\n",
       "    <tr>\n",
       "      <th>대구</th>\n",
       "      <td>72.0</td>\n",
       "    </tr>\n",
       "    <tr>\n",
       "      <th>인천</th>\n",
       "      <td>51.0</td>\n",
       "    </tr>\n",
       "    <tr>\n",
       "      <th>광주</th>\n",
       "      <td>36.0</td>\n",
       "    </tr>\n",
       "  </tbody>\n",
       "</table>\n",
       "</div>"
      ],
      "text/plain": [
       "      dust\n",
       "area      \n",
       "서울    47.0\n",
       "부산    47.0\n",
       "대구    72.0\n",
       "인천    51.0\n",
       "광주    36.0"
      ]
     },
     "execution_count": 3,
     "metadata": {},
     "output_type": "execute_result"
    }
   ],
   "source": [
    "#데이터 생성\n",
    "data=pd.DataFrame([dfs[0].transpose()[1::][0].index,dfs[0].transpose()[1::][0]]).transpose()\n",
    "data=pd.DataFrame({'area':data[0],'dust':data[1]})\n",
    "\n",
    "#데이터 수치로 변환\n",
    "data['dust']=data['dust'].astype(float)\n",
    "data.reset_index(inplace=True,drop=True)\n",
    "data=data.set_index('area')\n",
    "\n",
    "print(data.dtypes)\n",
    "data.head()"
   ]
  },
  {
   "cell_type": "code",
   "execution_count": null,
   "id": "207a7546",
   "metadata": {},
   "outputs": [],
   "source": []
  }
 ],
 "metadata": {
  "kernelspec": {
   "display_name": "Python 3",
   "language": "python",
   "name": "python3"
  },
  "language_info": {
   "codemirror_mode": {
    "name": "ipython",
    "version": 3
   },
   "file_extension": ".py",
   "mimetype": "text/x-python",
   "name": "python",
   "nbconvert_exporter": "python",
   "pygments_lexer": "ipython3",
   "version": "3.8.9"
  },
  "toc": {
   "base_numbering": 1,
   "nav_menu": {},
   "number_sections": true,
   "sideBar": true,
   "skip_h1_title": false,
   "title_cell": "Table of Contents",
   "title_sidebar": "Contents",
   "toc_cell": false,
   "toc_position": {},
   "toc_section_display": true,
   "toc_window_display": false
  },
  "varInspector": {
   "cols": {
    "lenName": 16,
    "lenType": 16,
    "lenVar": 40
   },
   "kernels_config": {
    "python": {
     "delete_cmd_postfix": "",
     "delete_cmd_prefix": "del ",
     "library": "var_list.py",
     "varRefreshCmd": "print(var_dic_list())"
    },
    "r": {
     "delete_cmd_postfix": ") ",
     "delete_cmd_prefix": "rm(",
     "library": "var_list.r",
     "varRefreshCmd": "cat(var_dic_list()) "
    }
   },
   "types_to_exclude": [
    "module",
    "function",
    "builtin_function_or_method",
    "instance",
    "_Feature"
   ],
   "window_display": false
  }
 },
 "nbformat": 4,
 "nbformat_minor": 5
}
