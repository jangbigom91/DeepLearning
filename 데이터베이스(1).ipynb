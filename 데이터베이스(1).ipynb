{
 "cells": [
  {
   "cell_type": "code",
   "execution_count": 1,
   "id": "e93f7d51",
   "metadata": {
    "ExecuteTime": {
     "end_time": "2021-06-08T23:59:41.239700Z",
     "start_time": "2021-06-08T23:59:38.039859Z"
    }
   },
   "outputs": [
    {
     "name": "stdout",
     "output_type": "stream",
     "text": [
      "Collecting PyMySQL\n",
      "  Using cached PyMySQL-1.0.2-py3-none-any.whl (43 kB)\n",
      "Installing collected packages: PyMySQL\n",
      "Successfully installed PyMySQL-1.0.2\n"
     ]
    }
   ],
   "source": [
    "# !pip install PyMySQL"
   ]
  },
  {
   "cell_type": "markdown",
   "id": "2ce4064e",
   "metadata": {
    "ExecuteTime": {
     "end_time": "2021-06-08T15:10:52.328301Z",
     "start_time": "2021-06-08T15:10:52.314339Z"
    }
   },
   "source": [
    "# 데이터 정의\n",
    "## **SQL의 분류**\n",
    "* 데이터 정의어(DDL) : CREATE, ALTER, DROP\n",
    "* 데이터 조작어(DML) : SELECT, INSERT, UPDATE, DETELE\n",
    "* 데이터 제어어(DCL) : REVOKE, GRANT"
   ]
  },
  {
   "cell_type": "code",
   "execution_count": 3,
   "id": "6c031d74",
   "metadata": {
    "ExecuteTime": {
     "end_time": "2021-06-10T08:58:31.726883Z",
     "start_time": "2021-06-10T08:58:31.721869Z"
    }
   },
   "outputs": [],
   "source": [
    "import pymysql\n",
    "import pandas as pd\n",
    "import qgrid"
   ]
  },
  {
   "cell_type": "code",
   "execution_count": 4,
   "id": "6f1918af",
   "metadata": {
    "ExecuteTime": {
     "end_time": "2021-06-10T08:59:11.735068Z",
     "start_time": "2021-06-10T08:59:11.705648Z"
    }
   },
   "outputs": [
    {
     "data": {
      "text/plain": [
       "1"
      ]
     },
     "execution_count": 4,
     "metadata": {},
     "output_type": "execute_result"
    }
   ],
   "source": [
    "# DB 생성\n",
    "db = pymysql.connect(\n",
    "    host = '127.0.0.1',\n",
    "    port = 3306,\n",
    "    user = 'root',\n",
    "    password = '1234',\n",
    "    charset='utf8'\n",
    ")\n",
    "\n",
    "new_db = \"CREATE DATABASE customer\"\n",
    "\n",
    "cursor = db.cursor()\n",
    "cursor.execute(new_db)\n"
   ]
  },
  {
   "cell_type": "markdown",
   "id": "1113b76d",
   "metadata": {
    "ExecuteTime": {
     "end_time": "2021-06-10T08:24:10.651173Z",
     "start_time": "2021-06-10T08:24:10.637718Z"
    }
   },
   "source": [
    "---"
   ]
  },
  {
   "cell_type": "code",
   "execution_count": 5,
   "id": "fea000ea",
   "metadata": {
    "ExecuteTime": {
     "end_time": "2021-06-10T08:59:28.908516Z",
     "start_time": "2021-06-10T08:59:28.897542Z"
    }
   },
   "outputs": [],
   "source": [
    "# DB 연결\n",
    "db = pymysql.connect(\n",
    "    host = '127.0.0.1',\n",
    "    port = 3306,\n",
    "    user = 'root',\n",
    "    password = '1234',\n",
    "    db = 'customer',\n",
    "    charset='utf8'\n",
    ")\n",
    "\n",
    "cursor = db.cursor()"
   ]
  },
  {
   "cell_type": "code",
   "execution_count": 6,
   "id": "1ca9e328",
   "metadata": {
    "ExecuteTime": {
     "end_time": "2021-06-10T09:00:01.887780Z",
     "start_time": "2021-06-10T09:00:01.873821Z"
    }
   },
   "outputs": [],
   "source": [
    "# 연결한 DB와 상호작용하기 위해 cursor 객체를 생성\n",
    "# cursor = db.cursor() -> 일반 Cursor를 사용하면 결과가 튜플 형태로 리턴\n",
    "cursor = db.cursor(pymysql.cursors.DictCursor) # 딕셔너리 형태로 리턴"
   ]
  },
  {
   "cell_type": "markdown",
   "id": "b89e9496",
   "metadata": {},
   "source": [
    "---"
   ]
  },
  {
   "cell_type": "markdown",
   "id": "09ada4f0",
   "metadata": {},
   "source": [
    "#  데이터 정의 \n",
    "* 테이블 생성 : CREATE TABLE\n",
    "* 테이블 변경 : ALTER TABLE\n",
    "* 테이블 제거 : DROP TABLE"
   ]
  },
  {
   "cell_type": "markdown",
   "id": "ae14dffe",
   "metadata": {
    "ExecuteTime": {
     "end_time": "2021-06-08T15:29:04.218554Z",
     "start_time": "2021-06-08T15:29:04.210575Z"
    }
   },
   "source": [
    "## <span class=\"mark\">**테이블 생성 : CREATE TABLE**</span>"
   ]
  },
  {
   "cell_type": "markdown",
   "id": "9ee8299a",
   "metadata": {},
   "source": [
    "* 고객 테이블은 고객아이디, 고객이름, 나이, 등급, 직업, 적립금 속성으로 구성되고 고객아이디 속성이 기본키이다. 고객 이름과 등급 속성은 값을 반드시 입력해야 하고, 적립금 속성은 값을 입력하지 않으면 0이 기본으로 입력되도록 고객 테이블을 생성"
   ]
  },
  {
   "cell_type": "code",
   "execution_count": 7,
   "id": "613d060b",
   "metadata": {
    "ExecuteTime": {
     "end_time": "2021-06-10T09:01:34.590050Z",
     "start_time": "2021-06-10T09:01:34.529444Z"
    }
   },
   "outputs": [],
   "source": [
    "customer_sql = '''\n",
    "CREATE TABLE 고객(\n",
    "    고객아이디 VARCHAR(20) NOT NULL, \n",
    "    고객이름 VARCHAR(10) NOT NULL,\n",
    "    나이 INT,\n",
    "    등급 VARCHAR(10) NOT NULL,\n",
    "    직업 VARCHAR(20),\n",
    "    적립금 INT DEFAULT 0,\n",
    "    PRIMARY KEY(고객아이디)\n",
    ")\n",
    "'''\n",
    "\n",
    "cursor.execute(customer_sql)\n",
    "db.commit()"
   ]
  },
  {
   "cell_type": "markdown",
   "id": "ce27c929",
   "metadata": {},
   "source": [
    "## <span class=\"mark\">**테이블 변경 : ALTER TABLE**</span>"
   ]
  },
  {
   "cell_type": "markdown",
   "id": "b8fe950c",
   "metadata": {
    "ExecuteTime": {
     "end_time": "2021-06-09T11:41:48.173787Z",
     "start_time": "2021-06-09T11:41:48.165809Z"
    }
   },
   "source": [
    "[Mysql 데이터 타입 참고](https://dololak.tistory.com/260)\n",
    "<br>(1) 새로운 속성 추가\n",
    "<br> ALTER TABLE 테이블_이름 ADD 속성_이름 데이터_타입 [NOT NULL] [DEFAULT 기본_값];\n",
    "<br><br>  - 고객 테이블에 가입날짜 속성 추가"
   ]
  },
  {
   "cell_type": "code",
   "execution_count": 8,
   "id": "20ff3db9",
   "metadata": {
    "ExecuteTime": {
     "end_time": "2021-06-10T09:02:18.305110Z",
     "start_time": "2021-06-10T09:02:18.273435Z"
    }
   },
   "outputs": [],
   "source": [
    "customer_sql = '''\n",
    "ALTER TABLE 고객 ADD 가입날짜 DATE\n",
    "'''\n",
    "\n",
    "cursor.execute(customer_sql)\n",
    "db.commit()"
   ]
  },
  {
   "cell_type": "markdown",
   "id": "e7e29d5f",
   "metadata": {},
   "source": [
    "(2) 기존의 속성 삭제\n",
    "<br> ALTER TABLE 테이블_이름 DROP COLUMN 속성_이름;\n",
    "<br><br> - 고객 테이블에 가입날짜 속성 삭제"
   ]
  },
  {
   "cell_type": "code",
   "execution_count": 9,
   "id": "3df4dc8f",
   "metadata": {
    "ExecuteTime": {
     "end_time": "2021-06-10T09:02:37.735664Z",
     "start_time": "2021-06-10T09:02:37.657563Z"
    }
   },
   "outputs": [],
   "source": [
    "customer_sql = '''\n",
    "ALTER TABLE 고객 DROP COLUMN 가입날짜\n",
    "'''\n",
    "\n",
    "cursor.execute(customer_sql)\n",
    "db.commit()"
   ]
  },
  {
   "cell_type": "markdown",
   "id": "65b24317",
   "metadata": {},
   "source": [
    "(3) 제약조건 추가\n",
    "<br> ALTER TABLE 테이블_이름 ADD CONSTRAINT 제약조건_이름 제약조건_내용;\n",
    "<br><br> - 고객 테이블에 20세 이상의 고객만 가입 할 수 있게 데이터 무결성 제약조건 추가\n",
    "<br>[데이터 무결성 참고](https://limkydev.tistory.com/161)\n",
    "\n"
   ]
  },
  {
   "cell_type": "code",
   "execution_count": 10,
   "id": "d8013ae6",
   "metadata": {
    "ExecuteTime": {
     "end_time": "2021-06-10T09:03:06.738657Z",
     "start_time": "2021-06-10T09:03:06.665875Z"
    }
   },
   "outputs": [],
   "source": [
    "customer_sql = '''\n",
    "ALTER TABLE 고객 ADD CONSTRAINT CHK_AGE CHECK(나이>=20)\n",
    "'''\n",
    "\n",
    "cursor.execute(customer_sql)\n",
    "db.commit()"
   ]
  },
  {
   "cell_type": "markdown",
   "id": "a88b7cd3",
   "metadata": {},
   "source": [
    "(4) 제약 조건 삭제\n",
    "<br> ALTER TABLE 테이블_이름 DROP CONSTRAINT 제약조건_이름;\n",
    "<br><br> - 고객 테이블에 20세 이상의 고객만 가입 할 수 있는 데이터 무결성 제약조건 삭제"
   ]
  },
  {
   "cell_type": "code",
   "execution_count": 8,
   "id": "05e3fd3e",
   "metadata": {
    "ExecuteTime": {
     "end_time": "2021-06-10T00:11:49.305069Z",
     "start_time": "2021-06-10T00:11:49.270781Z"
    }
   },
   "outputs": [],
   "source": [
    "# 기존 제약 조건 삭제\n",
    "customer_sql = '''\n",
    "ALTER TABLE 고객 DROP CONSTRAINT CHK_AGE\n",
    "'''\n",
    "\n",
    "cursor.execute(customer_sql)\n",
    "db.commit()"
   ]
  },
  {
   "cell_type": "markdown",
   "id": "6294fb46",
   "metadata": {},
   "source": [
    "## <span class=\"mark\">**테이블의 삭제 : DROP TABLE**</span>\n",
    "ALTER TABLE 테이블_이름 DROP COLUMN 속성_이름; "
   ]
  },
  {
   "cell_type": "code",
   "execution_count": 20,
   "id": "0b8db577",
   "metadata": {
    "ExecuteTime": {
     "end_time": "2021-06-10T07:56:21.094977Z",
     "start_time": "2021-06-10T07:56:21.042692Z"
    }
   },
   "outputs": [],
   "source": [
    "customer_sql = \"DROP TABLE 고객\"\n",
    "\n",
    "cursor.execute(customer_sql)\n",
    "db.commit()"
   ]
  },
  {
   "cell_type": "markdown",
   "id": "bd720f5d",
   "metadata": {},
   "source": [
    "---"
   ]
  },
  {
   "cell_type": "markdown",
   "id": "cce0f3e4",
   "metadata": {},
   "source": [
    "# 데이터 조작\n",
    "##  <span class=\"mark\">**데이터 삽입 : INSERT**</span>\n",
    "INSERT INTO 테이블_이름 [(속성_리스트)] VALUES (속성값_리스트);\n",
    "<br><br> - 고객 테이블에 강소현 데이터 삽입"
   ]
  },
  {
   "cell_type": "code",
   "execution_count": 11,
   "id": "b2ac4cb2",
   "metadata": {
    "ExecuteTime": {
     "end_time": "2021-06-10T09:03:54.198771Z",
     "start_time": "2021-06-10T09:03:54.177834Z"
    }
   },
   "outputs": [],
   "source": [
    "customer_sql = '''\n",
    "INSERT INTO 고객 (고객아이디, 고객이름, 나이, 등급, 직업, 적립금) \n",
    "VALUES ('sohyun1024', '강소현', '25', 'VIP', '백수', '12000')\n",
    "'''\n",
    "\n",
    "cursor.execute(customer_sql)\n",
    "db.commit()"
   ]
  },
  {
   "cell_type": "code",
   "execution_count": 12,
   "id": "60f3a3c7",
   "metadata": {
    "ExecuteTime": {
     "end_time": "2021-06-10T09:03:57.848395Z",
     "start_time": "2021-06-10T09:03:57.792983Z"
    }
   },
   "outputs": [
    {
     "data": {
      "application/vnd.jupyter.widget-view+json": {
       "model_id": "c5370fc6b14041239815cf74f140f05b",
       "version_major": 2,
       "version_minor": 0
      },
      "text/plain": [
       "QgridWidget(grid_options={'fullWidthRows': True, 'syncColumnCellResize': True, 'forceFitColumns': True, 'defau…"
      ]
     },
     "metadata": {},
     "output_type": "display_data"
    }
   ],
   "source": [
    "# DataFrame으로 확인\n",
    "customer_sql = \"SELECT * FROM 고객\"\n",
    "\n",
    "cursor.execute(customer_sql)\n",
    "sql_result = cursor.fetchall() # 모든 데이터를 한번에 가져올 때 사용\n",
    "sql_result = pd.DataFrame(sql_result)\n",
    "# sql_result\n",
    "qgrid.show_grid(sql_result)"
   ]
  },
  {
   "cell_type": "markdown",
   "id": "2682264c",
   "metadata": {},
   "source": [
    "<br> - 고객 정보 n개 행(row)에 넣기"
   ]
  },
  {
   "cell_type": "code",
   "execution_count": 13,
   "id": "5120e12c",
   "metadata": {
    "ExecuteTime": {
     "end_time": "2021-06-10T09:05:01.685487Z",
     "start_time": "2021-06-10T09:05:01.665516Z"
    }
   },
   "outputs": [],
   "source": [
    "customer_sql = '''\n",
    "INSERT INTO 고객 (고객아이디, 고객이름, 나이, 등급, 직업, 적립금) \n",
    "VALUES (%s, %s, %s, %s, %s, %s)\n",
    "'''\n",
    "val = [\n",
    "    ('apple', '정소화', '20', 'GOLD', '학생', '1000'),\n",
    "    ('banana', '김선우', '25', 'VIP', '간호사', '2500'),\n",
    "    ('carrot', '고명석', '28', 'GOLD', '교사', '4500'),\n",
    "    ('orange', '김용욱', '22', 'SILVER', '학생', '0'),\n",
    "    ('melon', '성원용', '35', 'GOLD', '회사원', '5000'),\n",
    "    ('peach', '오형준', '29', 'SILVER', '의사', '300'),\n",
    "    ('pear', '채광주', '31', 'SILVER', '회사원', '500')\n",
    "]\n",
    "\n",
    "# executemany() : 다중 실행 함수\n",
    "# executemany()함수의 매개변수로 sql과 튜플을 담은 리스트 val를 주면 됨.\n",
    "cursor.executemany(customer_sql, val)\n",
    "db.commit()"
   ]
  },
  {
   "cell_type": "code",
   "execution_count": 14,
   "id": "189b75a3",
   "metadata": {
    "ExecuteTime": {
     "end_time": "2021-06-10T09:05:03.795420Z",
     "start_time": "2021-06-10T09:05:03.761510Z"
    }
   },
   "outputs": [
    {
     "data": {
      "application/vnd.jupyter.widget-view+json": {
       "model_id": "a5006b05b7094f3b8bb66cbb8f010fa2",
       "version_major": 2,
       "version_minor": 0
      },
      "text/plain": [
       "QgridWidget(grid_options={'fullWidthRows': True, 'syncColumnCellResize': True, 'forceFitColumns': True, 'defau…"
      ]
     },
     "metadata": {},
     "output_type": "display_data"
    }
   ],
   "source": [
    "# DataFrame으로 확인\n",
    "customer_sql = \"SELECT * FROM 고객\"\n",
    "\n",
    "cursor.execute(customer_sql)\n",
    "sql_result = cursor.fetchall() # 모든 데이터를 한번에 가져올 때 사용\n",
    "sql_result = pd.DataFrame(sql_result)\n",
    "# sql_result\n",
    "qgrid.show_grid(sql_result)"
   ]
  },
  {
   "cell_type": "markdown",
   "id": "b327626a",
   "metadata": {},
   "source": [
    "<br> - 나이 제약조건 설정 확인"
   ]
  },
  {
   "cell_type": "code",
   "execution_count": 15,
   "id": "966cd9d2",
   "metadata": {
    "ExecuteTime": {
     "end_time": "2021-06-10T09:05:23.711961Z",
     "start_time": "2021-06-10T09:05:23.457643Z"
    }
   },
   "outputs": [
    {
     "ename": "OperationalError",
     "evalue": "(3819, \"Check constraint 'CHK_AGE' is violated.\")",
     "output_type": "error",
     "traceback": [
      "\u001b[1;31m---------------------------------------------------------------------------\u001b[0m",
      "\u001b[1;31mOperationalError\u001b[0m                          Traceback (most recent call last)",
      "\u001b[1;32m<ipython-input-15-774beca8defb>\u001b[0m in \u001b[0;36m<module>\u001b[1;34m\u001b[0m\n\u001b[0;32m      4\u001b[0m '''\n\u001b[0;32m      5\u001b[0m \u001b[1;33m\u001b[0m\u001b[0m\n\u001b[1;32m----> 6\u001b[1;33m \u001b[0mcursor\u001b[0m\u001b[1;33m.\u001b[0m\u001b[0mexecute\u001b[0m\u001b[1;33m(\u001b[0m\u001b[0mcustomer_sql\u001b[0m\u001b[1;33m)\u001b[0m\u001b[1;33m\u001b[0m\u001b[1;33m\u001b[0m\u001b[0m\n\u001b[0m\u001b[0;32m      7\u001b[0m \u001b[0mdb\u001b[0m\u001b[1;33m.\u001b[0m\u001b[0mcommit\u001b[0m\u001b[1;33m(\u001b[0m\u001b[1;33m)\u001b[0m\u001b[1;33m\u001b[0m\u001b[1;33m\u001b[0m\u001b[0m\n",
      "\u001b[1;32mc:\\users\\ad\\appdata\\local\\programs\\python\\python38\\lib\\site-packages\\pymysql\\cursors.py\u001b[0m in \u001b[0;36mexecute\u001b[1;34m(self, query, args)\u001b[0m\n\u001b[0;32m    146\u001b[0m         \u001b[0mquery\u001b[0m \u001b[1;33m=\u001b[0m \u001b[0mself\u001b[0m\u001b[1;33m.\u001b[0m\u001b[0mmogrify\u001b[0m\u001b[1;33m(\u001b[0m\u001b[0mquery\u001b[0m\u001b[1;33m,\u001b[0m \u001b[0margs\u001b[0m\u001b[1;33m)\u001b[0m\u001b[1;33m\u001b[0m\u001b[1;33m\u001b[0m\u001b[0m\n\u001b[0;32m    147\u001b[0m \u001b[1;33m\u001b[0m\u001b[0m\n\u001b[1;32m--> 148\u001b[1;33m         \u001b[0mresult\u001b[0m \u001b[1;33m=\u001b[0m \u001b[0mself\u001b[0m\u001b[1;33m.\u001b[0m\u001b[0m_query\u001b[0m\u001b[1;33m(\u001b[0m\u001b[0mquery\u001b[0m\u001b[1;33m)\u001b[0m\u001b[1;33m\u001b[0m\u001b[1;33m\u001b[0m\u001b[0m\n\u001b[0m\u001b[0;32m    149\u001b[0m         \u001b[0mself\u001b[0m\u001b[1;33m.\u001b[0m\u001b[0m_executed\u001b[0m \u001b[1;33m=\u001b[0m \u001b[0mquery\u001b[0m\u001b[1;33m\u001b[0m\u001b[1;33m\u001b[0m\u001b[0m\n\u001b[0;32m    150\u001b[0m         \u001b[1;32mreturn\u001b[0m \u001b[0mresult\u001b[0m\u001b[1;33m\u001b[0m\u001b[1;33m\u001b[0m\u001b[0m\n",
      "\u001b[1;32mc:\\users\\ad\\appdata\\local\\programs\\python\\python38\\lib\\site-packages\\pymysql\\cursors.py\u001b[0m in \u001b[0;36m_query\u001b[1;34m(self, q)\u001b[0m\n\u001b[0;32m    308\u001b[0m         \u001b[0mself\u001b[0m\u001b[1;33m.\u001b[0m\u001b[0m_last_executed\u001b[0m \u001b[1;33m=\u001b[0m \u001b[0mq\u001b[0m\u001b[1;33m\u001b[0m\u001b[1;33m\u001b[0m\u001b[0m\n\u001b[0;32m    309\u001b[0m         \u001b[0mself\u001b[0m\u001b[1;33m.\u001b[0m\u001b[0m_clear_result\u001b[0m\u001b[1;33m(\u001b[0m\u001b[1;33m)\u001b[0m\u001b[1;33m\u001b[0m\u001b[1;33m\u001b[0m\u001b[0m\n\u001b[1;32m--> 310\u001b[1;33m         \u001b[0mconn\u001b[0m\u001b[1;33m.\u001b[0m\u001b[0mquery\u001b[0m\u001b[1;33m(\u001b[0m\u001b[0mq\u001b[0m\u001b[1;33m)\u001b[0m\u001b[1;33m\u001b[0m\u001b[1;33m\u001b[0m\u001b[0m\n\u001b[0m\u001b[0;32m    311\u001b[0m         \u001b[0mself\u001b[0m\u001b[1;33m.\u001b[0m\u001b[0m_do_get_result\u001b[0m\u001b[1;33m(\u001b[0m\u001b[1;33m)\u001b[0m\u001b[1;33m\u001b[0m\u001b[1;33m\u001b[0m\u001b[0m\n\u001b[0;32m    312\u001b[0m         \u001b[1;32mreturn\u001b[0m \u001b[0mself\u001b[0m\u001b[1;33m.\u001b[0m\u001b[0mrowcount\u001b[0m\u001b[1;33m\u001b[0m\u001b[1;33m\u001b[0m\u001b[0m\n",
      "\u001b[1;32mc:\\users\\ad\\appdata\\local\\programs\\python\\python38\\lib\\site-packages\\pymysql\\connections.py\u001b[0m in \u001b[0;36mquery\u001b[1;34m(self, sql, unbuffered)\u001b[0m\n\u001b[0;32m    546\u001b[0m             \u001b[0msql\u001b[0m \u001b[1;33m=\u001b[0m \u001b[0msql\u001b[0m\u001b[1;33m.\u001b[0m\u001b[0mencode\u001b[0m\u001b[1;33m(\u001b[0m\u001b[0mself\u001b[0m\u001b[1;33m.\u001b[0m\u001b[0mencoding\u001b[0m\u001b[1;33m,\u001b[0m \u001b[1;34m\"surrogateescape\"\u001b[0m\u001b[1;33m)\u001b[0m\u001b[1;33m\u001b[0m\u001b[1;33m\u001b[0m\u001b[0m\n\u001b[0;32m    547\u001b[0m         \u001b[0mself\u001b[0m\u001b[1;33m.\u001b[0m\u001b[0m_execute_command\u001b[0m\u001b[1;33m(\u001b[0m\u001b[0mCOMMAND\u001b[0m\u001b[1;33m.\u001b[0m\u001b[0mCOM_QUERY\u001b[0m\u001b[1;33m,\u001b[0m \u001b[0msql\u001b[0m\u001b[1;33m)\u001b[0m\u001b[1;33m\u001b[0m\u001b[1;33m\u001b[0m\u001b[0m\n\u001b[1;32m--> 548\u001b[1;33m         \u001b[0mself\u001b[0m\u001b[1;33m.\u001b[0m\u001b[0m_affected_rows\u001b[0m \u001b[1;33m=\u001b[0m \u001b[0mself\u001b[0m\u001b[1;33m.\u001b[0m\u001b[0m_read_query_result\u001b[0m\u001b[1;33m(\u001b[0m\u001b[0munbuffered\u001b[0m\u001b[1;33m=\u001b[0m\u001b[0munbuffered\u001b[0m\u001b[1;33m)\u001b[0m\u001b[1;33m\u001b[0m\u001b[1;33m\u001b[0m\u001b[0m\n\u001b[0m\u001b[0;32m    549\u001b[0m         \u001b[1;32mreturn\u001b[0m \u001b[0mself\u001b[0m\u001b[1;33m.\u001b[0m\u001b[0m_affected_rows\u001b[0m\u001b[1;33m\u001b[0m\u001b[1;33m\u001b[0m\u001b[0m\n\u001b[0;32m    550\u001b[0m \u001b[1;33m\u001b[0m\u001b[0m\n",
      "\u001b[1;32mc:\\users\\ad\\appdata\\local\\programs\\python\\python38\\lib\\site-packages\\pymysql\\connections.py\u001b[0m in \u001b[0;36m_read_query_result\u001b[1;34m(self, unbuffered)\u001b[0m\n\u001b[0;32m    773\u001b[0m         \u001b[1;32melse\u001b[0m\u001b[1;33m:\u001b[0m\u001b[1;33m\u001b[0m\u001b[1;33m\u001b[0m\u001b[0m\n\u001b[0;32m    774\u001b[0m             \u001b[0mresult\u001b[0m \u001b[1;33m=\u001b[0m \u001b[0mMySQLResult\u001b[0m\u001b[1;33m(\u001b[0m\u001b[0mself\u001b[0m\u001b[1;33m)\u001b[0m\u001b[1;33m\u001b[0m\u001b[1;33m\u001b[0m\u001b[0m\n\u001b[1;32m--> 775\u001b[1;33m             \u001b[0mresult\u001b[0m\u001b[1;33m.\u001b[0m\u001b[0mread\u001b[0m\u001b[1;33m(\u001b[0m\u001b[1;33m)\u001b[0m\u001b[1;33m\u001b[0m\u001b[1;33m\u001b[0m\u001b[0m\n\u001b[0m\u001b[0;32m    776\u001b[0m         \u001b[0mself\u001b[0m\u001b[1;33m.\u001b[0m\u001b[0m_result\u001b[0m \u001b[1;33m=\u001b[0m \u001b[0mresult\u001b[0m\u001b[1;33m\u001b[0m\u001b[1;33m\u001b[0m\u001b[0m\n\u001b[0;32m    777\u001b[0m         \u001b[1;32mif\u001b[0m \u001b[0mresult\u001b[0m\u001b[1;33m.\u001b[0m\u001b[0mserver_status\u001b[0m \u001b[1;32mis\u001b[0m \u001b[1;32mnot\u001b[0m \u001b[1;32mNone\u001b[0m\u001b[1;33m:\u001b[0m\u001b[1;33m\u001b[0m\u001b[1;33m\u001b[0m\u001b[0m\n",
      "\u001b[1;32mc:\\users\\ad\\appdata\\local\\programs\\python\\python38\\lib\\site-packages\\pymysql\\connections.py\u001b[0m in \u001b[0;36mread\u001b[1;34m(self)\u001b[0m\n\u001b[0;32m   1154\u001b[0m     \u001b[1;32mdef\u001b[0m \u001b[0mread\u001b[0m\u001b[1;33m(\u001b[0m\u001b[0mself\u001b[0m\u001b[1;33m)\u001b[0m\u001b[1;33m:\u001b[0m\u001b[1;33m\u001b[0m\u001b[1;33m\u001b[0m\u001b[0m\n\u001b[0;32m   1155\u001b[0m         \u001b[1;32mtry\u001b[0m\u001b[1;33m:\u001b[0m\u001b[1;33m\u001b[0m\u001b[1;33m\u001b[0m\u001b[0m\n\u001b[1;32m-> 1156\u001b[1;33m             \u001b[0mfirst_packet\u001b[0m \u001b[1;33m=\u001b[0m \u001b[0mself\u001b[0m\u001b[1;33m.\u001b[0m\u001b[0mconnection\u001b[0m\u001b[1;33m.\u001b[0m\u001b[0m_read_packet\u001b[0m\u001b[1;33m(\u001b[0m\u001b[1;33m)\u001b[0m\u001b[1;33m\u001b[0m\u001b[1;33m\u001b[0m\u001b[0m\n\u001b[0m\u001b[0;32m   1157\u001b[0m \u001b[1;33m\u001b[0m\u001b[0m\n\u001b[0;32m   1158\u001b[0m             \u001b[1;32mif\u001b[0m \u001b[0mfirst_packet\u001b[0m\u001b[1;33m.\u001b[0m\u001b[0mis_ok_packet\u001b[0m\u001b[1;33m(\u001b[0m\u001b[1;33m)\u001b[0m\u001b[1;33m:\u001b[0m\u001b[1;33m\u001b[0m\u001b[1;33m\u001b[0m\u001b[0m\n",
      "\u001b[1;32mc:\\users\\ad\\appdata\\local\\programs\\python\\python38\\lib\\site-packages\\pymysql\\connections.py\u001b[0m in \u001b[0;36m_read_packet\u001b[1;34m(self, packet_type)\u001b[0m\n\u001b[0;32m    723\u001b[0m             \u001b[1;32mif\u001b[0m \u001b[0mself\u001b[0m\u001b[1;33m.\u001b[0m\u001b[0m_result\u001b[0m \u001b[1;32mis\u001b[0m \u001b[1;32mnot\u001b[0m \u001b[1;32mNone\u001b[0m \u001b[1;32mand\u001b[0m \u001b[0mself\u001b[0m\u001b[1;33m.\u001b[0m\u001b[0m_result\u001b[0m\u001b[1;33m.\u001b[0m\u001b[0munbuffered_active\u001b[0m \u001b[1;32mis\u001b[0m \u001b[1;32mTrue\u001b[0m\u001b[1;33m:\u001b[0m\u001b[1;33m\u001b[0m\u001b[1;33m\u001b[0m\u001b[0m\n\u001b[0;32m    724\u001b[0m                 \u001b[0mself\u001b[0m\u001b[1;33m.\u001b[0m\u001b[0m_result\u001b[0m\u001b[1;33m.\u001b[0m\u001b[0munbuffered_active\u001b[0m \u001b[1;33m=\u001b[0m \u001b[1;32mFalse\u001b[0m\u001b[1;33m\u001b[0m\u001b[1;33m\u001b[0m\u001b[0m\n\u001b[1;32m--> 725\u001b[1;33m             \u001b[0mpacket\u001b[0m\u001b[1;33m.\u001b[0m\u001b[0mraise_for_error\u001b[0m\u001b[1;33m(\u001b[0m\u001b[1;33m)\u001b[0m\u001b[1;33m\u001b[0m\u001b[1;33m\u001b[0m\u001b[0m\n\u001b[0m\u001b[0;32m    726\u001b[0m         \u001b[1;32mreturn\u001b[0m \u001b[0mpacket\u001b[0m\u001b[1;33m\u001b[0m\u001b[1;33m\u001b[0m\u001b[0m\n\u001b[0;32m    727\u001b[0m \u001b[1;33m\u001b[0m\u001b[0m\n",
      "\u001b[1;32mc:\\users\\ad\\appdata\\local\\programs\\python\\python38\\lib\\site-packages\\pymysql\\protocol.py\u001b[0m in \u001b[0;36mraise_for_error\u001b[1;34m(self)\u001b[0m\n\u001b[0;32m    219\u001b[0m         \u001b[1;32mif\u001b[0m \u001b[0mDEBUG\u001b[0m\u001b[1;33m:\u001b[0m\u001b[1;33m\u001b[0m\u001b[1;33m\u001b[0m\u001b[0m\n\u001b[0;32m    220\u001b[0m             \u001b[0mprint\u001b[0m\u001b[1;33m(\u001b[0m\u001b[1;34m\"errno =\"\u001b[0m\u001b[1;33m,\u001b[0m \u001b[0merrno\u001b[0m\u001b[1;33m)\u001b[0m\u001b[1;33m\u001b[0m\u001b[1;33m\u001b[0m\u001b[0m\n\u001b[1;32m--> 221\u001b[1;33m         \u001b[0merr\u001b[0m\u001b[1;33m.\u001b[0m\u001b[0mraise_mysql_exception\u001b[0m\u001b[1;33m(\u001b[0m\u001b[0mself\u001b[0m\u001b[1;33m.\u001b[0m\u001b[0m_data\u001b[0m\u001b[1;33m)\u001b[0m\u001b[1;33m\u001b[0m\u001b[1;33m\u001b[0m\u001b[0m\n\u001b[0m\u001b[0;32m    222\u001b[0m \u001b[1;33m\u001b[0m\u001b[0m\n\u001b[0;32m    223\u001b[0m     \u001b[1;32mdef\u001b[0m \u001b[0mdump\u001b[0m\u001b[1;33m(\u001b[0m\u001b[0mself\u001b[0m\u001b[1;33m)\u001b[0m\u001b[1;33m:\u001b[0m\u001b[1;33m\u001b[0m\u001b[1;33m\u001b[0m\u001b[0m\n",
      "\u001b[1;32mc:\\users\\ad\\appdata\\local\\programs\\python\\python38\\lib\\site-packages\\pymysql\\err.py\u001b[0m in \u001b[0;36mraise_mysql_exception\u001b[1;34m(data)\u001b[0m\n\u001b[0;32m    141\u001b[0m     \u001b[1;32mif\u001b[0m \u001b[0merrorclass\u001b[0m \u001b[1;32mis\u001b[0m \u001b[1;32mNone\u001b[0m\u001b[1;33m:\u001b[0m\u001b[1;33m\u001b[0m\u001b[1;33m\u001b[0m\u001b[0m\n\u001b[0;32m    142\u001b[0m         \u001b[0merrorclass\u001b[0m \u001b[1;33m=\u001b[0m \u001b[0mInternalError\u001b[0m \u001b[1;32mif\u001b[0m \u001b[0merrno\u001b[0m \u001b[1;33m<\u001b[0m \u001b[1;36m1000\u001b[0m \u001b[1;32melse\u001b[0m \u001b[0mOperationalError\u001b[0m\u001b[1;33m\u001b[0m\u001b[1;33m\u001b[0m\u001b[0m\n\u001b[1;32m--> 143\u001b[1;33m     \u001b[1;32mraise\u001b[0m \u001b[0merrorclass\u001b[0m\u001b[1;33m(\u001b[0m\u001b[0merrno\u001b[0m\u001b[1;33m,\u001b[0m \u001b[0merrval\u001b[0m\u001b[1;33m)\u001b[0m\u001b[1;33m\u001b[0m\u001b[1;33m\u001b[0m\u001b[0m\n\u001b[0m",
      "\u001b[1;31mOperationalError\u001b[0m: (3819, \"Check constraint 'CHK_AGE' is violated.\")"
     ]
    }
   ],
   "source": [
    "customer_sql = '''\n",
    "INSERT INTO 고객 (고객아이디, 고객이름, 나이, 등급, 직업, 적립금) \n",
    "VALUES ('turtlejjang', '명기', '4', 'VVIP', '거북이', '30000')\n",
    "'''\n",
    "\n",
    "cursor.execute(customer_sql)\n",
    "db.commit()"
   ]
  },
  {
   "cell_type": "markdown",
   "id": "f3ad9331",
   "metadata": {},
   "source": [
    "## <span class=\"mark\">**데이터 변경 : UPDATE**</span>\n",
    "UPDATE 테이블_이름 SET 속성_이름1 = 값1, 속성_이름2 = 값2 .. [WHERE 조건];\n",
    "<br><br>  - 고객 테이블에 강소현 취업"
   ]
  },
  {
   "cell_type": "code",
   "execution_count": 16,
   "id": "4dcee633",
   "metadata": {
    "ExecuteTime": {
     "end_time": "2021-06-10T09:05:52.771476Z",
     "start_time": "2021-06-10T09:05:52.753544Z"
    }
   },
   "outputs": [],
   "source": [
    "customer_sql = '''\n",
    "UPDATE 고객\n",
    "SET 직업 = '댄서'\n",
    "WHERE 고객아이디 = 'sohyun1024'\n",
    "'''\n",
    "\n",
    "cursor.execute(customer_sql)\n",
    "db.commit()"
   ]
  },
  {
   "cell_type": "code",
   "execution_count": 17,
   "id": "b39bfd6f",
   "metadata": {
    "ExecuteTime": {
     "end_time": "2021-06-10T09:06:13.282462Z",
     "start_time": "2021-06-10T09:06:13.257521Z"
    }
   },
   "outputs": [
    {
     "data": {
      "application/vnd.jupyter.widget-view+json": {
       "model_id": "6194d023c0e9495382cac0dbadd419b7",
       "version_major": 2,
       "version_minor": 0
      },
      "text/plain": [
       "QgridWidget(grid_options={'fullWidthRows': True, 'syncColumnCellResize': True, 'forceFitColumns': True, 'defau…"
      ]
     },
     "metadata": {},
     "output_type": "display_data"
    }
   ],
   "source": [
    "# DataFrame으로 확인\n",
    "customer_sql = \"SELECT * FROM 고객\"\n",
    "\n",
    "cursor.execute(customer_sql)\n",
    "sql_result = cursor.fetchall() # 모든 데이터를 한번에 가져올 때 사용\n",
    "sql_result = pd.DataFrame(sql_result)\n",
    "# sql_result\n",
    "qgrid.show_grid(sql_result)"
   ]
  },
  {
   "cell_type": "markdown",
   "id": "462a4f26",
   "metadata": {},
   "source": [
    "## <span class=\"mark\">**데이터 삭제 : DELETE**</span>\n",
    "DELETE FROM 테이블_이름 [WHERE 조건];\n",
    "<br><br> - 고객 테이블에 직업이 의사인 사람 데이터 삭제"
   ]
  },
  {
   "cell_type": "code",
   "execution_count": 18,
   "id": "70b0171d",
   "metadata": {
    "ExecuteTime": {
     "end_time": "2021-06-10T09:06:33.533679Z",
     "start_time": "2021-06-10T09:06:33.522708Z"
    }
   },
   "outputs": [],
   "source": [
    "customer_sql = '''\n",
    "DELETE FROM 고객\n",
    "WHERE 직업 = '의사'\n",
    "'''\n",
    "\n",
    "cursor.execute(customer_sql)\n",
    "db.commit()"
   ]
  },
  {
   "cell_type": "code",
   "execution_count": 19,
   "id": "cdb50c90",
   "metadata": {
    "ExecuteTime": {
     "end_time": "2021-06-10T09:06:34.586674Z",
     "start_time": "2021-06-10T09:06:34.560744Z"
    }
   },
   "outputs": [
    {
     "data": {
      "application/vnd.jupyter.widget-view+json": {
       "model_id": "b60b9ce1a0d2414eaca40b768a75eb70",
       "version_major": 2,
       "version_minor": 0
      },
      "text/plain": [
       "QgridWidget(grid_options={'fullWidthRows': True, 'syncColumnCellResize': True, 'forceFitColumns': True, 'defau…"
      ]
     },
     "metadata": {},
     "output_type": "display_data"
    }
   ],
   "source": [
    "# DataFrame으로 확인\n",
    "customer_sql = \"SELECT * FROM 고객\"\n",
    "\n",
    "cursor.execute(customer_sql)\n",
    "sql_result = cursor.fetchall() # 모든 데이터를 한번에 가져올 때 사용\n",
    "sql_result = pd.DataFrame(sql_result)\n",
    "# sql_result\n",
    "qgrid.show_grid(sql_result)"
   ]
  },
  {
   "cell_type": "markdown",
   "id": "b26f20b8",
   "metadata": {},
   "source": [
    "##  <span class=\"mark\">**기본 검색 : SELECT**</span>\n",
    "SELECT [ALL | DISTINCT] 속성_리스트 FROM 테이블_리스트; \n",
    "<br><br> - 고객 테이블에 존재하는 모든 속성 검색"
   ]
  },
  {
   "cell_type": "code",
   "execution_count": 20,
   "id": "38a856d3",
   "metadata": {
    "ExecuteTime": {
     "end_time": "2021-06-10T09:06:53.900708Z",
     "start_time": "2021-06-10T09:06:53.881754Z"
    }
   },
   "outputs": [
    {
     "data": {
      "application/vnd.jupyter.widget-view+json": {
       "model_id": "4c73b50c52bc4f96b333a1a23a96dc85",
       "version_major": 2,
       "version_minor": 0
      },
      "text/plain": [
       "QgridWidget(grid_options={'fullWidthRows': True, 'syncColumnCellResize': True, 'forceFitColumns': True, 'defau…"
      ]
     },
     "metadata": {},
     "output_type": "display_data"
    }
   ],
   "source": [
    "# * 는 ALL을 의미\n",
    "customer_sql = \"SELECT * FROM 고객\"\n",
    "\n",
    "cursor.execute(customer_sql)\n",
    "sql_result = cursor.fetchall()\n",
    "sql_result = pd.DataFrame(sql_result)\n",
    "# sql_result\n",
    "qgrid.show_grid(sql_result)"
   ]
  },
  {
   "cell_type": "markdown",
   "id": "1437a216",
   "metadata": {
    "ExecuteTime": {
     "end_time": "2021-06-09T07:25:47.412729Z",
     "start_time": "2021-06-09T07:25:47.394768Z"
    }
   },
   "source": [
    "<br> - 고객 테이블에서 고객아이디, 고객이름, 등급 속성을 검색"
   ]
  },
  {
   "cell_type": "code",
   "execution_count": 21,
   "id": "b4eedcf2",
   "metadata": {
    "ExecuteTime": {
     "end_time": "2021-06-10T09:07:05.134823Z",
     "start_time": "2021-06-10T09:07:05.081719Z"
    }
   },
   "outputs": [
    {
     "data": {
      "application/vnd.jupyter.widget-view+json": {
       "model_id": "5ce97eb79cc449dca50b81cba3bb337d",
       "version_major": 2,
       "version_minor": 0
      },
      "text/plain": [
       "QgridWidget(grid_options={'fullWidthRows': True, 'syncColumnCellResize': True, 'forceFitColumns': True, 'defau…"
      ]
     },
     "metadata": {},
     "output_type": "display_data"
    }
   ],
   "source": [
    "customer_sql = '''\n",
    "SELECT 고객아이디, 고객이름, 등급 \n",
    "FROM 고객\n",
    "'''\n",
    "\n",
    "cursor.execute(customer_sql)\n",
    "sql_result = cursor.fetchall()\n",
    "sql_result = pd.DataFrame(sql_result)\n",
    "qgrid.show_grid(sql_result)"
   ]
  },
  {
   "cell_type": "code",
   "execution_count": 22,
   "id": "7a7fad83",
   "metadata": {
    "ExecuteTime": {
     "end_time": "2021-06-10T09:07:08.809459Z",
     "start_time": "2021-06-10T09:07:08.801450Z"
    }
   },
   "outputs": [],
   "source": [
    "# DB 연결 닫기\n",
    "db.close()"
   ]
  },
  {
   "cell_type": "code",
   "execution_count": null,
   "id": "9694f1c3",
   "metadata": {},
   "outputs": [],
   "source": []
  }
 ],
 "metadata": {
  "hide_input": false,
  "kernelspec": {
   "display_name": "Python 3",
   "language": "python",
   "name": "python3"
  },
  "language_info": {
   "codemirror_mode": {
    "name": "ipython",
    "version": 3
   },
   "file_extension": ".py",
   "mimetype": "text/x-python",
   "name": "python",
   "nbconvert_exporter": "python",
   "pygments_lexer": "ipython3",
   "version": "3.8.9"
  },
  "toc": {
   "base_numbering": 1,
   "nav_menu": {},
   "number_sections": true,
   "sideBar": true,
   "skip_h1_title": false,
   "title_cell": "Table of Contents",
   "title_sidebar": "Contents",
   "toc_cell": false,
   "toc_position": {},
   "toc_section_display": true,
   "toc_window_display": false
  },
  "varInspector": {
   "cols": {
    "lenName": 16,
    "lenType": 16,
    "lenVar": 40
   },
   "kernels_config": {
    "python": {
     "delete_cmd_postfix": "",
     "delete_cmd_prefix": "del ",
     "library": "var_list.py",
     "varRefreshCmd": "print(var_dic_list())"
    },
    "r": {
     "delete_cmd_postfix": ") ",
     "delete_cmd_prefix": "rm(",
     "library": "var_list.r",
     "varRefreshCmd": "cat(var_dic_list()) "
    }
   },
   "types_to_exclude": [
    "module",
    "function",
    "builtin_function_or_method",
    "instance",
    "_Feature"
   ],
   "window_display": false
  }
 },
 "nbformat": 4,
 "nbformat_minor": 5
}
